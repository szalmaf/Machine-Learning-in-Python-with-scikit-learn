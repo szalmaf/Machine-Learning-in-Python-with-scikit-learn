{
 "cells": [
  {
   "cell_type": "markdown",
   "id": "4b84c628",
   "metadata": {},
   "source": [
    "# 📝 Exercise M6.04\n",
    "\n",
    "The aim of this exercise is to:\n",
    "\n",
    "* **verify if a GBDT tends to overfit** if the **number of estimators** is not\n",
    "  appropriate as previously seen for AdaBoost;\n",
    "* use the **early-stopping strategy** to avoid adding unnecessary trees, to\n",
    "  get the **best statistical performance**.\n",
    "\n",
    "We will use the **California housing dataset** to conduct our experiments."
   ]
  },
  {
   "cell_type": "code",
   "execution_count": null,
   "id": "c1a46240",
   "metadata": {},
   "outputs": [],
   "source": [
    "from sklearn.datasets import fetch_california_housing\n",
    "from sklearn.model_selection import train_test_split\n",
    "\n",
    "data, target = fetch_california_housing(return_X_y=True, as_frame=True)\n",
    "target *= 100  # rescale the target in k$\n",
    "data_train, data_test, target_train, target_test = train_test_split(\n",
    "    data, target, random_state=0, test_size=0.5)"
   ]
  },
  {
   "cell_type": "markdown",
   "id": "e4109464",
   "metadata": {},
   "source": [
    "<div class=\"admonition note alert alert-info\">\n",
    "<p class=\"first admonition-title\" style=\"font-weight: bold;\">Note</p>\n",
    "<p class=\"last\">If you want a deeper overview regarding this dataset, you can refer to the\n",
    "Appendix - Datasets description section at the end of this MOOC.</p>\n",
    "</div>"
   ]
  },
  {
   "cell_type": "markdown",
   "id": "9f52e9c2",
   "metadata": {},
   "source": [
    "Similarly to the previous exercise, create a gradient boosting decision tree\n",
    "and create a validation curve to assess the impact of the number of trees\n",
    "on the statistical performance of the model. Use the mean absolute error\n",
    "to assess the statistical performance of the model."
   ]
  },
  {
   "cell_type": "code",
   "execution_count": null,
   "id": "35979ea0",
   "metadata": {},
   "outputs": [],
   "source": [
    "# Write your code here."
   ]
  },
  {
   "cell_type": "markdown",
   "id": "be27b3b9",
   "metadata": {},
   "source": [
    "Unlike AdaBoost, the gradient boosting model will always improve when\n",
    "increasing the number of trees in the ensemble. However, it will reach a\n",
    "plateau where adding new trees will just make fitting and scoring slower.\n",
    "\n",
    "To avoid adding new unnecessary tree, gradient boosting offers an\n",
    "early-stopping option. Internally, the algorithm will use an out-of-sample\n",
    "set to compute the statistical performance of the model at each addition of a\n",
    "tree. Thus, if the statistical performance are not improving for several\n",
    "iterations, it will stop adding trees.\n",
    "\n",
    "Now, create a gradient-boosting model with `n_estimators=1000`. This number\n",
    "of trees will be too large. Change the parameter `n_iter_no_change` such\n",
    "that the gradient boosting fitting will stop after adding 5 trees that do not\n",
    "improve the overall statistical performance."
   ]
  },
  {
   "cell_type": "code",
   "execution_count": null,
   "id": "2c16e89c",
   "metadata": {},
   "outputs": [],
   "source": [
    "# Write your code here."
   ]
  }
 ],
 "metadata": {
  "jupytext": {
   "cell_metadata_filter": "-all",
   "main_language": "python",
   "notebook_metadata_filter": "-all"
  },
  "kernelspec": {
   "display_name": "Python 3",
   "language": "python",
   "name": "python3"
  },
  "language_info": {
   "codemirror_mode": {
    "name": "ipython",
    "version": 3
   },
   "file_extension": ".py",
   "mimetype": "text/x-python",
   "name": "python",
   "nbconvert_exporter": "python",
   "pygments_lexer": "ipython3",
   "version": "3.9.2"
  },
  "nbreset": "https://github.com/INRIA/scikit-learn-mooc/raw/master/notebooks/ensemble_ex_04.ipynb"
 },
 "nbformat": 4,
 "nbformat_minor": 5
}
