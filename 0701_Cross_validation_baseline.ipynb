{
 "cells": [
  {
   "cell_type": "markdown",
   "id": "6994fcc7",
   "metadata": {},
   "source": [
    "# Comparing results with baseline and chance level\n",
    "\n",
    "In this notebook, we present how to **compare** the **statistical performance of a\n",
    "model** to a **minimal baseline**.\n",
    "\n",
    "Indeed, in the previous notebook, we compared the test error by\n",
    "taking into account the target distribution. A **good practice** is to **compare**\n",
    "the **test error** with a **dummy baseline** and the **chance level**. In\n",
    "regression, we could use the **`DummyRegressor`** and **predict the mean target**\n",
    "without using the data. The **chance level** can be determined by **permuting the\n",
    "labels** and check the difference of result.\n",
    "\n",
    "Let's **conduct an experiment** and **compute** the **score of a model** and the **two baselines**. We start by loading the **California housing dataset**."
   ]
  },
  {
   "cell_type": "markdown",
   "id": "13c36a1d",
   "metadata": {},
   "source": [
    "<div class=\"admonition note alert alert-info\">\n",
    "<p class=\"first admonition-title\" style=\"font-weight: bold;\">Note</p>\n",
    "<p class=\"last\">If you want a deeper overview regarding this dataset, you can refer to the\n",
    "Appendix - Datasets description section at the end of this MOOC.</p>\n",
    "</div>"
   ]
  },
  {
   "cell_type": "code",
   "execution_count": 10,
   "id": "de048c1f",
   "metadata": {},
   "outputs": [],
   "source": [
    "import pandas as pd\n",
    "import matplotlib.pyplot as plt"
   ]
  },
  {
   "cell_type": "code",
   "execution_count": 1,
   "id": "dc78d35e",
   "metadata": {},
   "outputs": [],
   "source": [
    "from sklearn.datasets import fetch_california_housing\n",
    "\n",
    "data, target = fetch_california_housing(return_X_y=True, as_frame=True)\n",
    "target *= 100  # rescale the target in k$"
   ]
  },
  {
   "cell_type": "markdown",
   "id": "335cdced",
   "metadata": {},
   "source": [
    "Across all evaluations, we use a **`ShuffleSplit` cross-validation**."
   ]
  },
  {
   "cell_type": "code",
   "execution_count": 2,
   "id": "8205160d",
   "metadata": {},
   "outputs": [],
   "source": [
    "from sklearn.model_selection import ShuffleSplit\n",
    "\n",
    "cv = ShuffleSplit(n_splits=30, test_size=0.2, random_state=0)"
   ]
  },
  {
   "cell_type": "markdown",
   "id": "7b6ce123",
   "metadata": {},
   "source": [
    "We start by running the **cross-validation for the decision tree\n",
    "regressor** which is our model of interest. Besides, we will store the\n",
    "test error in a pandas series."
   ]
  },
  {
   "cell_type": "code",
   "execution_count": 3,
   "id": "fc2ec977",
   "metadata": {},
   "outputs": [
    {
     "data": {
      "text/plain": [
       "0     46.751859\n",
       "1     47.505424\n",
       "2     44.672231\n",
       "3     43.893813\n",
       "4     47.582701\n",
       "5     44.444394\n",
       "6     43.848003\n",
       "7     45.165667\n",
       "8     45.346721\n",
       "9     45.037613\n",
       "10    46.969619\n",
       "11    45.908055\n",
       "12    45.393062\n",
       "13    45.632601\n",
       "14    47.055271\n",
       "15    44.366973\n",
       "16    46.162134\n",
       "17    46.932089\n",
       "18    44.791098\n",
       "19    47.034344\n",
       "20    42.778312\n",
       "21    45.832887\n",
       "22    45.322522\n",
       "23    46.419373\n",
       "24    46.410557\n",
       "25    45.953581\n",
       "26    44.106564\n",
       "27    46.039309\n",
       "28    45.865614\n",
       "29    47.829671\n",
       "Name: Regressor error, dtype: float64"
      ]
     },
     "execution_count": 3,
     "metadata": {},
     "output_type": "execute_result"
    }
   ],
   "source": [
    "from sklearn.tree import DecisionTreeRegressor\n",
    "from sklearn.model_selection import cross_validate\n",
    "\n",
    "regressor = DecisionTreeRegressor()\n",
    "result_regressor = cross_validate(regressor, data, target,\n",
    "                                  cv=cv, scoring=\"neg_mean_absolute_error\",\n",
    "                                  n_jobs=-1)\n",
    "\n",
    "errors_regressor = pd.Series(-result_regressor[\"test_score\"],\n",
    "                             name=\"Regressor error\")\n",
    "errors_regressor"
   ]
  },
  {
   "cell_type": "markdown",
   "id": "c8c93c89",
   "metadata": {},
   "source": [
    "Then, we evaluate our first **baseline** via the **dummy\n",
    "regressor**. This dummy regressor's **prediction on the target is the mean of the training set**. Therefore, the dummy regressor will never use any\n",
    "information regarding the data `target`."
   ]
  },
  {
   "cell_type": "code",
   "execution_count": 4,
   "id": "2680a7f1",
   "metadata": {},
   "outputs": [
    {
     "data": {
      "text/plain": [
       "0     90.713153\n",
       "1     90.539353\n",
       "2     91.941912\n",
       "3     90.213912\n",
       "4     92.015862\n",
       "5     90.542490\n",
       "6     89.757566\n",
       "7     92.477244\n",
       "8     90.947952\n",
       "9     91.991373\n",
       "10    92.023571\n",
       "11    90.556965\n",
       "12    91.539567\n",
       "13    91.185225\n",
       "14    92.298971\n",
       "15    91.084639\n",
       "16    90.984471\n",
       "17    89.981744\n",
       "18    90.547140\n",
       "19    89.820219\n",
       "20    91.768721\n",
       "21    92.305556\n",
       "22    90.503017\n",
       "23    92.147974\n",
       "24    91.386320\n",
       "25    90.815660\n",
       "26    92.216574\n",
       "27    90.107460\n",
       "28    90.620318\n",
       "29    91.165331\n",
       "Name: Dummy error, dtype: float64"
      ]
     },
     "execution_count": 4,
     "metadata": {},
     "output_type": "execute_result"
    }
   ],
   "source": [
    "from sklearn.dummy import DummyRegressor\n",
    "\n",
    "dummy = DummyRegressor()\n",
    "result_dummy = cross_validate(dummy, data, target,\n",
    "                              cv=cv, scoring=\"neg_mean_absolute_error\",\n",
    "                              n_jobs=-1)\n",
    "errors_dummy = pd.Series(-result_dummy[\"test_score\"], name=\"Dummy error\")\n",
    "errors_dummy"
   ]
  },
  {
   "cell_type": "markdown",
   "id": "1d0e8e68",
   "metadata": {},
   "source": [
    "Finally, we evaluate the statistical performance of the **second baseline**.\n",
    "This baseline provides the **statistical performance of the chance level**.\n",
    "Indeed, we **train a decision tree on some training data** and **evaluate the\n",
    "same tree on data** where the **target vector has been randomized**."
   ]
  },
  {
   "cell_type": "code",
   "execution_count": 5,
   "id": "bb54a0aa",
   "metadata": {},
   "outputs": [],
   "source": [
    "from sklearn.model_selection import permutation_test_score\n",
    "\n",
    "regressor = DecisionTreeRegressor()\n",
    "score, permutation_score, pvalue = permutation_test_score(\n",
    "    regressor, data, target, cv=cv, scoring=\"neg_mean_absolute_error\",\n",
    "    n_jobs=-1, n_permutations=30)\n",
    "errors_permutation = pd.Series(-permutation_score, name=\"Permuted error\")"
   ]
  },
  {
   "cell_type": "code",
   "execution_count": 40,
   "id": "f5f80664",
   "metadata": {},
   "outputs": [
    {
     "data": {
      "text/plain": [
       "(0.03225806451612903, 45.698201962209296)"
      ]
     },
     "execution_count": 40,
     "metadata": {},
     "output_type": "execute_result"
    }
   ],
   "source": [
    "pvalue, -score"
   ]
  },
  {
   "cell_type": "markdown",
   "id": "31352b76",
   "metadata": {},
   "source": [
    "The **low p-value** suggests that the **regressor does find structure** in the data."
   ]
  },
  {
   "cell_type": "code",
   "execution_count": 39,
   "id": "e079898f",
   "metadata": {},
   "outputs": [
    {
     "data": {
      "image/png": "[encoded data removed]",
      "text/plain": [
       "<Figure size 432x288 with 1 Axes>"
      ]
     },
     "metadata": {
      "needs_background": "light"
     },
     "output_type": "display_data"
    }
   ],
   "source": [
    "fig, ax = plt.subplots()\n",
    "_ = ax.hist(-permutation_score, density=True, bins=5, color='g')\n",
    "ax.axvline(-score, ls='--', color='b')\n",
    "score_label = (f\"MAE on original data: {-score:.2f}\\n\"\n",
    "               f\"p-value: {pvalue:.3f}\")\n",
    "ax.text(70, 1, score_label, fontsize=12)\n",
    "ax.set_xlabel(\"Mean absolute error MAE\")\n",
    "_ = ax.set_ylabel(\"Probability\")"
   ]
  },
  {
   "cell_type": "markdown",
   "id": "8b5dda03",
   "metadata": {},
   "source": [
    "Finally, we **plot the test errors for the two baselines and the\n",
    "actual regressor**."
   ]
  },
  {
   "cell_type": "code",
   "execution_count": 7,
   "id": "e6557b79",
   "metadata": {},
   "outputs": [
    {
     "data": {
      "text/html": [
       "<div>\n",
       "<style scoped>\n",
       "    .dataframe tbody tr th:only-of-type {\n",
       "        vertical-align: middle;\n",
       "    }\n",
       "\n",
       "    .dataframe tbody tr th {\n",
       "        vertical-align: top;\n",
       "    }\n",
       "\n",
       "    .dataframe thead th {\n",
       "        text-align: right;\n",
       "    }\n",
       "</style>\n",
       "<table border=\"1\" class=\"dataframe\">\n",
       "  <thead>\n",
       "    <tr style=\"text-align: right;\">\n",
       "      <th></th>\n",
       "      <th>Regressor error</th>\n",
       "      <th>Dummy error</th>\n",
       "      <th>Permuted error</th>\n",
       "    </tr>\n",
       "  </thead>\n",
       "  <tbody>\n",
       "    <tr>\n",
       "      <th>0</th>\n",
       "      <td>47.484587</td>\n",
       "      <td>90.713153</td>\n",
       "      <td>128.946911</td>\n",
       "    </tr>\n",
       "    <tr>\n",
       "      <th>1</th>\n",
       "      <td>46.853196</td>\n",
       "      <td>90.539353</td>\n",
       "      <td>129.243758</td>\n",
       "    </tr>\n",
       "    <tr>\n",
       "      <th>2</th>\n",
       "      <td>44.429401</td>\n",
       "      <td>91.941912</td>\n",
       "      <td>129.067795</td>\n",
       "    </tr>\n",
       "    <tr>\n",
       "      <th>3</th>\n",
       "      <td>43.541756</td>\n",
       "      <td>90.213912</td>\n",
       "      <td>128.956908</td>\n",
       "    </tr>\n",
       "    <tr>\n",
       "      <th>4</th>\n",
       "      <td>47.573179</td>\n",
       "      <td>92.015862</td>\n",
       "      <td>128.721844</td>\n",
       "    </tr>\n",
       "    <tr>\n",
       "      <th>5</th>\n",
       "      <td>44.495194</td>\n",
       "      <td>90.542490</td>\n",
       "      <td>129.358476</td>\n",
       "    </tr>\n",
       "    <tr>\n",
       "      <th>6</th>\n",
       "      <td>44.278601</td>\n",
       "      <td>89.757566</td>\n",
       "      <td>130.103717</td>\n",
       "    </tr>\n",
       "    <tr>\n",
       "      <th>7</th>\n",
       "      <td>44.333666</td>\n",
       "      <td>92.477244</td>\n",
       "      <td>128.959787</td>\n",
       "    </tr>\n",
       "    <tr>\n",
       "      <th>8</th>\n",
       "      <td>44.829496</td>\n",
       "      <td>90.947952</td>\n",
       "      <td>128.979591</td>\n",
       "    </tr>\n",
       "    <tr>\n",
       "      <th>9</th>\n",
       "      <td>44.770120</td>\n",
       "      <td>91.991373</td>\n",
       "      <td>129.318438</td>\n",
       "    </tr>\n",
       "    <tr>\n",
       "      <th>10</th>\n",
       "      <td>46.790087</td>\n",
       "      <td>92.023571</td>\n",
       "      <td>129.411273</td>\n",
       "    </tr>\n",
       "    <tr>\n",
       "      <th>11</th>\n",
       "      <td>46.207622</td>\n",
       "      <td>90.556965</td>\n",
       "      <td>129.831375</td>\n",
       "    </tr>\n",
       "    <tr>\n",
       "      <th>12</th>\n",
       "      <td>45.512417</td>\n",
       "      <td>91.539567</td>\n",
       "      <td>128.958325</td>\n",
       "    </tr>\n",
       "    <tr>\n",
       "      <th>13</th>\n",
       "      <td>45.697331</td>\n",
       "      <td>91.185225</td>\n",
       "      <td>129.344928</td>\n",
       "    </tr>\n",
       "    <tr>\n",
       "      <th>14</th>\n",
       "      <td>46.886691</td>\n",
       "      <td>92.298971</td>\n",
       "      <td>129.686592</td>\n",
       "    </tr>\n",
       "    <tr>\n",
       "      <th>15</th>\n",
       "      <td>44.135167</td>\n",
       "      <td>91.084639</td>\n",
       "      <td>129.354651</td>\n",
       "    </tr>\n",
       "    <tr>\n",
       "      <th>16</th>\n",
       "      <td>46.233260</td>\n",
       "      <td>90.984471</td>\n",
       "      <td>128.989250</td>\n",
       "    </tr>\n",
       "    <tr>\n",
       "      <th>17</th>\n",
       "      <td>46.295145</td>\n",
       "      <td>89.981744</td>\n",
       "      <td>128.924921</td>\n",
       "    </tr>\n",
       "    <tr>\n",
       "      <th>18</th>\n",
       "      <td>45.456510</td>\n",
       "      <td>90.547140</td>\n",
       "      <td>129.091250</td>\n",
       "    </tr>\n",
       "    <tr>\n",
       "      <th>19</th>\n",
       "      <td>47.201399</td>\n",
       "      <td>89.820219</td>\n",
       "      <td>129.444771</td>\n",
       "    </tr>\n",
       "    <tr>\n",
       "      <th>20</th>\n",
       "      <td>43.257430</td>\n",
       "      <td>91.768721</td>\n",
       "      <td>129.233738</td>\n",
       "    </tr>\n",
       "    <tr>\n",
       "      <th>21</th>\n",
       "      <td>45.655078</td>\n",
       "      <td>92.305556</td>\n",
       "      <td>129.116321</td>\n",
       "    </tr>\n",
       "    <tr>\n",
       "      <th>22</th>\n",
       "      <td>45.317894</td>\n",
       "      <td>90.503017</td>\n",
       "      <td>128.992330</td>\n",
       "    </tr>\n",
       "    <tr>\n",
       "      <th>23</th>\n",
       "      <td>46.905178</td>\n",
       "      <td>92.147974</td>\n",
       "      <td>129.645879</td>\n",
       "    </tr>\n",
       "    <tr>\n",
       "      <th>24</th>\n",
       "      <td>46.312568</td>\n",
       "      <td>91.386320</td>\n",
       "      <td>129.422444</td>\n",
       "    </tr>\n",
       "    <tr>\n",
       "      <th>25</th>\n",
       "      <td>45.738342</td>\n",
       "      <td>90.815660</td>\n",
       "      <td>129.365589</td>\n",
       "    </tr>\n",
       "    <tr>\n",
       "      <th>26</th>\n",
       "      <td>44.468507</td>\n",
       "      <td>92.216574</td>\n",
       "      <td>129.373174</td>\n",
       "    </tr>\n",
       "    <tr>\n",
       "      <th>27</th>\n",
       "      <td>46.444688</td>\n",
       "      <td>90.107460</td>\n",
       "      <td>129.277901</td>\n",
       "    </tr>\n",
       "    <tr>\n",
       "      <th>28</th>\n",
       "      <td>45.594125</td>\n",
       "      <td>90.620318</td>\n",
       "      <td>128.893103</td>\n",
       "    </tr>\n",
       "    <tr>\n",
       "      <th>29</th>\n",
       "      <td>47.476667</td>\n",
       "      <td>91.165331</td>\n",
       "      <td>129.441029</td>\n",
       "    </tr>\n",
       "  </tbody>\n",
       "</table>\n",
       "</div>"
      ],
      "text/plain": [
       "    Regressor error  Dummy error  Permuted error\n",
       "0         47.484587    90.713153      128.946911\n",
       "1         46.853196    90.539353      129.243758\n",
       "2         44.429401    91.941912      129.067795\n",
       "3         43.541756    90.213912      128.956908\n",
       "4         47.573179    92.015862      128.721844\n",
       "5         44.495194    90.542490      129.358476\n",
       "6         44.278601    89.757566      130.103717\n",
       "7         44.333666    92.477244      128.959787\n",
       "8         44.829496    90.947952      128.979591\n",
       "9         44.770120    91.991373      129.318438\n",
       "10        46.790087    92.023571      129.411273\n",
       "11        46.207622    90.556965      129.831375\n",
       "12        45.512417    91.539567      128.958325\n",
       "13        45.697331    91.185225      129.344928\n",
       "14        46.886691    92.298971      129.686592\n",
       "15        44.135167    91.084639      129.354651\n",
       "16        46.233260    90.984471      128.989250\n",
       "17        46.295145    89.981744      128.924921\n",
       "18        45.456510    90.547140      129.091250\n",
       "19        47.201399    89.820219      129.444771\n",
       "20        43.257430    91.768721      129.233738\n",
       "21        45.655078    92.305556      129.116321\n",
       "22        45.317894    90.503017      128.992330\n",
       "23        46.905178    92.147974      129.645879\n",
       "24        46.312568    91.386320      129.422444\n",
       "25        45.738342    90.815660      129.365589\n",
       "26        44.468507    92.216574      129.373174\n",
       "27        46.444688    90.107460      129.277901\n",
       "28        45.594125    90.620318      128.893103\n",
       "29        47.476667    91.165331      129.441029"
      ]
     },
     "execution_count": 7,
     "metadata": {},
     "output_type": "execute_result"
    }
   ],
   "source": [
    "final_errors = pd.concat([errors_regressor, errors_dummy, errors_permutation],\n",
    "                         axis=1)\n",
    "final_errors"
   ]
  },
  {
   "cell_type": "code",
   "execution_count": 9,
   "id": "e91dd850",
   "metadata": {},
   "outputs": [
    {
     "data": {
      "image/png": "[encoded data removed]",
      "text/plain": [
       "<Figure size 432x288 with 1 Axes>"
      ]
     },
     "metadata": {
      "needs_background": "light"
     },
     "output_type": "display_data"
    }
   ],
   "source": [
    "final_errors.plot.hist(bins=50, density=True, edgecolor=\"black\")\n",
    "plt.legend(bbox_to_anchor=(1.05, 0.8), loc=\"upper left\")\n",
    "plt.xlabel(\"Mean absolute error (k$)\")\n",
    "_ = plt.title(\"Distribution of the testing errors\")"
   ]
  },
  {
   "cell_type": "markdown",
   "id": "fb7c2715",
   "metadata": {},
   "source": [
    "We see that even if the **statistical performance of our model**, the decision tree model, is far from\n",
    "being good, it is **better than** the two **baselines**. Besides, we see that the\n",
    "**dummy regressor** is **better than** a **chance level regressor**.\n",
    "\n",
    "**In practice**, using a **dummy regressor might be sufficient as a baseline**.\n",
    "Indeed, to obtain a reliable estimate the permutation of the target should\n",
    "be repeated and thus this method is costly. However, it gives the true\n",
    "chance level."
   ]
  },
  {
   "cell_type": "code",
   "execution_count": null,
   "id": "3b9eef32",
   "metadata": {},
   "outputs": [],
   "source": []
  }
 ],
 "metadata": {
  "jupytext": {
   "cell_metadata_filter": "-all",
   "main_language": "python",
   "notebook_metadata_filter": "-all"
  },
  "kernelspec": {
   "display_name": "Python 3",
   "language": "python",
   "name": "python3"
  },
  "language_info": {
   "codemirror_mode": {
    "name": "ipython",
    "version": 3
   },
   "file_extension": ".py",
   "mimetype": "text/x-python",
   "name": "python",
   "nbconvert_exporter": "python",
   "pygments_lexer": "ipython3",
   "version": "3.9.2"
  },
  "nbreset": "https://github.com/INRIA/scikit-learn-mooc/raw/master/notebooks/cross_validation_baseline.ipynb"
 },
 "nbformat": 4,
 "nbformat_minor": 5
}
