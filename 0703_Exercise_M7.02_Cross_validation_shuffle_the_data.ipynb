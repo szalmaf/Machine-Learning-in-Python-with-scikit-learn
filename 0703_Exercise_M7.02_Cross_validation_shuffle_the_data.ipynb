{
 "cells": [
  {
   "cell_type": "markdown",
   "id": "95451649",
   "metadata": {},
   "source": [
    "# 📝 Introductory exercise regarding stratification\n",
    "\n",
    "The goal of this exercise is to **highlight one limitation** of\n",
    "applying **blindly a k-fold cross-validation**.\n",
    "\n",
    "In this exercise we will use the **iris dataset**."
   ]
  },
  {
   "cell_type": "code",
   "execution_count": 1,
   "id": "aaead5ac",
   "metadata": {},
   "outputs": [],
   "source": [
    "from sklearn.datasets import load_iris\n",
    "\n",
    "data, target = load_iris(return_X_y=True, as_frame=True)"
   ]
  },
  {
   "cell_type": "markdown",
   "id": "f0667606",
   "metadata": {},
   "source": [
    "Create a **decision tree classifier** that we will use in the next experiments."
   ]
  },
  {
   "cell_type": "code",
   "execution_count": 2,
   "id": "6b41671b",
   "metadata": {},
   "outputs": [],
   "source": [
    "from sklearn.tree import DecisionTreeClassifier\n",
    "\n",
    "model = DecisionTreeClassifier()"
   ]
  },
  {
   "cell_type": "markdown",
   "id": "62a3ffd4",
   "metadata": {},
   "source": [
    "As a **first experiment**, use the utility\n",
    "**`sklearn.model_selection.train_test_split`** to split the data into a train\n",
    "and test set. **Train the classifier** using the train set and check the **score\n",
    "on the test set**."
   ]
  },
  {
   "cell_type": "code",
   "execution_count": 3,
   "id": "1d5fd494",
   "metadata": {},
   "outputs": [
    {
     "data": {
      "text/plain": [
       "0.98"
      ]
     },
     "execution_count": 3,
     "metadata": {},
     "output_type": "execute_result"
    }
   ],
   "source": [
    "from sklearn.model_selection import train_test_split\n",
    "\n",
    "data_train, data_test, target_train, target_test = train_test_split(data, target, test_size=.33)\n",
    "model.fit(data_train, target_train)\n",
    "score1 = sum(model.predict(data_test) == target_test)/len(target_test)\n",
    "score1"
   ]
  },
  {
   "cell_type": "markdown",
   "id": "03a76ec2",
   "metadata": {},
   "source": [
    "Now, use the utility `sklearn.utils.cross_val_score` with a\n",
    "`sklearn.model_selection.KFold` by setting only `n_splits=3`. Check the\n",
    "results on each fold. Explain the results."
   ]
  },
  {
   "cell_type": "code",
   "execution_count": 4,
   "id": "cb14e31e",
   "metadata": {},
   "outputs": [
    {
     "data": {
      "text/plain": [
       "array([0., 0., 0.])"
      ]
     },
     "execution_count": 4,
     "metadata": {},
     "output_type": "execute_result"
    }
   ],
   "source": [
    "from sklearn.model_selection import cross_val_score\n",
    "from sklearn.model_selection import KFold\n",
    "\n",
    "cv = KFold(n_splits=3)  # , shuffle=True)\n",
    "score = cross_val_score(model, data, target, cv=cv)\n",
    "score"
   ]
  },
  {
   "cell_type": "markdown",
   "id": "38ec6dfd",
   "metadata": {},
   "source": [
    "If the data set is ordered, we might train the model on one class while test on another class which leads to a result of zero accuracy. You need to **shuffle the data!!**"
   ]
  },
  {
   "cell_type": "code",
   "execution_count": null,
   "id": "a580753a",
   "metadata": {},
   "outputs": [],
   "source": []
  }
 ],
 "metadata": {
  "jupytext": {
   "cell_metadata_filter": "-all",
   "main_language": "python",
   "notebook_metadata_filter": "-all"
  },
  "kernelspec": {
   "display_name": "Python 3",
   "language": "python",
   "name": "python3"
  },
  "language_info": {
   "codemirror_mode": {
    "name": "ipython",
    "version": 3
   },
   "file_extension": ".py",
   "mimetype": "text/x-python",
   "name": "python",
   "nbconvert_exporter": "python",
   "pygments_lexer": "ipython3",
   "version": "3.9.2"
  },
  "nbreset": "https://github.com/INRIA/scikit-learn-mooc/raw/master/notebooks/cross_validation_ex_03.ipynb"
 },
 "nbformat": 4,
 "nbformat_minor": 5
}
