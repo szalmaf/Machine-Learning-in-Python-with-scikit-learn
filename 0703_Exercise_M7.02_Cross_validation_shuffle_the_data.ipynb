{
 "cells": [
  {
   "cell_type": "markdown",
   "id": "95451649",
   "metadata": {},
   "source": [
    "# 📝 Introductory exercise regarding stratification\n",
    "\n",
    "The goal of this exercise is to **highlight one limitation** of\n",
    "applying **blindly a k-fold cross-validation**.\n",
    "\n",
    "In this exercise we will use the **iris dataset**."
   ]
  },
  {
   "cell_type": "code",
   "execution_count": 1,
   "id": "aaead5ac",
   "metadata": {},
   "outputs": [],
   "source": [
    "from sklearn.datasets import load_iris\n",
    "\n",
    "data, target = load_iris(return_X_y=True, as_frame=True)"
   ]
  },
  {
   "cell_type": "markdown",
   "id": "f0667606",
   "metadata": {},
   "source": [
    "Create a **decision tree classifier** that we will use in the next experiments."
   ]
  },
  {
   "cell_type": "code",
   "execution_count": 2,
   "id": "6b41671b",
   "metadata": {},
   "outputs": [],
   "source": [
    "from sklearn.tree import DecisionTreeClassifier\n",
    "\n",
    "model = DecisionTreeClassifier()"
   ]
  },
  {
   "cell_type": "markdown",
   "id": "62a3ffd4",
   "metadata": {},
   "source": [
    "As a **first experiment**, use the utility\n",
    "**`sklearn.model_selection.train_test_split`** to split the data into a train\n",
    "and test set. **Train the classifier** using the train set and check the **score\n",
    "on the test set**."
   ]
  },
  {
   "cell_type": "code",
   "execution_count": 3,
   "id": "1d5fd494",
   "metadata": {},
   "outputs": [
    {
     "data": {
      "text/plain": [
       "0.98"
      ]
     },
     "execution_count": 3,
     "metadata": {},
     "output_type": "execute_result"
    }
   ],
   "source": [
    "from sklearn.model_selection import train_test_split\n",
    "\n",
    "data_train, data_test, target_train, target_test = train_test_split(data, target, test_size=.33)\n",
    "model.fit(data_train, target_train)\n",
    "score1 = sum(model.predict(data_test) == target_test)/len(target_test)\n",
    "score1"
   ]
  },
  {
   "cell_type": "markdown",
   "id": "03a76ec2",
   "metadata": {},
   "source": [
    "Now, use the utility `sklearn.utils.cross_val_score` with a\n",
    "`sklearn.model_selection.KFold` by setting only `n_splits=3`. Check the\n",
    "results on each fold. Explain the results."
   ]
  },
  {
   "cell_type": "code",
   "execution_count": 4,
   "id": "cb14e31e",
   "metadata": {},
   "outputs": [
    {
     "data": {
      "text/plain": [
       "array([0., 0., 0.])"
      ]
     },
     "execution_count": 4,
     "metadata": {},
     "output_type": "execute_result"
    }
   ],
   "source": [
    "from sklearn.model_selection import cross_val_score\n",
    "from sklearn.model_selection import KFold\n",
    "\n",
    "cv = KFold(n_splits=3)  # , shuffle=True)\n",
    "score = cross_val_score(model, data, target, cv=cv)\n",
    "score"
   ]
  },
  {
   "cell_type": "markdown",
   "id": "38ec6dfd",
   "metadata": {},
   "source": [
    "If the data set is ordered, we might train the model on one class while test on another class which leads to a result of zero accuracy. You need to **shuffle the data!!**"
   ]
  },
  {
   "cell_type": "code",
   "execution_count": 9,
   "id": "a580753a",
   "metadata": {},
   "outputs": [
    {
     "data": {
      "text/plain": [
       "0     True\n",
       "1     True\n",
       "2     True\n",
       "3     True\n",
       "4     True\n",
       "5     True\n",
       "6     True\n",
       "7     True\n",
       "8     True\n",
       "9     True\n",
       "10    True\n",
       "11    True\n",
       "12    True\n",
       "13    True\n",
       "14    True\n",
       "15    True\n",
       "16    True\n",
       "17    True\n",
       "18    True\n",
       "19    True\n",
       "20    True\n",
       "21    True\n",
       "22    True\n",
       "23    True\n",
       "24    True\n",
       "25    True\n",
       "26    True\n",
       "27    True\n",
       "28    True\n",
       "29    True\n",
       "30    True\n",
       "31    True\n",
       "32    True\n",
       "33    True\n",
       "34    True\n",
       "35    True\n",
       "36    True\n",
       "37    True\n",
       "38    True\n",
       "39    True\n",
       "40    True\n",
       "41    True\n",
       "42    True\n",
       "43    True\n",
       "44    True\n",
       "45    True\n",
       "46    True\n",
       "47    True\n",
       "48    True\n",
       "49    True\n",
       "Name: target, dtype: bool"
      ]
     },
     "execution_count": 9,
     "metadata": {},
     "output_type": "execute_result"
    }
   ],
   "source": [
    "target[:50] == 0"
   ]
  },
  {
   "cell_type": "code",
   "execution_count": 10,
   "id": "49ccc5eb",
   "metadata": {},
   "outputs": [
    {
     "data": {
      "text/plain": [
       "50    True\n",
       "51    True\n",
       "52    True\n",
       "53    True\n",
       "54    True\n",
       "55    True\n",
       "56    True\n",
       "57    True\n",
       "58    True\n",
       "59    True\n",
       "60    True\n",
       "61    True\n",
       "62    True\n",
       "63    True\n",
       "64    True\n",
       "65    True\n",
       "66    True\n",
       "67    True\n",
       "68    True\n",
       "69    True\n",
       "70    True\n",
       "71    True\n",
       "72    True\n",
       "73    True\n",
       "74    True\n",
       "75    True\n",
       "76    True\n",
       "77    True\n",
       "78    True\n",
       "79    True\n",
       "80    True\n",
       "81    True\n",
       "82    True\n",
       "83    True\n",
       "84    True\n",
       "85    True\n",
       "86    True\n",
       "87    True\n",
       "88    True\n",
       "89    True\n",
       "90    True\n",
       "91    True\n",
       "92    True\n",
       "93    True\n",
       "94    True\n",
       "95    True\n",
       "96    True\n",
       "97    True\n",
       "98    True\n",
       "99    True\n",
       "Name: target, dtype: bool"
      ]
     },
     "execution_count": 10,
     "metadata": {},
     "output_type": "execute_result"
    }
   ],
   "source": [
    "target[50:100] == 1"
   ]
  },
  {
   "cell_type": "code",
   "execution_count": 11,
   "id": "4f721372",
   "metadata": {},
   "outputs": [
    {
     "data": {
      "text/plain": [
       "100    True\n",
       "101    True\n",
       "102    True\n",
       "103    True\n",
       "104    True\n",
       "105    True\n",
       "106    True\n",
       "107    True\n",
       "108    True\n",
       "109    True\n",
       "110    True\n",
       "111    True\n",
       "112    True\n",
       "113    True\n",
       "114    True\n",
       "115    True\n",
       "116    True\n",
       "117    True\n",
       "118    True\n",
       "119    True\n",
       "120    True\n",
       "121    True\n",
       "122    True\n",
       "123    True\n",
       "124    True\n",
       "125    True\n",
       "126    True\n",
       "127    True\n",
       "128    True\n",
       "129    True\n",
       "130    True\n",
       "131    True\n",
       "132    True\n",
       "133    True\n",
       "134    True\n",
       "135    True\n",
       "136    True\n",
       "137    True\n",
       "138    True\n",
       "139    True\n",
       "140    True\n",
       "141    True\n",
       "142    True\n",
       "143    True\n",
       "144    True\n",
       "145    True\n",
       "146    True\n",
       "147    True\n",
       "148    True\n",
       "149    True\n",
       "Name: target, dtype: bool"
      ]
     },
     "execution_count": 11,
     "metadata": {},
     "output_type": "execute_result"
    }
   ],
   "source": [
    "target[100:150] == 2"
   ]
  },
  {
   "cell_type": "code",
   "execution_count": null,
   "id": "531e5326",
   "metadata": {},
   "outputs": [],
   "source": []
  }
 ],
 "metadata": {
  "jupytext": {
   "cell_metadata_filter": "-all",
   "main_language": "python",
   "notebook_metadata_filter": "-all"
  },
  "kernelspec": {
   "display_name": "Python 3",
   "language": "python",
   "name": "python3"
  },
  "language_info": {
   "codemirror_mode": {
    "name": "ipython",
    "version": 3
   },
   "file_extension": ".py",
   "mimetype": "text/x-python",
   "name": "python",
   "nbconvert_exporter": "python",
   "pygments_lexer": "ipython3",
   "version": "3.9.2"
  },
  "nbreset": "https://github.com/INRIA/scikit-learn-mooc/raw/master/notebooks/cross_validation_ex_03.ipynb"
 },
 "nbformat": 4,
 "nbformat_minor": 5
}
