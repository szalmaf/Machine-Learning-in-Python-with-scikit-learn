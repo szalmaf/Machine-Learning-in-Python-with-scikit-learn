{
 "cells": [
  {
   "cell_type": "markdown",
   "id": "1087af56",
   "metadata": {},
   "source": [
    "# Linear model for classification\n",
    "In regression, we saw that the target to be predicted was a continuous\n",
    "variable. In **classification**, this **target** will be **discrete** (e.g. **categorical**).\n",
    "\n",
    "We will go back to our **penguin dataset**. However, this time we will try to\n",
    "**predict the penguin species** using the **culmen information**. We will also\n",
    "simplify our classification problem by selecting only 2 of the penguin\n",
    "species to solve a **binary classification problem**."
   ]
  },
  {
   "cell_type": "markdown",
   "id": "c9da06a1",
   "metadata": {},
   "source": [
    "<div class=\"admonition note alert alert-info\">\n",
    "<p class=\"first admonition-title\" style=\"font-weight: bold;\">Note</p>\n",
    "<p class=\"last\">If you want a deeper overview regarding this dataset, you can refer to the\n",
    "Appendix - Datasets description section at the end of this MOOC.</p>\n",
    "</div>"
   ]
  },
  {
   "cell_type": "code",
   "execution_count": 18,
   "id": "2bd6a018",
   "metadata": {},
   "outputs": [],
   "source": [
    "import pandas as pd\n",
    "\n",
    "penguins = pd.read_csv(\"../datasets/penguins_classification.csv\")"
   ]
  },
  {
   "cell_type": "code",
   "execution_count": 19,
   "id": "dea301d6",
   "metadata": {},
   "outputs": [],
   "source": [
    "# only keep the Adelie and Chinstrap classes\n",
    "penguins = penguins.set_index(\"Species\").loc[\n",
    "    [\"Adelie\", \"Chinstrap\"]].reset_index()\n",
    "culmen_columns = [\"Culmen Length (mm)\", \"Culmen Depth (mm)\"]\n",
    "target_column = \"Species\""
   ]
  },
  {
   "cell_type": "code",
   "execution_count": 20,
   "id": "0891a090",
   "metadata": {},
   "outputs": [
    {
     "data": {
      "text/html": [
       "<div>\n",
       "<style scoped>\n",
       "    .dataframe tbody tr th:only-of-type {\n",
       "        vertical-align: middle;\n",
       "    }\n",
       "\n",
       "    .dataframe tbody tr th {\n",
       "        vertical-align: top;\n",
       "    }\n",
       "\n",
       "    .dataframe thead th {\n",
       "        text-align: right;\n",
       "    }\n",
       "</style>\n",
       "<table border=\"1\" class=\"dataframe\">\n",
       "  <thead>\n",
       "    <tr style=\"text-align: right;\">\n",
       "      <th></th>\n",
       "      <th>Species</th>\n",
       "      <th>Culmen Length (mm)</th>\n",
       "      <th>Culmen Depth (mm)</th>\n",
       "    </tr>\n",
       "  </thead>\n",
       "  <tbody>\n",
       "    <tr>\n",
       "      <th>0</th>\n",
       "      <td>Adelie</td>\n",
       "      <td>39.1</td>\n",
       "      <td>18.7</td>\n",
       "    </tr>\n",
       "    <tr>\n",
       "      <th>1</th>\n",
       "      <td>Adelie</td>\n",
       "      <td>39.5</td>\n",
       "      <td>17.4</td>\n",
       "    </tr>\n",
       "    <tr>\n",
       "      <th>2</th>\n",
       "      <td>Adelie</td>\n",
       "      <td>40.3</td>\n",
       "      <td>18.0</td>\n",
       "    </tr>\n",
       "    <tr>\n",
       "      <th>3</th>\n",
       "      <td>Adelie</td>\n",
       "      <td>36.7</td>\n",
       "      <td>19.3</td>\n",
       "    </tr>\n",
       "    <tr>\n",
       "      <th>4</th>\n",
       "      <td>Adelie</td>\n",
       "      <td>39.3</td>\n",
       "      <td>20.6</td>\n",
       "    </tr>\n",
       "    <tr>\n",
       "      <th>...</th>\n",
       "      <td>...</td>\n",
       "      <td>...</td>\n",
       "      <td>...</td>\n",
       "    </tr>\n",
       "    <tr>\n",
       "      <th>214</th>\n",
       "      <td>Chinstrap</td>\n",
       "      <td>55.8</td>\n",
       "      <td>19.8</td>\n",
       "    </tr>\n",
       "    <tr>\n",
       "      <th>215</th>\n",
       "      <td>Chinstrap</td>\n",
       "      <td>43.5</td>\n",
       "      <td>18.1</td>\n",
       "    </tr>\n",
       "    <tr>\n",
       "      <th>216</th>\n",
       "      <td>Chinstrap</td>\n",
       "      <td>49.6</td>\n",
       "      <td>18.2</td>\n",
       "    </tr>\n",
       "    <tr>\n",
       "      <th>217</th>\n",
       "      <td>Chinstrap</td>\n",
       "      <td>50.8</td>\n",
       "      <td>19.0</td>\n",
       "    </tr>\n",
       "    <tr>\n",
       "      <th>218</th>\n",
       "      <td>Chinstrap</td>\n",
       "      <td>50.2</td>\n",
       "      <td>18.7</td>\n",
       "    </tr>\n",
       "  </tbody>\n",
       "</table>\n",
       "<p>219 rows × 3 columns</p>\n",
       "</div>"
      ],
      "text/plain": [
       "       Species  Culmen Length (mm)  Culmen Depth (mm)\n",
       "0       Adelie                39.1               18.7\n",
       "1       Adelie                39.5               17.4\n",
       "2       Adelie                40.3               18.0\n",
       "3       Adelie                36.7               19.3\n",
       "4       Adelie                39.3               20.6\n",
       "..         ...                 ...                ...\n",
       "214  Chinstrap                55.8               19.8\n",
       "215  Chinstrap                43.5               18.1\n",
       "216  Chinstrap                49.6               18.2\n",
       "217  Chinstrap                50.8               19.0\n",
       "218  Chinstrap                50.2               18.7\n",
       "\n",
       "[219 rows x 3 columns]"
      ]
     },
     "execution_count": 20,
     "metadata": {},
     "output_type": "execute_result"
    }
   ],
   "source": [
    "penguins"
   ]
  },
  {
   "cell_type": "markdown",
   "id": "534d47a2",
   "metadata": {},
   "source": [
    "We can quickly start by visualizing the feature distribution by class:"
   ]
  },
  {
   "cell_type": "code",
   "execution_count": 23,
   "id": "6d4c1885",
   "metadata": {},
   "outputs": [
    {
     "data": {
      "image/png": "[encoded data removed]",
      "text/plain": [
       "<Figure size 432x288 with 1 Axes>"
      ]
     },
     "metadata": {
      "needs_background": "light"
     },
     "output_type": "display_data"
    },
    {
     "data": {
      "image/png": "[encoded data removed]",
      "text/plain": [
       "<Figure size 432x288 with 1 Axes>"
      ]
     },
     "metadata": {
      "needs_background": "light"
     },
     "output_type": "display_data"
    }
   ],
   "source": [
    "import matplotlib.pyplot as plt\n",
    "\n",
    "for feature_name in culmen_columns:\n",
    "    plt.figure()\n",
    "    # plot the histogram for each species\n",
    "    penguins.groupby(\"Species\")[feature_name].plot.hist(\n",
    "        alpha=0.5, density=True, legend=True)\n",
    "    plt.xlabel(feature_name)"
   ]
  },
  {
   "cell_type": "markdown",
   "id": "068bd103",
   "metadata": {},
   "source": [
    "We can observe that we have quite a simple problem. When the **culmen\n",
    "length** increases, the probability that the penguin is a **Chinstrap** is closer\n",
    "to 1. However, the **culmen depth** is not helpful for predicting the penguin\n",
    "species.\n",
    "\n",
    "For model fitting, we **separate the target from the data** and\n",
    "we will **create a training and a test set**."
   ]
  },
  {
   "cell_type": "code",
   "execution_count": 4,
   "id": "f5496a8b",
   "metadata": {},
   "outputs": [],
   "source": [
    "from sklearn.model_selection import train_test_split\n",
    "\n",
    "penguins_train, penguins_test = train_test_split(penguins, random_state=0)\n",
    "\n",
    "data_train = penguins_train[culmen_columns]\n",
    "data_test = penguins_test[culmen_columns]\n",
    "\n",
    "target_train = penguins_train[target_column]\n",
    "target_test = penguins_test[target_column]\n",
    "\n",
    "range_features = {\n",
    "    feature_name: (penguins[feature_name].min() - 1,\n",
    "                   penguins[feature_name].max() + 1)\n",
    "    for feature_name in culmen_columns\n",
    "}"
   ]
  },
  {
   "cell_type": "markdown",
   "id": "198c1f55",
   "metadata": {},
   "source": [
    "To visualize the separation found by our classifier, we define a helper\n",
    "function `plot_decision_function` **plots** the **decision boundary**, where the probability to be an Adelie or Chinstrap\n",
    "is equal (p=0.5)."
   ]
  },
  {
   "cell_type": "code",
   "execution_count": 24,
   "id": "4c8423b4",
   "metadata": {},
   "outputs": [],
   "source": [
    "import numpy as np\n",
    "\n",
    "\n",
    "def plot_decision_function(fitted_classifier, range_features, ax=None):\n",
    "    \"\"\"Plot the boundary of the decision function of a classifier.\"\"\"\n",
    "    from sklearn.preprocessing import LabelEncoder\n",
    "\n",
    "    feature_names = list(range_features.keys())\n",
    "    # create a grid to evaluate all possible samples\n",
    "    plot_step = 0.02\n",
    "    xx, yy = np.meshgrid(\n",
    "        np.arange(*range_features[feature_names[0]], plot_step),\n",
    "        np.arange(*range_features[feature_names[1]], plot_step),\n",
    "    )\n",
    "\n",
    "    # compute the associated prediction\n",
    "    Z = fitted_classifier.predict(np.c_[xx.ravel(), yy.ravel()])\n",
    "    Z = LabelEncoder().fit_transform(Z)\n",
    "    Z = Z.reshape(xx.shape)\n",
    "\n",
    "    # make the plot of the boundary and the data samples\n",
    "    if ax is None:\n",
    "        _, ax = plt.subplots()\n",
    "    ax.contourf(xx, yy, Z, alpha=0.4, cmap=\"RdBu_r\")\n",
    "\n",
    "    return ax"
   ]
  },
  {
   "cell_type": "markdown",
   "id": "742e9be4",
   "metadata": {},
   "source": [
    "Linear regression predicts a continuous output. When the target is a binary outcome, one can use the **logistic function** to **model the probability** of a sample in a class. This model is known as **logistic regression**.\n",
    "\n",
    "Scikit-learn provides the **class `LogisticRegression`** which implements this\n",
    "algorithm."
   ]
  },
  {
   "cell_type": "code",
   "execution_count": 27,
   "id": "7c24bf7b",
   "metadata": {},
   "outputs": [
    {
     "data": {
      "text/plain": [
       "Pipeline(steps=[('standardscaler', StandardScaler()),\n",
       "                ('logisticregression', LogisticRegression(penalty='none'))])"
      ]
     },
     "execution_count": 27,
     "metadata": {},
     "output_type": "execute_result"
    }
   ],
   "source": [
    "from sklearn.pipeline import make_pipeline\n",
    "from sklearn.preprocessing import StandardScaler\n",
    "from sklearn.linear_model import LogisticRegression\n",
    "\n",
    "logistic_regression = make_pipeline(\n",
    "    StandardScaler(), LogisticRegression(penalty=\"none\")\n",
    ")\n",
    "logistic_regression.fit(data_train, target_train)"
   ]
  },
  {
   "cell_type": "code",
   "execution_count": 62,
   "id": "44cf66b4",
   "metadata": {},
   "outputs": [
    {
     "data": {
      "image/png": "[encoded data removed]",
      "text/plain": [
       "<Figure size 432x288 with 1 Axes>"
      ]
     },
     "metadata": {
      "needs_background": "light"
     },
     "output_type": "display_data"
    }
   ],
   "source": [
    "import seaborn as sns\n",
    "\n",
    "ax = sns.scatterplot(\n",
    "    data=penguins_test, x=culmen_columns[0], y=culmen_columns[1],\n",
    "    hue=target_column, palette=[\"tab:red\", \"tab:blue\"])\n",
    "_ = plot_decision_function(logistic_regression, range_features, ax=ax)"
   ]
  },
  {
   "cell_type": "markdown",
   "id": "e8d04e17",
   "metadata": {},
   "source": [
    "The **decision boundary** separating the 2 classes is a **straight line** in the 2-dimensional feature space. We should also note that we do **not** impose any **regularization** by setting the parameter `penalty` to `'none'`.\n",
    "\n",
    "Since the line is oblique, both features take part in determining the decision boundary. The **coefficients** of the logistic regression form a **vector** that is **perpendicular to the decision boundary**:"
   ]
  },
  {
   "cell_type": "code",
   "execution_count": 72,
   "id": "d8fa2a4c",
   "metadata": {},
   "outputs": [
    {
     "data": {
      "text/plain": [
       "(Culmen Length (mm)    10.572952\n",
       " Culmen Depth (mm)     -4.390303\n",
       " dtype: float64,\n",
       " -5.201364157429317)"
      ]
     },
     "execution_count": 72,
     "metadata": {},
     "output_type": "execute_result"
    }
   ],
   "source": [
    "coefs = logistic_regression[-1].coef_[0]  # the coefficients is a 2d array\n",
    "weights = pd.Series(coefs, index=culmen_columns)\n",
    "\n",
    "weights, logistic_regression[-1].intercept_[0]"
   ]
  },
  {
   "cell_type": "code",
   "execution_count": 67,
   "id": "a333b544",
   "metadata": {},
   "outputs": [
    {
     "data": {
      "text/plain": [
       "Text(0.5, 1.0, 'Weights of the logistic regression')"
      ]
     },
     "execution_count": 67,
     "metadata": {},
     "output_type": "execute_result"
    },
    {
     "data": {
      "image/png": "[encoded data removed]",
      "text/plain": [
       "<Figure size 432x288 with 1 Axes>"
      ]
     },
     "metadata": {
      "needs_background": "light"
     },
     "output_type": "display_data"
    }
   ],
   "source": [
    "weights.plot.barh()\n",
    "plt.title(\"Weights of the logistic regression\")"
   ]
  },
  {
   "cell_type": "markdown",
   "id": "49b4d6bf",
   "metadata": {},
   "source": [
    "Indeed, both coefficients are non-null."
   ]
  }
 ],
 "metadata": {
  "jupytext": {
   "cell_metadata_filter": "-all",
   "main_language": "python",
   "notebook_metadata_filter": "-all"
  },
  "kernelspec": {
   "display_name": "Python 3",
   "language": "python",
   "name": "python3"
  },
  "language_info": {
   "codemirror_mode": {
    "name": "ipython",
    "version": 3
   },
   "file_extension": ".py",
   "mimetype": "text/x-python",
   "name": "python",
   "nbconvert_exporter": "python",
   "pygments_lexer": "ipython3",
   "version": "3.9.2"
  },
  "nbreset": "https://github.com/INRIA/scikit-learn-mooc/raw/master/notebooks/logistic_regression.ipynb"
 },
 "nbformat": 4,
 "nbformat_minor": 5
}
