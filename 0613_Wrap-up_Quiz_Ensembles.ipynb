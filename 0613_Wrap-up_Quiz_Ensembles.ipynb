{
 "cells": [
  {
   "cell_type": "code",
   "execution_count": 1,
   "metadata": {},
   "outputs": [],
   "source": [
    "import pandas as pd\n",
    "\n",
    "blood_transfusion = pd.read_csv(\"../datasets/blood_transfusion.csv\")\n",
    "data = blood_transfusion.drop(columns=\"Class\")\n",
    "target = blood_transfusion[\"Class\"]"
   ]
  },
  {
   "cell_type": "code",
   "execution_count": 82,
   "metadata": {},
   "outputs": [
    {
     "data": {
      "text/plain": [
       "0          donated\n",
       "1          donated\n",
       "2          donated\n",
       "3          donated\n",
       "4      not donated\n",
       "          ...     \n",
       "743    not donated\n",
       "744    not donated\n",
       "745    not donated\n",
       "746    not donated\n",
       "747    not donated\n",
       "Name: Class, Length: 748, dtype: object"
      ]
     },
     "execution_count": 82,
     "metadata": {},
     "output_type": "execute_result"
    }
   ],
   "source": [
    "target"
   ]
  },
  {
   "cell_type": "code",
   "execution_count": 84,
   "metadata": {},
   "outputs": [
    {
     "data": {
      "text/plain": [
       "not donated    0.762032\n",
       "donated        0.237968\n",
       "Name: Class, dtype: float64"
      ]
     },
     "execution_count": 84,
     "metadata": {},
     "output_type": "execute_result"
    }
   ],
   "source": [
    "target.value_counts(normalize=True)"
   ]
  },
  {
   "cell_type": "code",
   "execution_count": 11,
   "metadata": {},
   "outputs": [
    {
     "data": {
      "text/html": [
       "<div>\n",
       "<style scoped>\n",
       "    .dataframe tbody tr th:only-of-type {\n",
       "        vertical-align: middle;\n",
       "    }\n",
       "\n",
       "    .dataframe tbody tr th {\n",
       "        vertical-align: top;\n",
       "    }\n",
       "\n",
       "    .dataframe thead th {\n",
       "        text-align: right;\n",
       "    }\n",
       "</style>\n",
       "<table border=\"1\" class=\"dataframe\">\n",
       "  <thead>\n",
       "    <tr style=\"text-align: right;\">\n",
       "      <th></th>\n",
       "      <th>Recency</th>\n",
       "      <th>Frequency</th>\n",
       "      <th>Monetary</th>\n",
       "      <th>Time</th>\n",
       "    </tr>\n",
       "  </thead>\n",
       "  <tbody>\n",
       "    <tr>\n",
       "      <th>0</th>\n",
       "      <td>2</td>\n",
       "      <td>50</td>\n",
       "      <td>12500</td>\n",
       "      <td>98</td>\n",
       "    </tr>\n",
       "    <tr>\n",
       "      <th>1</th>\n",
       "      <td>0</td>\n",
       "      <td>13</td>\n",
       "      <td>3250</td>\n",
       "      <td>28</td>\n",
       "    </tr>\n",
       "    <tr>\n",
       "      <th>2</th>\n",
       "      <td>1</td>\n",
       "      <td>16</td>\n",
       "      <td>4000</td>\n",
       "      <td>35</td>\n",
       "    </tr>\n",
       "    <tr>\n",
       "      <th>3</th>\n",
       "      <td>2</td>\n",
       "      <td>20</td>\n",
       "      <td>5000</td>\n",
       "      <td>45</td>\n",
       "    </tr>\n",
       "    <tr>\n",
       "      <th>4</th>\n",
       "      <td>1</td>\n",
       "      <td>24</td>\n",
       "      <td>6000</td>\n",
       "      <td>77</td>\n",
       "    </tr>\n",
       "    <tr>\n",
       "      <th>...</th>\n",
       "      <td>...</td>\n",
       "      <td>...</td>\n",
       "      <td>...</td>\n",
       "      <td>...</td>\n",
       "    </tr>\n",
       "    <tr>\n",
       "      <th>743</th>\n",
       "      <td>23</td>\n",
       "      <td>2</td>\n",
       "      <td>500</td>\n",
       "      <td>38</td>\n",
       "    </tr>\n",
       "    <tr>\n",
       "      <th>744</th>\n",
       "      <td>21</td>\n",
       "      <td>2</td>\n",
       "      <td>500</td>\n",
       "      <td>52</td>\n",
       "    </tr>\n",
       "    <tr>\n",
       "      <th>745</th>\n",
       "      <td>23</td>\n",
       "      <td>3</td>\n",
       "      <td>750</td>\n",
       "      <td>62</td>\n",
       "    </tr>\n",
       "    <tr>\n",
       "      <th>746</th>\n",
       "      <td>39</td>\n",
       "      <td>1</td>\n",
       "      <td>250</td>\n",
       "      <td>39</td>\n",
       "    </tr>\n",
       "    <tr>\n",
       "      <th>747</th>\n",
       "      <td>72</td>\n",
       "      <td>1</td>\n",
       "      <td>250</td>\n",
       "      <td>72</td>\n",
       "    </tr>\n",
       "  </tbody>\n",
       "</table>\n",
       "<p>748 rows × 4 columns</p>\n",
       "</div>"
      ],
      "text/plain": [
       "     Recency  Frequency  Monetary  Time\n",
       "0          2         50     12500    98\n",
       "1          0         13      3250    28\n",
       "2          1         16      4000    35\n",
       "3          2         20      5000    45\n",
       "4          1         24      6000    77\n",
       "..       ...        ...       ...   ...\n",
       "743       23          2       500    38\n",
       "744       21          2       500    52\n",
       "745       23          3       750    62\n",
       "746       39          1       250    39\n",
       "747       72          1       250    72\n",
       "\n",
       "[748 rows x 4 columns]"
      ]
     },
     "execution_count": 11,
     "metadata": {},
     "output_type": "execute_result"
    }
   ],
   "source": [
    "data"
   ]
  },
  {
   "cell_type": "markdown",
   "metadata": {},
   "source": [
    "## Question 1"
   ]
  },
  {
   "cell_type": "code",
   "execution_count": 9,
   "metadata": {},
   "outputs": [
    {
     "data": {
      "text/plain": [
       "{'fit_time': array([0.00109649, 0.00080085, 0.00069237, 0.00069857, 0.00068331,\n",
       "        0.00067544, 0.00068045, 0.00066972, 0.00066948, 0.00066352]),\n",
       " 'score_time': array([0.00040841, 0.00029802, 0.00029588, 0.00028825, 0.00028944,\n",
       "        0.00028634, 0.00028944, 0.0002861 , 0.00029159, 0.00028491]),\n",
       " 'test_score': array([0.76      , 0.76      , 0.76      , 0.76      , 0.76      ,\n",
       "        0.76      , 0.76      , 0.76      , 0.77027027, 0.77027027])}"
      ]
     },
     "execution_count": 9,
     "metadata": {},
     "output_type": "execute_result"
    }
   ],
   "source": [
    "from sklearn.dummy import DummyClassifier\n",
    "from sklearn.model_selection import cross_validate\n",
    "\n",
    "res = cross_validate(DummyClassifier(strategy='most_frequent'), data, target, cv=10)\n",
    "res"
   ]
  },
  {
   "cell_type": "code",
   "execution_count": 10,
   "metadata": {},
   "outputs": [
    {
     "data": {
      "text/plain": [
       "0.762054054054054"
      ]
     },
     "execution_count": 10,
     "metadata": {},
     "output_type": "execute_result"
    }
   ],
   "source": [
    "res['test_score'].mean()"
   ]
  },
  {
   "cell_type": "markdown",
   "metadata": {},
   "source": [
    "## Question 2"
   ]
  },
  {
   "cell_type": "code",
   "execution_count": 13,
   "metadata": {},
   "outputs": [
    {
     "data": {
      "text/plain": [
       "{'fit_time': array([0.00105739, 0.00070333, 0.00068951, 0.00068569, 0.00073481,\n",
       "        0.00068235, 0.00068069, 0.00066948, 0.0007    , 0.00066566]),\n",
       " 'score_time': array([0.00083661, 0.00056124, 0.00057125, 0.00055337, 0.00059104,\n",
       "        0.00056171, 0.00055957, 0.00055456, 0.00055432, 0.00056195]),\n",
       " 'test_score': array([0.5, 0.5, 0.5, 0.5, 0.5, 0.5, 0.5, 0.5, 0.5, 0.5])}"
      ]
     },
     "execution_count": 13,
     "metadata": {},
     "output_type": "execute_result"
    }
   ],
   "source": [
    "res = cross_validate(DummyClassifier(strategy='most_frequent'), data, target, cv=10, scoring='balanced_accuracy')\n",
    "res"
   ]
  },
  {
   "cell_type": "code",
   "execution_count": 14,
   "metadata": {},
   "outputs": [
    {
     "data": {
      "text/plain": [
       "0.5"
      ]
     },
     "execution_count": 14,
     "metadata": {},
     "output_type": "execute_result"
    }
   ],
   "source": [
    "res['test_score'].mean()"
   ]
  },
  {
   "cell_type": "markdown",
   "metadata": {},
   "source": [
    "## Question 3"
   ]
  },
  {
   "cell_type": "code",
   "execution_count": 15,
   "metadata": {},
   "outputs": [
    {
     "data": {
      "text/plain": [
       "{'fit_time': array([0.0036304 , 0.00271416, 0.0027523 , 0.00264215, 0.00272512,\n",
       "        0.00264263, 0.00256467, 0.00265598, 0.00264025, 0.00264478]),\n",
       " 'score_time': array([0.00165248, 0.00150204, 0.00160575, 0.00147223, 0.00147843,\n",
       "        0.00147104, 0.00148058, 0.00147653, 0.00146174, 0.00145769]),\n",
       " 'test_score': array([0.42105263, 0.48391813, 0.69736842, 0.40643275, 0.41520468,\n",
       "        0.44736842, 0.55116959, 0.74561404, 0.45356037, 0.51186791])}"
      ]
     },
     "execution_count": 15,
     "metadata": {},
     "output_type": "execute_result"
    }
   ],
   "source": [
    "from sklearn.tree import DecisionTreeClassifier\n",
    "\n",
    "res = cross_validate(DecisionTreeClassifier(), data, target, cv=10, scoring='balanced_accuracy')\n",
    "res"
   ]
  },
  {
   "cell_type": "code",
   "execution_count": 16,
   "metadata": {},
   "outputs": [
    {
     "data": {
      "text/plain": [
       "0.5133556931544548"
      ]
     },
     "execution_count": 16,
     "metadata": {},
     "output_type": "execute_result"
    }
   ],
   "source": [
    "res['test_score'].mean()"
   ]
  },
  {
   "cell_type": "markdown",
   "metadata": {},
   "source": [
    "## Question 4"
   ]
  },
  {
   "cell_type": "code",
   "execution_count": 17,
   "metadata": {},
   "outputs": [
    {
     "data": {
      "text/plain": [
       "{'fit_time': array([0.3673656 , 0.37484384, 0.36781836, 0.36759591, 0.36431098,\n",
       "        0.36226559, 0.35807347, 0.36697602, 0.3634882 , 0.36361599]),\n",
       " 'score_time': array([0.02376747, 0.02501011, 0.02454829, 0.02366161, 0.02361393,\n",
       "        0.02345562, 0.02302027, 0.0243597 , 0.02422214, 0.02302504]),\n",
       " 'test_score': array([0.51461988, 0.5       , 0.63157895, 0.46783626, 0.46491228,\n",
       "        0.48245614, 0.56140351, 0.6622807 , 0.49742002, 0.49122807])}"
      ]
     },
     "execution_count": 17,
     "metadata": {},
     "output_type": "execute_result"
    }
   ],
   "source": [
    "from sklearn.ensemble import RandomForestClassifier\n",
    "\n",
    "res = cross_validate(\n",
    "                RandomForestClassifier(n_estimators=300), \n",
    "                data, \n",
    "                target, \n",
    "                cv=10, \n",
    "                scoring='balanced_accuracy')\n",
    "res"
   ]
  },
  {
   "cell_type": "code",
   "execution_count": 18,
   "metadata": {},
   "outputs": [
    {
     "data": {
      "text/plain": [
       "0.5273735810113518"
      ]
     },
     "execution_count": 18,
     "metadata": {},
     "output_type": "execute_result"
    }
   ],
   "source": [
    "res['test_score'].mean()"
   ]
  },
  {
   "cell_type": "markdown",
   "metadata": {},
   "source": [
    "## Question 5"
   ]
  },
  {
   "cell_type": "code",
   "execution_count": 47,
   "metadata": {},
   "outputs": [
    {
     "data": {
      "text/plain": [
       "[0.5735855650831001,\n",
       " 0.5906509567875744,\n",
       " 0.5943166269767421,\n",
       " 0.5887595410468834,\n",
       " 0.591991212315594,\n",
       " 0.5737926733070614,\n",
       " 0.571458950981838,\n",
       " 0.5920683157702777,\n",
       " 0.5776709156732778,\n",
       " 0.5773336088739913]"
      ]
     },
     "execution_count": 47,
     "metadata": {},
     "output_type": "execute_result"
    }
   ],
   "source": [
    "rfc = [cross_validate(\n",
    "                RandomForestClassifier(n_estimators=300), \n",
    "                data, \n",
    "                target, \n",
    "                cv=KFold(n_splits=10, shuffle=True), \n",
    "                scoring='balanced_accuracy')['test_score'].mean() for i in range(10)]\n",
    "rfc"
   ]
  },
  {
   "cell_type": "code",
   "execution_count": 60,
   "metadata": {},
   "outputs": [
    {
     "data": {
      "text/plain": [
       "(0.583162836681634, 0.0086584986063427)"
      ]
     },
     "execution_count": 60,
     "metadata": {},
     "output_type": "execute_result"
    }
   ],
   "source": [
    "import numpy as np\n",
    "\n",
    "m = sum(rfc)/10.\n",
    "s = np.sqrt(sum((rfc - m)**2.)/10.)\n",
    "m, s"
   ]
  },
  {
   "cell_type": "code",
   "execution_count": 44,
   "metadata": {},
   "outputs": [
    {
     "data": {
      "text/plain": [
       "[0.595153104156519,\n",
       " 0.6117108803878581,\n",
       " 0.5995781397962963,\n",
       " 0.5916972893669007,\n",
       " 0.6069613855201578,\n",
       " 0.6054613351866218,\n",
       " 0.5997704490146416,\n",
       " 0.6060260879452841,\n",
       " 0.6051300869709035,\n",
       " 0.6037575493672167]"
      ]
     },
     "execution_count": 44,
     "metadata": {},
     "output_type": "execute_result"
    }
   ],
   "source": [
    "from sklearn.ensemble import GradientBoostingClassifier\n",
    "\n",
    "gbc = [cross_validate(\n",
    "                GradientBoostingClassifier(n_estimators=300), \n",
    "                data, \n",
    "                target, \n",
    "                cv=KFold(n_splits=10, shuffle=True), \n",
    "                scoring='balanced_accuracy')['test_score'].mean() for i in range(10)]\n",
    "gbc"
   ]
  },
  {
   "cell_type": "code",
   "execution_count": 48,
   "metadata": {},
   "outputs": [
    {
     "data": {
      "text/plain": [
       "[True, True, True, True, True, True, True, True, True, True]"
      ]
     },
     "execution_count": 48,
     "metadata": {},
     "output_type": "execute_result"
    }
   ],
   "source": [
    "[l[0] < l[1] for l in zip(rfc, gbc)]"
   ]
  },
  {
   "cell_type": "code",
   "execution_count": 49,
   "metadata": {},
   "outputs": [
    {
     "data": {
      "text/plain": [
       "10"
      ]
     },
     "execution_count": 49,
     "metadata": {},
     "output_type": "execute_result"
    }
   ],
   "source": [
    "sum(l[0] < l[1] for l in zip(rfc, gbc))"
   ]
  },
  {
   "cell_type": "code",
   "execution_count": 59,
   "metadata": {},
   "outputs": [
    {
     "data": {
      "text/plain": [
       "(0.6025246307712399, 0.005666594681905389)"
      ]
     },
     "execution_count": 59,
     "metadata": {},
     "output_type": "execute_result"
    }
   ],
   "source": [
    "m = sum(gbc)/10.\n",
    "s = np.sqrt(sum((gbc - m)**2.)/10.)\n",
    "m, s"
   ]
  },
  {
   "cell_type": "markdown",
   "metadata": {},
   "source": [
    "## Question 6"
   ]
  },
  {
   "cell_type": "code",
   "execution_count": 61,
   "metadata": {},
   "outputs": [
    {
     "data": {
      "text/plain": [
       "[0.6196913561528581,\n",
       " 0.6082368710194099,\n",
       " 0.6212682038887188,\n",
       " 0.5917180625325223,\n",
       " 0.6166858923461948,\n",
       " 0.6085418317849748,\n",
       " 0.5900245107885234,\n",
       " 0.6044721953324853,\n",
       " 0.6210678968969662,\n",
       " 0.598242022487277]"
      ]
     },
     "execution_count": 61,
     "metadata": {},
     "output_type": "execute_result"
    }
   ],
   "source": [
    "# explicitly require this experimental feature\n",
    "from sklearn.experimental import enable_hist_gradient_boosting\n",
    "# now you can import normally from ensemble\n",
    "from sklearn.ensemble import HistGradientBoostingClassifier\n",
    "from sklearn.model_selection import KFold\n",
    "\n",
    "hgbc = [cross_validate(\n",
    "                HistGradientBoostingClassifier(), \n",
    "                data, \n",
    "                target, \n",
    "                cv=KFold(n_splits=10, shuffle=True), \n",
    "                scoring='balanced_accuracy')['test_score'].mean() for i in range(10)]\n",
    "hgbc"
   ]
  },
  {
   "cell_type": "code",
   "execution_count": 62,
   "metadata": {},
   "outputs": [
    {
     "data": {
      "text/plain": [
       "(0.6079948843229931, 0.0112034831956149)"
      ]
     },
     "execution_count": 62,
     "metadata": {},
     "output_type": "execute_result"
    }
   ],
   "source": [
    "m = sum(hgbc)/10.\n",
    "s = np.sqrt(sum((hgbc - m)**2.)/10.)\n",
    "m, s"
   ]
  },
  {
   "cell_type": "markdown",
   "metadata": {},
   "source": [
    "## Question 7"
   ]
  },
  {
   "cell_type": "code",
   "execution_count": 65,
   "metadata": {},
   "outputs": [],
   "source": [
    "res = cross_validate(\n",
    "                HistGradientBoostingClassifier(early_stopping=True), \n",
    "                data, \n",
    "                target, \n",
    "                cv=KFold(n_splits=10, shuffle=True), \n",
    "                scoring='balanced_accuracy',\n",
    "                return_estimator=True)"
   ]
  },
  {
   "cell_type": "code",
   "execution_count": 66,
   "metadata": {},
   "outputs": [
    {
     "data": {
      "text/plain": [
       "{'fit_time': array([0.04619837, 0.05055642, 0.09041929, 0.06641793, 0.0660603 ,\n",
       "        0.08197474, 0.07021976, 0.03789186, 0.03644562, 0.05451751]),\n",
       " 'score_time': array([0.00206161, 0.00197625, 0.00239682, 0.0020442 , 0.00211692,\n",
       "        0.00220728, 0.00209427, 0.00180697, 0.00178361, 0.00193477]),\n",
       " 'estimator': [HistGradientBoostingClassifier(early_stopping=True),\n",
       "  HistGradientBoostingClassifier(early_stopping=True),\n",
       "  HistGradientBoostingClassifier(early_stopping=True),\n",
       "  HistGradientBoostingClassifier(early_stopping=True),\n",
       "  HistGradientBoostingClassifier(early_stopping=True),\n",
       "  HistGradientBoostingClassifier(early_stopping=True),\n",
       "  HistGradientBoostingClassifier(early_stopping=True),\n",
       "  HistGradientBoostingClassifier(early_stopping=True),\n",
       "  HistGradientBoostingClassifier(early_stopping=True),\n",
       "  HistGradientBoostingClassifier(early_stopping=True)],\n",
       " 'test_score': array([0.62272727, 0.6       , 0.68650794, 0.65742481, 0.56666667,\n",
       "        0.58840749, 0.57847744, 0.586714  , 0.56547619, 0.61296296])}"
      ]
     },
     "execution_count": 66,
     "metadata": {},
     "output_type": "execute_result"
    }
   ],
   "source": [
    "res"
   ]
  },
  {
   "cell_type": "code",
   "execution_count": 72,
   "metadata": {},
   "outputs": [
    {
     "data": {
      "text/plain": [
       "[19, 22, 40, 29, 29, 36, 30, 16, 15, 23]"
      ]
     },
     "execution_count": 72,
     "metadata": {},
     "output_type": "execute_result"
    }
   ],
   "source": [
    "[res['estimator'][i].n_iter_ for i in range(10)]"
   ]
  },
  {
   "cell_type": "markdown",
   "metadata": {},
   "source": [
    "## Question 8-9"
   ]
  },
  {
   "cell_type": "code",
   "execution_count": 80,
   "metadata": {},
   "outputs": [
    {
     "data": {
      "text/plain": [
       "[0.6698450369704936,\n",
       " 0.6654394210878503,\n",
       " 0.6685492517505827,\n",
       " 0.6786283303896286,\n",
       " 0.6637906788078806,\n",
       " 0.6871189703428344,\n",
       " 0.6822231034433771,\n",
       " 0.6846359905156771,\n",
       " 0.6657364559903052,\n",
       " 0.6692132528986707]"
      ]
     },
     "execution_count": 80,
     "metadata": {},
     "output_type": "execute_result"
    }
   ],
   "source": [
    "from imblearn.ensemble import BalancedBaggingClassifier\n",
    "# https://imbalanced-learn.org/stable/\n",
    "# https://imbalanced-learn.org/stable/ensemble.html#bagging\n",
    "from sklearn.metrics import balanced_accuracy_score\n",
    "bbc = BalancedBaggingClassifier(base_estimator=HistGradientBoostingClassifier(),\n",
    "                                n_estimators=50,\n",
    "                                sampling_strategy='auto',\n",
    "                                replacement=False,\n",
    "                                random_state=0)\n",
    "bbch = [cross_validate(\n",
    "                bbc, \n",
    "                data, \n",
    "                target, \n",
    "                cv=KFold(n_splits=10, shuffle=True), \n",
    "                scoring='balanced_accuracy')['test_score'].mean() for i in range(10)]\n",
    "bbch\n",
    "\n",
    "# res = cross_validate(\n",
    "#                 bbc, \n",
    "#                 data, \n",
    "#                 target, \n",
    "#                 cv=KFold(n_splits=10, shuffle=True), \n",
    "#                 scoring='balanced_accuracy',\n",
    "#                 return_estimator=True)\n",
    "\n",
    "# bbc.fit(data, target) \n",
    "\n",
    "# y_pred = bbc.predict(data)\n",
    "# balanced_accuracy_score(target, y_pred) "
   ]
  },
  {
   "cell_type": "code",
   "execution_count": 81,
   "metadata": {},
   "outputs": [
    {
     "data": {
      "text/plain": [
       "(0.6735180492197299, 0.00829238817336776)"
      ]
     },
     "execution_count": 81,
     "metadata": {},
     "output_type": "execute_result"
    }
   ],
   "source": [
    "m = sum(bbch)/10.\n",
    "s = np.sqrt(sum((bbch - m)**2.)/10.)\n",
    "m, s"
   ]
  },
  {
   "cell_type": "code",
   "execution_count": null,
   "metadata": {},
   "outputs": [],
   "source": []
  }
 ],
 "metadata": {
  "kernelspec": {
   "display_name": "Python 3",
   "language": "python",
   "name": "python3"
  },
  "language_info": {
   "codemirror_mode": {
    "name": "ipython",
    "version": 3
   },
   "file_extension": ".py",
   "mimetype": "text/x-python",
   "name": "python",
   "nbconvert_exporter": "python",
   "pygments_lexer": "ipython3",
   "version": "3.9.2"
  }
 },
 "nbformat": 4,
 "nbformat_minor": 4
}
