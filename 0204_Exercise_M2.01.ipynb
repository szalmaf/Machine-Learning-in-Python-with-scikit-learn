{
 "cells": [
  {
   "cell_type": "markdown",
   "id": "bf2a3fc8",
   "metadata": {},
   "source": [
    "# 📝 Exercise M2.01\n",
    "\n",
    "The aim of this exercise is to make the following experiments:\n",
    "\n",
    "* **train and test** a **support vector machine classifier** through\n",
    "  **cross-validation**;\n",
    "* study the effect of the **parameter gamma** of this classifier using a\n",
    "  **validation curve**;\n",
    "* study if it was useful in terms of classification if we could add new\n",
    "  samples in the dataset using a **learning curve**.\n",
    "\n",
    "To make these experiments we will first load the **blood transfusion dataset**."
   ]
  },
  {
   "cell_type": "markdown",
   "id": "865cdb44",
   "metadata": {},
   "source": [
    "<div class=\"admonition note alert alert-info\">\n",
    "<p class=\"first admonition-title\" style=\"font-weight: bold;\">Note</p>\n",
    "<p class=\"last\">If you want a deeper overview regarding this dataset, you can refer to the\n",
    "Appendix - Datasets description section at the end of this MOOC.</p>\n",
    "</div>"
   ]
  },
  {
   "cell_type": "code",
   "execution_count": 2,
   "id": "0ded1b3a",
   "metadata": {},
   "outputs": [
    {
     "name": "stdout",
     "output_type": "stream",
     "text": [
      "Number of samples blood transfusion: 748\n"
     ]
    }
   ],
   "source": [
    "import pandas as pd\n",
    "\n",
    "blood_transfusion = pd.read_csv(\"../datasets/blood_transfusion.csv\")\n",
    "data = blood_transfusion.drop(columns=\"Class\")\n",
    "target = blood_transfusion[\"Class\"]\n",
    "\n",
    "print(\"Number of samples blood transfusion: {}\".format(len(target)))"
   ]
  },
  {
   "cell_type": "markdown",
   "id": "991368df",
   "metadata": {},
   "source": [
    "We will use a **support vector machine classifier (SVM)**. In its most simple\n",
    "form, a SVM classifier is a **linear classifier** behaving similarly to a\n",
    "logistic regression. Indeed, the optimization used to find the optimal\n",
    "weights of the linear model are different but we don't need to know these\n",
    "details for the exercise.\n",
    "\n",
    "Also, this classifier can become more flexible/expressive by using a\n",
    "so-called **kernel** making the **model becomes non-linear**. Again, no requirement\n",
    "regarding the mathematics is required to accomplish this exercise.\n",
    "\n",
    "We will use an **RBF kernel** where a **parameter `gamma`** allows to **tune the\n",
    "flexibility of the model**. See more on information on the `gamma` parameter at https://scikit-learn.org/stable/auto_examples/svm/plot_rbf_parameters.html\n",
    "\n",
    "First let's **create a predictive pipeline** made of:\n",
    "\n",
    "* a [`sklearn.preprocessing.StandardScaler`](https://scikit-learn.org/stable/modules/generated/sklearn.preprocessing.StandardScaler.html)\n",
    "  with default parameter;\n",
    "* a [`sklearn.svm.SVC`](https://scikit-learn.org/stable/modules/generated/sklearn.svm.SVC.html)\n",
    "  where the parameter `kernel` could be set to `\"rbf\"`. Note that this is the\n",
    "  default."
   ]
  },
  {
   "cell_type": "code",
   "execution_count": 3,
   "id": "d731d9a7",
   "metadata": {},
   "outputs": [],
   "source": [
    "from sklearn.preprocessing import StandardScaler\n",
    "from sklearn.pipeline import make_pipeline\n",
    "from sklearn.svm import SVC\n",
    "\n",
    "modelp = make_pipeline(StandardScaler(), SVC())"
   ]
  },
  {
   "cell_type": "markdown",
   "id": "462c99ae",
   "metadata": {},
   "source": [
    "Evaluate the statistical performance of your model by **cross-validation with a\n",
    "`ShuffleSplit`** scheme. Thus, you can use\n",
    "[`sklearn.model_selection.cross_validate`](https://scikit-learn.org/stable/modules/generated/sklearn.model_selection.cross_validate.html)\n",
    "and pass a [`sklearn.model_selection.ShuffleSplit`](https://scikit-learn.org/stable/modules/generated/sklearn.model_selection.ShuffleSplit.html)\n",
    "to the `cv` parameter. Only fix the `random_state=0` in the `ShuffleSplit`\n",
    "and let the other parameters to the default."
   ]
  },
  {
   "cell_type": "code",
   "execution_count": 4,
   "id": "fd18b364",
   "metadata": {},
   "outputs": [],
   "source": [
    "from sklearn.model_selection import ShuffleSplit\n",
    "from sklearn.model_selection import cross_validate\n",
    "\n",
    "cv = ShuffleSplit(random_state=0)\n",
    "cv_result = cross_validate(modelp, data, target, cv=cv)"
   ]
  },
  {
   "cell_type": "code",
   "execution_count": 5,
   "id": "f46d2738",
   "metadata": {},
   "outputs": [
    {
     "data": {
      "text/html": [
       "<div>\n",
       "<style scoped>\n",
       "    .dataframe tbody tr th:only-of-type {\n",
       "        vertical-align: middle;\n",
       "    }\n",
       "\n",
       "    .dataframe tbody tr th {\n",
       "        vertical-align: top;\n",
       "    }\n",
       "\n",
       "    .dataframe thead th {\n",
       "        text-align: right;\n",
       "    }\n",
       "</style>\n",
       "<table border=\"1\" class=\"dataframe\">\n",
       "  <thead>\n",
       "    <tr style=\"text-align: right;\">\n",
       "      <th></th>\n",
       "      <th>fit_time</th>\n",
       "      <th>score_time</th>\n",
       "      <th>test_score</th>\n",
       "    </tr>\n",
       "  </thead>\n",
       "  <tbody>\n",
       "    <tr>\n",
       "      <th>0</th>\n",
       "      <td>0.015571</td>\n",
       "      <td>0.002519</td>\n",
       "      <td>0.680000</td>\n",
       "    </tr>\n",
       "    <tr>\n",
       "      <th>1</th>\n",
       "      <td>0.013230</td>\n",
       "      <td>0.002281</td>\n",
       "      <td>0.746667</td>\n",
       "    </tr>\n",
       "    <tr>\n",
       "      <th>2</th>\n",
       "      <td>0.013749</td>\n",
       "      <td>0.002325</td>\n",
       "      <td>0.786667</td>\n",
       "    </tr>\n",
       "    <tr>\n",
       "      <th>3</th>\n",
       "      <td>0.013148</td>\n",
       "      <td>0.002317</td>\n",
       "      <td>0.800000</td>\n",
       "    </tr>\n",
       "    <tr>\n",
       "      <th>4</th>\n",
       "      <td>0.013921</td>\n",
       "      <td>0.002329</td>\n",
       "      <td>0.746667</td>\n",
       "    </tr>\n",
       "    <tr>\n",
       "      <th>5</th>\n",
       "      <td>0.013700</td>\n",
       "      <td>0.002307</td>\n",
       "      <td>0.786667</td>\n",
       "    </tr>\n",
       "    <tr>\n",
       "      <th>6</th>\n",
       "      <td>0.013446</td>\n",
       "      <td>0.002301</td>\n",
       "      <td>0.800000</td>\n",
       "    </tr>\n",
       "    <tr>\n",
       "      <th>7</th>\n",
       "      <td>0.012634</td>\n",
       "      <td>0.002277</td>\n",
       "      <td>0.826667</td>\n",
       "    </tr>\n",
       "    <tr>\n",
       "      <th>8</th>\n",
       "      <td>0.013049</td>\n",
       "      <td>0.002274</td>\n",
       "      <td>0.746667</td>\n",
       "    </tr>\n",
       "    <tr>\n",
       "      <th>9</th>\n",
       "      <td>0.014231</td>\n",
       "      <td>0.002480</td>\n",
       "      <td>0.733333</td>\n",
       "    </tr>\n",
       "  </tbody>\n",
       "</table>\n",
       "</div>"
      ],
      "text/plain": [
       "   fit_time  score_time  test_score\n",
       "0  0.015571    0.002519    0.680000\n",
       "1  0.013230    0.002281    0.746667\n",
       "2  0.013749    0.002325    0.786667\n",
       "3  0.013148    0.002317    0.800000\n",
       "4  0.013921    0.002329    0.746667\n",
       "5  0.013700    0.002307    0.786667\n",
       "6  0.013446    0.002301    0.800000\n",
       "7  0.012634    0.002277    0.826667\n",
       "8  0.013049    0.002274    0.746667\n",
       "9  0.014231    0.002480    0.733333"
      ]
     },
     "execution_count": 5,
     "metadata": {},
     "output_type": "execute_result"
    }
   ],
   "source": [
    "pd.DataFrame(cv_result)"
   ]
  },
  {
   "cell_type": "markdown",
   "id": "5fa7c5cb",
   "metadata": {},
   "source": [
    "As previously mentioned, the parameter **`gamma`** is one of the parameter\n",
    "controlling under/over-fitting in **support vector machine** with an **RBF kernel**.\n",
    "\n",
    "Compute the **validation curve**\n",
    "(using [`sklearn.model_selection.validation_curve`](https://scikit-learn.org/stable/modules/generated/sklearn.model_selection.validation_curve.html))\n",
    "to evaluate the effect of the parameter **`gamma`**. You can vary its value\n",
    "**between `10e-3` and `10e2`** by generating samples on a logarithmic scale.\n",
    "Thus, you can use `np.logspace(-3, 2, num=30)`.\n",
    "\n",
    "Since we are manipulating a `Pipeline` the parameter name will be set to\n",
    "`svc__gamma` instead of only `gamma`. You can **retrieve the parameter names**\n",
    "using **`model.get_params().keys()`**. We will go more into details regarding\n",
    "accessing and setting hyperparameter in the next section."
   ]
  },
  {
   "cell_type": "code",
   "execution_count": 6,
   "id": "dc92f2d5",
   "metadata": {},
   "outputs": [
    {
     "data": {
      "text/plain": [
       "dict_items([('memory', None), ('steps', [('standardscaler', StandardScaler()), ('svc', SVC())]), ('verbose', False), ('standardscaler', StandardScaler()), ('svc', SVC()), ('standardscaler__copy', True), ('standardscaler__with_mean', True), ('standardscaler__with_std', True), ('svc__C', 1.0), ('svc__break_ties', False), ('svc__cache_size', 200), ('svc__class_weight', None), ('svc__coef0', 0.0), ('svc__decision_function_shape', 'ovr'), ('svc__degree', 3), ('svc__gamma', 'scale'), ('svc__kernel', 'rbf'), ('svc__max_iter', -1), ('svc__probability', False), ('svc__random_state', None), ('svc__shrinking', True), ('svc__tol', 0.001), ('svc__verbose', False)])"
      ]
     },
     "execution_count": 6,
     "metadata": {},
     "output_type": "execute_result"
    }
   ],
   "source": [
    "modelp.get_params().items()"
   ]
  },
  {
   "cell_type": "markdown",
   "id": "42c3bca8",
   "metadata": {},
   "source": [
    "**Plot the validation curve** for the train and test scores."
   ]
  },
  {
   "cell_type": "code",
   "execution_count": 7,
   "id": "40b67153",
   "metadata": {},
   "outputs": [],
   "source": [
    "import numpy as np\n",
    "gamma_range = np.logspace(-1, 1, num=21)"
   ]
  },
  {
   "cell_type": "code",
   "execution_count": 8,
   "id": "eebfe6df",
   "metadata": {},
   "outputs": [
    {
     "name": "stdout",
     "output_type": "stream",
     "text": [
      "CPU times: user 5.91 s, sys: 2.16 ms, total: 5.92 s\n",
      "Wall time: 5.91 s\n"
     ]
    }
   ],
   "source": [
    "%%time\n",
    "from sklearn.model_selection import validation_curve\n",
    "\n",
    "train_scores, test_scores = validation_curve(\n",
    "                                    modelp, \n",
    "                                    data, \n",
    "                                    target, \n",
    "                                    param_name='svc__gamma', \n",
    "                                    param_range=gamma_range,\n",
    "                                    cv=cv)"
   ]
  },
  {
   "cell_type": "code",
   "execution_count": 9,
   "id": "13d9b33c",
   "metadata": {},
   "outputs": [
    {
     "data": {
      "text/plain": [
       "Text(0.5, 1.0, 'Validation curve for SVM RBF kernel')"
      ]
     },
     "execution_count": 9,
     "metadata": {},
     "output_type": "execute_result"
    },
    {
     "data": {
      "image/png": "[encoded data removed]",
      "text/plain": [
       "<Figure size 432x288 with 1 Axes>"
      ]
     },
     "metadata": {
      "needs_background": "light"
     },
     "output_type": "display_data"
    }
   ],
   "source": [
    "import matplotlib.pyplot as plt\n",
    "\n",
    "plt.errorbar(gamma_range, 1.-train_scores.mean(axis=1), yerr=(1.-train_scores).std(axis=1), label='Training error')\n",
    "plt.errorbar(gamma_range, 1.-test_scores.mean(axis=1), yerr=(1.-train_scores).std(axis=1), label='Test error')\n",
    "plt.xscale('log')\n",
    "plt.legend()\n",
    "plt.xlabel('Gamma')\n",
    "plt.ylabel('Error  [1-accuracy]')\n",
    "plt.title(\"Validation curve for SVM RBF kernel\")"
   ]
  },
  {
   "cell_type": "markdown",
   "id": "414c0e8e",
   "metadata": {},
   "source": [
    "**Optimal Gamma** is around Gamma=1."
   ]
  },
  {
   "cell_type": "markdown",
   "id": "7397263b",
   "metadata": {},
   "source": [
    "Now, you can **perform an analysis to check whether adding new samples to the\n",
    "dataset** could help our **model to better generalize**. Compute the **learning curve**\n",
    "(using [`sklearn.model_selection.learning_curve`](https://scikit-learn.org/stable/modules/generated/sklearn.model_selection.learning_curve.html))\n",
    "by computing the train and test scores for different training dataset size.\n",
    "**Plot the train and test scores with respect to the number of samples**."
   ]
  },
  {
   "cell_type": "code",
   "execution_count": 10,
   "id": "3048d9d0",
   "metadata": {},
   "outputs": [],
   "source": [
    "from sklearn.model_selection import learning_curve\n",
    "\n",
    "train_sizes = np.linspace(0.1, 1.0, num=5, endpoint=True)\n",
    "\n",
    "modelp2 = make_pipeline(StandardScaler(), SVC(gamma=1.))\n",
    "lcurve_results = learning_curve(modelp2, data, target, train_sizes=train_sizes, cv=cv, )\n",
    "train_size, train_scores, test_scores = lcurve_results[:3]\n",
    "\n",
    "# Convert the scores into errors\n",
    "train_errors, test_errors = 1.-train_scores, 1.-test_scores"
   ]
  },
  {
   "cell_type": "code",
   "execution_count": 12,
   "id": "4e84f455",
   "metadata": {},
   "outputs": [
    {
     "data": {
      "text/plain": [
       "Text(0.5, 1.0, 'Training curve for SVM RBF kernel')"
      ]
     },
     "execution_count": 12,
     "metadata": {},
     "output_type": "execute_result"
    },
    {
     "data": {
      "image/png": "[encoded data removed]",
      "text/plain": [
       "<Figure size 432x288 with 1 Axes>"
      ]
     },
     "metadata": {
      "needs_background": "light"
     },
     "output_type": "display_data"
    }
   ],
   "source": [
    "plt.errorbar(train_size, train_errors.mean(axis=1),\n",
    "             yerr=train_errors.std(axis=1), label=\"Training error\", alpha=.7)\n",
    "plt.errorbar(train_size, test_errors.mean(axis=1),\n",
    "             yerr=test_errors.std(axis=1), label=\"Test error\", alpha=.7)\n",
    "plt.legend()\n",
    "\n",
    "plt.xscale(\"log\")\n",
    "\n",
    "plt.xlabel(\"Number of samples\")\n",
    "plt.ylabel(\"Error\")\n",
    "plt.title(\"Training curve for SVM RBF kernel\")"
   ]
  },
  {
   "cell_type": "code",
   "execution_count": null,
   "id": "5452b580",
   "metadata": {},
   "outputs": [],
   "source": []
  }
 ],
 "metadata": {
  "jupytext": {
   "cell_metadata_filter": "-all",
   "main_language": "python",
   "notebook_metadata_filter": "-all"
  },
  "kernelspec": {
   "display_name": "Python 3",
   "language": "python",
   "name": "python3"
  },
  "language_info": {
   "codemirror_mode": {
    "name": "ipython",
    "version": 3
   },
   "file_extension": ".py",
   "mimetype": "text/x-python",
   "name": "python",
   "nbconvert_exporter": "python",
   "pygments_lexer": "ipython3",
   "version": "3.9.2"
  },
  "nbreset": "https://github.com/INRIA/scikit-learn-mooc/raw/master/notebooks/cross_validation_ex_01.ipynb"
 },
 "nbformat": 4,
 "nbformat_minor": 5
}
