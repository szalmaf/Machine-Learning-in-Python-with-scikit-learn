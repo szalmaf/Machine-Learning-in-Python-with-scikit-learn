{
 "cells": [
  {
   "cell_type": "markdown",
   "id": "eb2261de",
   "metadata": {},
   "source": [
    "# 📝 Exercise M6.05\n",
    "\n",
    "The aim of the exercise is to get familiar with the **histogram\n",
    "gradient-boosting in scikit-learn**. Besides, we will use this model within\n",
    "a **cross-validation framework** in order to **inspect internal parameters** found\n",
    "via grid-search.\n",
    "\n",
    "We will use the **California housing dataset**."
   ]
  },
  {
   "cell_type": "code",
   "execution_count": null,
   "id": "5a511022",
   "metadata": {},
   "outputs": [],
   "source": [
    "from sklearn.datasets import fetch_california_housing\n",
    "\n",
    "data, target = fetch_california_housing(return_X_y=True, as_frame=True)\n",
    "target *= 100  # rescale the target in k$"
   ]
  },
  {
   "cell_type": "markdown",
   "id": "68fd593d",
   "metadata": {},
   "source": [
    "First, create a histogram gradient boosting regressor. You can set the\n",
    "trees number to be large, and configure the model to use early-stopping."
   ]
  },
  {
   "cell_type": "code",
   "execution_count": null,
   "id": "f5d3b5c5",
   "metadata": {},
   "outputs": [],
   "source": [
    "# Write your code here."
   ]
  },
  {
   "cell_type": "markdown",
   "id": "e45a9b76",
   "metadata": {},
   "source": [
    "We will use a grid-search to find some optimal parameter for this model.\n",
    "In this grid-search, you should search for the following parameters:\n",
    "\n",
    "* `max_depth: [3, 8]`;\n",
    "* `max_leaf_nodes: [15, 31]`;\n",
    "* `learning_rate: [0.1, 1]`.\n",
    "\n",
    "Feel free to explore the space with additional values. Create the\n",
    "grid-search providing the previous gradient boosting instance as the model."
   ]
  },
  {
   "cell_type": "code",
   "execution_count": null,
   "id": "91914817",
   "metadata": {},
   "outputs": [],
   "source": [
    "# Write your code here."
   ]
  },
  {
   "cell_type": "markdown",
   "id": "5c43d19b",
   "metadata": {},
   "source": [
    "Finally, we will run our experiment through cross-validation. In this regard,\n",
    "define a 5-fold cross-validation. Besides, be sure to shuffle the data.\n",
    "Subsequently, use the function `sklearn.model_selection.cross_validate`\n",
    "to run the cross-validation. You should also set `return_estimator=True`,\n",
    "so that we can investigate the inner model trained via cross-validation."
   ]
  },
  {
   "cell_type": "code",
   "execution_count": null,
   "id": "be5694e5",
   "metadata": {},
   "outputs": [],
   "source": [
    "# Write your code here."
   ]
  },
  {
   "cell_type": "markdown",
   "id": "c8345579",
   "metadata": {},
   "source": [
    "Now that we got the cross-validation results, print out the mean and\n",
    "standard deviation score."
   ]
  },
  {
   "cell_type": "code",
   "execution_count": null,
   "id": "efc2c923",
   "metadata": {},
   "outputs": [],
   "source": [
    "# Write your code here."
   ]
  },
  {
   "cell_type": "markdown",
   "id": "bd8331ea",
   "metadata": {},
   "source": [
    "Then, inspect the `estimator` entry of the results and check the best\n",
    "parameters values. Besides, check the number of trees used by the model."
   ]
  },
  {
   "cell_type": "code",
   "execution_count": null,
   "id": "29b5d2c3",
   "metadata": {},
   "outputs": [],
   "source": [
    "# Write your code here."
   ]
  },
  {
   "cell_type": "markdown",
   "id": "35dfb2be",
   "metadata": {},
   "source": [
    "Inspect the results of the inner CV for each estimator of the outer CV.\n",
    "Aggregate the mean test score for each parameter combination and make a box\n",
    "plot of these scores."
   ]
  },
  {
   "cell_type": "code",
   "execution_count": null,
   "id": "687d54b6",
   "metadata": {},
   "outputs": [],
   "source": [
    "# Write your code here."
   ]
  }
 ],
 "metadata": {
  "jupytext": {
   "cell_metadata_filter": "-all",
   "main_language": "python",
   "notebook_metadata_filter": "-all"
  },
  "kernelspec": {
   "display_name": "Python 3",
   "language": "python",
   "name": "python3"
  },
  "language_info": {
   "codemirror_mode": {
    "name": "ipython",
    "version": 3
   },
   "file_extension": ".py",
   "mimetype": "text/x-python",
   "name": "python",
   "nbconvert_exporter": "python",
   "pygments_lexer": "ipython3",
   "version": "3.9.2"
  },
  "nbreset": "https://github.com/INRIA/scikit-learn-mooc/raw/master/notebooks/ensemble_ex_05.ipynb"
 },
 "nbformat": 4,
 "nbformat_minor": 5
}
