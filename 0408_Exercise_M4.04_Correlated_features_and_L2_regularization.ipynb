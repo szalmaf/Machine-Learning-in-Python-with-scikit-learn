{
 "cells": [
  {
   "cell_type": "markdown",
   "id": "ef5b8ba0",
   "metadata": {},
   "source": [
    "# 📝 Exercise M4.04\n",
    "\n",
    "In the previous notebook, we saw the effect of applying some regularization\n",
    "to the coefficient of a linear model.\n",
    "\n",
    "In this exercise, we will study the advantage of using some **regularization**\n",
    "when dealing with **correlated features**.\n",
    "\n",
    "We will first create an **artificial regression dataset**. This dataset will contain **2,000\n",
    "samples** and **5 features** from which only **2 features will be informative**."
   ]
  },
  {
   "cell_type": "code",
   "execution_count": 20,
   "id": "8c71f440",
   "metadata": {},
   "outputs": [],
   "source": [
    "from sklearn.datasets import make_regression\n",
    "\n",
    "data, target, coef = make_regression(\n",
    "    n_samples=2_000, n_features=5, n_informative=2, shuffle=False,\n",
    "    coef=True, random_state=0, noise=30,\n",
    ")"
   ]
  },
  {
   "cell_type": "markdown",
   "id": "b085b921",
   "metadata": {},
   "source": [
    "When creating the dataset, `make_regression` returns the true coefficient\n",
    "used to generate the dataset. Let's plot this information."
   ]
  },
  {
   "cell_type": "code",
   "execution_count": 21,
   "id": "bc199924",
   "metadata": {},
   "outputs": [
    {
     "data": {
      "text/plain": [
       "Features 0     9.566665\n",
       "Features 1    40.192077\n",
       "Features 2     0.000000\n",
       "Features 3     0.000000\n",
       "Features 4     0.000000\n",
       "dtype: float64"
      ]
     },
     "execution_count": 21,
     "metadata": {},
     "output_type": "execute_result"
    },
    {
     "data": {
      "image/png": "[encoded data removed]",
      "text/plain": [
       "<Figure size 432x288 with 1 Axes>"
      ]
     },
     "metadata": {
      "needs_background": "light"
     },
     "output_type": "display_data"
    }
   ],
   "source": [
    "import pandas as pd\n",
    "\n",
    "feature_names = [f\"Features {i}\" for i in range(data.shape[1])]\n",
    "coef = pd.Series(coef, index=feature_names)\n",
    "coef.plot.barh()\n",
    "coef"
   ]
  },
  {
   "cell_type": "markdown",
   "id": "ba84777d",
   "metadata": {},
   "source": [
    "Create a `LinearRegression` regressor and fit on the entire dataset and\n",
    "check the value of the coefficients. Are the coefficients of the linear\n",
    "regressor close to the coefficients used to generate the dataset?"
   ]
  },
  {
   "cell_type": "code",
   "execution_count": 22,
   "id": "b7380dbd",
   "metadata": {},
   "outputs": [
    {
     "data": {
      "text/plain": [
       "array([10.89587004, 40.41128042, -0.20542454, -0.18954462,  0.11129768])"
      ]
     },
     "execution_count": 22,
     "metadata": {},
     "output_type": "execute_result"
    }
   ],
   "source": [
    "from sklearn.linear_model import LinearRegression\n",
    "\n",
    "linear_regression = LinearRegression()\n",
    "linear_regression.fit(data, target)\n",
    "linear_regression.coef_"
   ]
  },
  {
   "cell_type": "code",
   "execution_count": 23,
   "id": "b83905dd",
   "metadata": {},
   "outputs": [
    {
     "data": {
      "image/png": "[encoded data removed]",
      "text/plain": [
       "<Figure size 432x288 with 1 Axes>"
      ]
     },
     "metadata": {
      "needs_background": "light"
     },
     "output_type": "display_data"
    }
   ],
   "source": [
    "feature_names = [f\"Features {i}\" for i in range(data.shape[1])]\n",
    "coef = pd.Series(linear_regression.coef_, index=feature_names)\n",
    "_ = coef.plot.barh()"
   ]
  },
  {
   "cell_type": "markdown",
   "id": "a77b513f",
   "metadata": {},
   "source": [
    "We see that the coefficients are close to the coefficients used to generate\n",
    "the dataset. Any deviation is caused by the noise introduced in the\n",
    "dataset generation."
   ]
  },
  {
   "cell_type": "markdown",
   "id": "b53f6c57",
   "metadata": {},
   "source": [
    "Now, create a new dataset similar to `data` with 4 additional\n",
    "columns repeating twice features 0 and 1. This procedure will create\n",
    "perfectly correlated features."
   ]
  },
  {
   "cell_type": "code",
   "execution_count": 24,
   "id": "b6f06f38",
   "metadata": {},
   "outputs": [
    {
     "data": {
      "text/plain": [
       "(2000, 9)"
      ]
     },
     "execution_count": 24,
     "metadata": {},
     "output_type": "execute_result"
    }
   ],
   "source": [
    "import numpy as np\n",
    "data = np.append(data, data[:, 0].reshape(-1, 1), axis=1)\n",
    "data = np.append(data, data[:, 0].reshape(-1, 1), axis=1)\n",
    "data = np.append(data, data[:, 1].reshape(-1, 1), axis=1)\n",
    "data = np.append(data, data[:, 1].reshape(-1, 1), axis=1)\n",
    "data.shape"
   ]
  },
  {
   "cell_type": "markdown",
   "id": "c786800e",
   "metadata": {},
   "source": [
    "Fit again the **linear regressor** on this new dataset and check the\n",
    "coefficients. What do you observe?"
   ]
  },
  {
   "cell_type": "code",
   "execution_count": 26,
   "id": "d0485b67",
   "metadata": {},
   "outputs": [
    {
     "data": {
      "text/plain": [
       "array([ 1.33594010e+12, -1.62497905e+14, -1.89453125e-01, -1.59301758e-01,\n",
       "        8.59375000e-02, -6.67970049e+11, -6.67970049e+11,  4.20600332e+13,\n",
       "        1.20437872e+14])"
      ]
     },
     "execution_count": 26,
     "metadata": {},
     "output_type": "execute_result"
    }
   ],
   "source": [
    "model2 = LinearRegression()\n",
    "model2.fit(data, target)\n",
    "model2.coef_"
   ]
  },
  {
   "cell_type": "markdown",
   "id": "4949d678",
   "metadata": {},
   "source": [
    "Create a **ridge regressor** and fit on the same dataset. Check the coefficients.\n",
    "What do you observe?"
   ]
  },
  {
   "cell_type": "code",
   "execution_count": 28,
   "id": "299d64d6",
   "metadata": {},
   "outputs": [
    {
     "data": {
      "text/plain": [
       "array([ 3.6313933 , 13.46802113, -0.20549345, -0.18929961,  0.11117205,\n",
       "        3.6313933 ,  3.6313933 , 13.46802113, 13.46802113])"
      ]
     },
     "execution_count": 28,
     "metadata": {},
     "output_type": "execute_result"
    }
   ],
   "source": [
    "from sklearn.linear_model import Ridge\n",
    "model3 = Ridge()\n",
    "model3.fit(data, target)\n",
    "model3.coef_"
   ]
  },
  {
   "cell_type": "markdown",
   "id": "3fc92218",
   "metadata": {},
   "source": [
    "Can you find the **relationship** between the **ridge coefficients** and the **original\n",
    "coefficients**?"
   ]
  },
  {
   "cell_type": "code",
   "execution_count": 31,
   "id": "b19ba706",
   "metadata": {},
   "outputs": [
    {
     "data": {
      "text/plain": [
       "array([0.33328163, 0.3332738 , 1.00033542, 0.99870739, 0.99887123])"
      ]
     },
     "execution_count": 31,
     "metadata": {},
     "output_type": "execute_result"
    }
   ],
   "source": [
    "model3.coef_[:5] / linear_regression.coef_"
   ]
  },
  {
   "cell_type": "markdown",
   "id": "69b05897",
   "metadata": {},
   "source": [
    "**Ridge regression** **distributes** the original **weights** across the correlated features **evenly**!"
   ]
  },
  {
   "cell_type": "code",
   "execution_count": null,
   "id": "85c2d180",
   "metadata": {},
   "outputs": [],
   "source": []
  }
 ],
 "metadata": {
  "jupytext": {
   "cell_metadata_filter": "-all",
   "main_language": "python",
   "notebook_metadata_filter": "-all"
  },
  "kernelspec": {
   "display_name": "Python 3",
   "language": "python",
   "name": "python3"
  },
  "language_info": {
   "codemirror_mode": {
    "name": "ipython",
    "version": 3
   },
   "file_extension": ".py",
   "mimetype": "text/x-python",
   "name": "python",
   "nbconvert_exporter": "python",
   "pygments_lexer": "ipython3",
   "version": "3.9.2"
  },
  "nbreset": "https://github.com/INRIA/scikit-learn-mooc/raw/master/notebooks/linear_models_ex_04.ipynb"
 },
 "nbformat": 4,
 "nbformat_minor": 5
}
