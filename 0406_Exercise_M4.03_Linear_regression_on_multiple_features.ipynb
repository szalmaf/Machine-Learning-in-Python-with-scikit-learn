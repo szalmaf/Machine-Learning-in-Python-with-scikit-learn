{
 "cells": [
  {
   "cell_type": "markdown",
   "id": "77a3ffa5",
   "metadata": {},
   "source": [
    "# 📝 Exercise M4.03\n",
    "\n",
    "In all previous notebooks, we only used a single feature in `data`. But we\n",
    "have already shown that we could add new features to make the model more\n",
    "expressive by deriving new features, based on the original feature.\n",
    "\n",
    "The aim of this notebook is to train a **linear regression** algorithm on a\n",
    "**dataset more than a single feature**.\n",
    "\n",
    "We will load a dataset about **house prices in California**.\n",
    "The dataset consists of 8 features regarding the demography and geography of\n",
    "districts in California and the aim is to predict the median house price of\n",
    "each district. We will **use all 8 features** to predict the target, the median\n",
    "house price."
   ]
  },
  {
   "cell_type": "markdown",
   "id": "f824a09e",
   "metadata": {},
   "source": [
    "<div class=\"admonition note alert alert-info\">\n",
    "<p class=\"first admonition-title\" style=\"font-weight: bold;\">Note</p>\n",
    "<p class=\"last\">If you want a deeper overview regarding this dataset, you can refer to the\n",
    "Appendix - Datasets description section at the end of this MOOC.</p>\n",
    "</div>"
   ]
  },
  {
   "cell_type": "code",
   "execution_count": 1,
   "id": "4fb9b721",
   "metadata": {},
   "outputs": [
    {
     "data": {
      "text/html": [
       "<div>\n",
       "<style scoped>\n",
       "    .dataframe tbody tr th:only-of-type {\n",
       "        vertical-align: middle;\n",
       "    }\n",
       "\n",
       "    .dataframe tbody tr th {\n",
       "        vertical-align: top;\n",
       "    }\n",
       "\n",
       "    .dataframe thead th {\n",
       "        text-align: right;\n",
       "    }\n",
       "</style>\n",
       "<table border=\"1\" class=\"dataframe\">\n",
       "  <thead>\n",
       "    <tr style=\"text-align: right;\">\n",
       "      <th></th>\n",
       "      <th>MedInc</th>\n",
       "      <th>HouseAge</th>\n",
       "      <th>AveRooms</th>\n",
       "      <th>AveBedrms</th>\n",
       "      <th>Population</th>\n",
       "      <th>AveOccup</th>\n",
       "      <th>Latitude</th>\n",
       "      <th>Longitude</th>\n",
       "    </tr>\n",
       "  </thead>\n",
       "  <tbody>\n",
       "    <tr>\n",
       "      <th>0</th>\n",
       "      <td>8.3252</td>\n",
       "      <td>41.0</td>\n",
       "      <td>6.984127</td>\n",
       "      <td>1.023810</td>\n",
       "      <td>322.0</td>\n",
       "      <td>2.555556</td>\n",
       "      <td>37.88</td>\n",
       "      <td>-122.23</td>\n",
       "    </tr>\n",
       "    <tr>\n",
       "      <th>1</th>\n",
       "      <td>8.3014</td>\n",
       "      <td>21.0</td>\n",
       "      <td>6.238137</td>\n",
       "      <td>0.971880</td>\n",
       "      <td>2401.0</td>\n",
       "      <td>2.109842</td>\n",
       "      <td>37.86</td>\n",
       "      <td>-122.22</td>\n",
       "    </tr>\n",
       "    <tr>\n",
       "      <th>2</th>\n",
       "      <td>7.2574</td>\n",
       "      <td>52.0</td>\n",
       "      <td>8.288136</td>\n",
       "      <td>1.073446</td>\n",
       "      <td>496.0</td>\n",
       "      <td>2.802260</td>\n",
       "      <td>37.85</td>\n",
       "      <td>-122.24</td>\n",
       "    </tr>\n",
       "    <tr>\n",
       "      <th>3</th>\n",
       "      <td>5.6431</td>\n",
       "      <td>52.0</td>\n",
       "      <td>5.817352</td>\n",
       "      <td>1.073059</td>\n",
       "      <td>558.0</td>\n",
       "      <td>2.547945</td>\n",
       "      <td>37.85</td>\n",
       "      <td>-122.25</td>\n",
       "    </tr>\n",
       "    <tr>\n",
       "      <th>4</th>\n",
       "      <td>3.8462</td>\n",
       "      <td>52.0</td>\n",
       "      <td>6.281853</td>\n",
       "      <td>1.081081</td>\n",
       "      <td>565.0</td>\n",
       "      <td>2.181467</td>\n",
       "      <td>37.85</td>\n",
       "      <td>-122.25</td>\n",
       "    </tr>\n",
       "  </tbody>\n",
       "</table>\n",
       "</div>"
      ],
      "text/plain": [
       "   MedInc  HouseAge  AveRooms  AveBedrms  Population  AveOccup  Latitude  \\\n",
       "0  8.3252      41.0  6.984127   1.023810       322.0  2.555556     37.88   \n",
       "1  8.3014      21.0  6.238137   0.971880      2401.0  2.109842     37.86   \n",
       "2  7.2574      52.0  8.288136   1.073446       496.0  2.802260     37.85   \n",
       "3  5.6431      52.0  5.817352   1.073059       558.0  2.547945     37.85   \n",
       "4  3.8462      52.0  6.281853   1.081081       565.0  2.181467     37.85   \n",
       "\n",
       "   Longitude  \n",
       "0    -122.23  \n",
       "1    -122.22  \n",
       "2    -122.24  \n",
       "3    -122.25  \n",
       "4    -122.25  "
      ]
     },
     "execution_count": 1,
     "metadata": {},
     "output_type": "execute_result"
    }
   ],
   "source": [
    "from sklearn.datasets import fetch_california_housing\n",
    "\n",
    "data, target = fetch_california_housing(as_frame=True, return_X_y=True)\n",
    "target *= 100  # rescale the target in k$\n",
    "data.head()"
   ]
  },
  {
   "cell_type": "markdown",
   "id": "71d9f761",
   "metadata": {},
   "source": [
    "Now this is your turn to train a linear regression model on this dataset.\n",
    "You will need to:\n",
    "* create a linear regression model;\n",
    "* execute a cross-validation with 10 folds and use the mean absolute error\n",
    "  (MAE) as metric. Ensure to return the fitted estimators;\n",
    "* compute mean and std of the MAE in thousands of dollars (k$);\n",
    "* show the values of the coefficients for each feature using a boxplot by\n",
    "  inspecting the fitted model returned from the cross-validation. Hint: you\n",
    "  use the function\n",
    "  [`df.plot.box()`](https://pandas.pydata.org/pandas-docs/stable/reference/api/pandas.DataFrame.plot.box.html)\n",
    "  to plot a box plot."
   ]
  },
  {
   "cell_type": "code",
   "execution_count": 2,
   "id": "ec038fba",
   "metadata": {},
   "outputs": [],
   "source": [
    "# Write your code here:\n",
    "from sklearn.linear_model import LinearRegression\n",
    "from sklearn.metrics import mean_absolute_error\n",
    "from sklearn.model_selection import cross_validate\n",
    "from sklearn.preprocessing import StandardScaler\n",
    "from sklearn.pipeline import make_pipeline\n",
    "\n",
    "modelp = make_pipeline(StandardScaler(), LinearRegression())\n",
    "\n",
    "cv_results = cross_validate(modelp, data, target, , scoring='neg_mean_absolute_error', cv=10, return_estimator=True)\n"
   ]
  },
  {
   "cell_type": "code",
   "execution_count": 4,
   "id": "4e5098cc",
   "metadata": {},
   "outputs": [],
   "source": [
    "cv_results['test_error'] = -cv_results['test_score']"
   ]
  },
  {
   "cell_type": "code",
   "execution_count": 8,
   "id": "dfa4ed50",
   "metadata": {},
   "outputs": [
    {
     "data": {
      "text/plain": [
       "(54.452143932663276, 9.109300167800413)"
      ]
     },
     "execution_count": 8,
     "metadata": {},
     "output_type": "execute_result"
    }
   ],
   "source": [
    "cv_results['test_error'].mean(), cv_results['test_error'].std()"
   ]
  },
  {
   "cell_type": "code",
   "execution_count": 9,
   "id": "0cbee31b",
   "metadata": {},
   "outputs": [
    {
     "data": {
      "text/plain": [
       "{'fit_time': array([0.00871658, 0.00716996, 0.00691152, 0.00707269, 0.00691199,\n",
       "        0.00688744, 0.0069387 , 0.0079565 , 0.00687599, 0.00688887]),\n",
       " 'score_time': array([0.00145078, 0.00134587, 0.00133681, 0.00138593, 0.00134373,\n",
       "        0.00134492, 0.00132656, 0.00132799, 0.00131631, 0.00130677]),\n",
       " 'estimator': [Pipeline(steps=[('standardscaler', StandardScaler()),\n",
       "                  ('linearregression', LinearRegression())]),\n",
       "  Pipeline(steps=[('standardscaler', StandardScaler()),\n",
       "                  ('linearregression', LinearRegression())]),\n",
       "  Pipeline(steps=[('standardscaler', StandardScaler()),\n",
       "                  ('linearregression', LinearRegression())]),\n",
       "  Pipeline(steps=[('standardscaler', StandardScaler()),\n",
       "                  ('linearregression', LinearRegression())]),\n",
       "  Pipeline(steps=[('standardscaler', StandardScaler()),\n",
       "                  ('linearregression', LinearRegression())]),\n",
       "  Pipeline(steps=[('standardscaler', StandardScaler()),\n",
       "                  ('linearregression', LinearRegression())]),\n",
       "  Pipeline(steps=[('standardscaler', StandardScaler()),\n",
       "                  ('linearregression', LinearRegression())]),\n",
       "  Pipeline(steps=[('standardscaler', StandardScaler()),\n",
       "                  ('linearregression', LinearRegression())]),\n",
       "  Pipeline(steps=[('standardscaler', StandardScaler()),\n",
       "                  ('linearregression', LinearRegression())]),\n",
       "  Pipeline(steps=[('standardscaler', StandardScaler()),\n",
       "                  ('linearregression', LinearRegression())])],\n",
       " 'test_score': array([-53.51667968, -52.91050431, -67.85147748, -47.48574496,\n",
       "        -65.19784225, -50.0921865 , -39.62986083, -64.00626799,\n",
       "        -60.28617579, -43.54469953]),\n",
       " 'test_error': array([53.51667968, 52.91050431, 67.85147748, 47.48574496, 65.19784225,\n",
       "        50.0921865 , 39.62986083, 64.00626799, 60.28617579, 43.54469953])}"
      ]
     },
     "execution_count": 9,
     "metadata": {},
     "output_type": "execute_result"
    }
   ],
   "source": [
    "cv_results"
   ]
  },
  {
   "cell_type": "code",
   "execution_count": 59,
   "id": "5d0dda95",
   "metadata": {},
   "outputs": [
    {
     "data": {
      "text/plain": [
       "{'memory': None,\n",
       " 'steps': [('standardscaler', StandardScaler()),\n",
       "  ('linearregression', LinearRegression())],\n",
       " 'verbose': False,\n",
       " 'standardscaler': StandardScaler(),\n",
       " 'linearregression': LinearRegression(),\n",
       " 'standardscaler__copy': True,\n",
       " 'standardscaler__with_mean': True,\n",
       " 'standardscaler__with_std': True,\n",
       " 'linearregression__copy_X': True,\n",
       " 'linearregression__fit_intercept': True,\n",
       " 'linearregression__n_jobs': None,\n",
       " 'linearregression__normalize': False,\n",
       " 'linearregression__positive': False}"
      ]
     },
     "execution_count": 59,
     "metadata": {},
     "output_type": "execute_result"
    }
   ],
   "source": [
    "modelp.get_params()"
   ]
  },
  {
   "cell_type": "code",
   "execution_count": 23,
   "id": "3720e17e",
   "metadata": {},
   "outputs": [
    {
     "data": {
      "text/plain": [
       "array([ 84.687005  ,  13.30022358, -25.45742533,  28.37385942,\n",
       "        -0.51471517,  -4.13925663, -93.60184164, -93.00389282])"
      ]
     },
     "execution_count": 23,
     "metadata": {},
     "output_type": "execute_result"
    }
   ],
   "source": [
    "cv_results['estimator'][0].get_params()['linearregression'].coef_"
   ]
  },
  {
   "cell_type": "code",
   "execution_count": 36,
   "id": "5a0d701a",
   "metadata": {},
   "outputs": [],
   "source": [
    "import numpy as np\n",
    "d = np.stack((cv_results['estimator'][i].get_params()['linearregression'].coef_ for i in range(10)))"
   ]
  },
  {
   "cell_type": "code",
   "execution_count": 45,
   "id": "8f0cead2",
   "metadata": {},
   "outputs": [
    {
     "data": {
      "text/plain": [
       "(array([ 82.80742912,  11.81529017, -26.13835244,  30.15089161,\n",
       "         -0.46207102,  -3.93916947, -89.75671812, -86.77943817]),\n",
       " array([2.00246141, 1.47489866, 3.23682644, 2.86070688, 0.63553267,\n",
       "        0.27646275, 2.21305397, 3.99505033]))"
      ]
     },
     "execution_count": 45,
     "metadata": {},
     "output_type": "execute_result"
    }
   ],
   "source": [
    "d.mean(axis=0), d.std(axis=0)"
   ]
  },
  {
   "cell_type": "code",
   "execution_count": 50,
   "id": "e961db04",
   "metadata": {},
   "outputs": [],
   "source": [
    "import pandas as pd\n",
    "ddf = pd.DataFrame(d, columns=data.columns)"
   ]
  },
  {
   "cell_type": "code",
   "execution_count": 51,
   "id": "64ebe5ab",
   "metadata": {},
   "outputs": [
    {
     "data": {
      "text/html": [
       "<div>\n",
       "<style scoped>\n",
       "    .dataframe tbody tr th:only-of-type {\n",
       "        vertical-align: middle;\n",
       "    }\n",
       "\n",
       "    .dataframe tbody tr th {\n",
       "        vertical-align: top;\n",
       "    }\n",
       "\n",
       "    .dataframe thead th {\n",
       "        text-align: right;\n",
       "    }\n",
       "</style>\n",
       "<table border=\"1\" class=\"dataframe\">\n",
       "  <thead>\n",
       "    <tr style=\"text-align: right;\">\n",
       "      <th></th>\n",
       "      <th>MedInc</th>\n",
       "      <th>HouseAge</th>\n",
       "      <th>AveRooms</th>\n",
       "      <th>AveBedrms</th>\n",
       "      <th>Population</th>\n",
       "      <th>AveOccup</th>\n",
       "      <th>Latitude</th>\n",
       "      <th>Longitude</th>\n",
       "    </tr>\n",
       "  </thead>\n",
       "  <tbody>\n",
       "    <tr>\n",
       "      <th>0</th>\n",
       "      <td>84.687005</td>\n",
       "      <td>13.300224</td>\n",
       "      <td>-25.457425</td>\n",
       "      <td>28.373859</td>\n",
       "      <td>-0.514715</td>\n",
       "      <td>-4.139257</td>\n",
       "      <td>-93.601842</td>\n",
       "      <td>-93.003893</td>\n",
       "    </tr>\n",
       "    <tr>\n",
       "      <th>1</th>\n",
       "      <td>82.016096</td>\n",
       "      <td>12.023014</td>\n",
       "      <td>-24.707524</td>\n",
       "      <td>29.124940</td>\n",
       "      <td>-1.023629</td>\n",
       "      <td>-4.140397</td>\n",
       "      <td>-87.306747</td>\n",
       "      <td>-85.693024</td>\n",
       "    </tr>\n",
       "    <tr>\n",
       "      <th>2</th>\n",
       "      <td>79.593128</td>\n",
       "      <td>11.522875</td>\n",
       "      <td>-19.837779</td>\n",
       "      <td>25.330094</td>\n",
       "      <td>-0.767291</td>\n",
       "      <td>-3.703485</td>\n",
       "      <td>-89.700142</td>\n",
       "      <td>-88.900108</td>\n",
       "    </tr>\n",
       "    <tr>\n",
       "      <th>3</th>\n",
       "      <td>84.359832</td>\n",
       "      <td>12.742929</td>\n",
       "      <td>-29.887261</td>\n",
       "      <td>33.944832</td>\n",
       "      <td>-0.622550</td>\n",
       "      <td>-3.889465</td>\n",
       "      <td>-92.982881</td>\n",
       "      <td>-89.305143</td>\n",
       "    </tr>\n",
       "    <tr>\n",
       "      <th>4</th>\n",
       "      <td>80.140487</td>\n",
       "      <td>11.514939</td>\n",
       "      <td>-23.685048</td>\n",
       "      <td>27.794999</td>\n",
       "      <td>0.352068</td>\n",
       "      <td>-3.811377</td>\n",
       "      <td>-90.985319</td>\n",
       "      <td>-89.326592</td>\n",
       "    </tr>\n",
       "    <tr>\n",
       "      <th>5</th>\n",
       "      <td>83.882322</td>\n",
       "      <td>12.955805</td>\n",
       "      <td>-30.101869</td>\n",
       "      <td>32.758102</td>\n",
       "      <td>0.540717</td>\n",
       "      <td>-4.131999</td>\n",
       "      <td>-90.478475</td>\n",
       "      <td>-87.979980</td>\n",
       "    </tr>\n",
       "    <tr>\n",
       "      <th>6</th>\n",
       "      <td>84.713217</td>\n",
       "      <td>12.407951</td>\n",
       "      <td>-26.986923</td>\n",
       "      <td>31.003670</td>\n",
       "      <td>-0.128024</td>\n",
       "      <td>-4.085957</td>\n",
       "      <td>-87.847760</td>\n",
       "      <td>-84.016285</td>\n",
       "    </tr>\n",
       "    <tr>\n",
       "      <th>7</th>\n",
       "      <td>82.314417</td>\n",
       "      <td>7.784508</td>\n",
       "      <td>-22.882810</td>\n",
       "      <td>27.022992</td>\n",
       "      <td>-1.784788</td>\n",
       "      <td>-3.678855</td>\n",
       "      <td>-86.392901</td>\n",
       "      <td>-78.945164</td>\n",
       "    </tr>\n",
       "    <tr>\n",
       "      <th>8</th>\n",
       "      <td>80.863194</td>\n",
       "      <td>11.434014</td>\n",
       "      <td>-28.877235</td>\n",
       "      <td>33.095143</td>\n",
       "      <td>-0.478989</td>\n",
       "      <td>-4.395693</td>\n",
       "      <td>-89.224882</td>\n",
       "      <td>-81.600132</td>\n",
       "    </tr>\n",
       "    <tr>\n",
       "      <th>9</th>\n",
       "      <td>85.504594</td>\n",
       "      <td>12.466643</td>\n",
       "      <td>-28.959649</td>\n",
       "      <td>33.060284</td>\n",
       "      <td>-0.193508</td>\n",
       "      <td>-3.415210</td>\n",
       "      <td>-89.046234</td>\n",
       "      <td>-89.024061</td>\n",
       "    </tr>\n",
       "  </tbody>\n",
       "</table>\n",
       "</div>"
      ],
      "text/plain": [
       "      MedInc   HouseAge   AveRooms  AveBedrms  Population  AveOccup  \\\n",
       "0  84.687005  13.300224 -25.457425  28.373859   -0.514715 -4.139257   \n",
       "1  82.016096  12.023014 -24.707524  29.124940   -1.023629 -4.140397   \n",
       "2  79.593128  11.522875 -19.837779  25.330094   -0.767291 -3.703485   \n",
       "3  84.359832  12.742929 -29.887261  33.944832   -0.622550 -3.889465   \n",
       "4  80.140487  11.514939 -23.685048  27.794999    0.352068 -3.811377   \n",
       "5  83.882322  12.955805 -30.101869  32.758102    0.540717 -4.131999   \n",
       "6  84.713217  12.407951 -26.986923  31.003670   -0.128024 -4.085957   \n",
       "7  82.314417   7.784508 -22.882810  27.022992   -1.784788 -3.678855   \n",
       "8  80.863194  11.434014 -28.877235  33.095143   -0.478989 -4.395693   \n",
       "9  85.504594  12.466643 -28.959649  33.060284   -0.193508 -3.415210   \n",
       "\n",
       "    Latitude  Longitude  \n",
       "0 -93.601842 -93.003893  \n",
       "1 -87.306747 -85.693024  \n",
       "2 -89.700142 -88.900108  \n",
       "3 -92.982881 -89.305143  \n",
       "4 -90.985319 -89.326592  \n",
       "5 -90.478475 -87.979980  \n",
       "6 -87.847760 -84.016285  \n",
       "7 -86.392901 -78.945164  \n",
       "8 -89.224882 -81.600132  \n",
       "9 -89.046234 -89.024061  "
      ]
     },
     "execution_count": 51,
     "metadata": {},
     "output_type": "execute_result"
    }
   ],
   "source": [
    "ddf"
   ]
  },
  {
   "cell_type": "code",
   "execution_count": 57,
   "id": "7cd818ab",
   "metadata": {},
   "outputs": [
    {
     "data": {
      "text/plain": [
       "(array([1, 2, 3, 4, 5, 6, 7, 8]),\n",
       " [Text(1, 0, 'MedInc'),\n",
       "  Text(2, 0, 'HouseAge'),\n",
       "  Text(3, 0, 'AveRooms'),\n",
       "  Text(4, 0, 'AveBedrms'),\n",
       "  Text(5, 0, 'Population'),\n",
       "  Text(6, 0, 'AveOccup'),\n",
       "  Text(7, 0, 'Latitude'),\n",
       "  Text(8, 0, 'Longitude')])"
      ]
     },
     "execution_count": 57,
     "metadata": {},
     "output_type": "execute_result"
    },
    {
     "data": {
      "image/png": "[encoded data removed]",
      "text/plain": [
       "<Figure size 432x288 with 1 Axes>"
      ]
     },
     "metadata": {
      "needs_background": "light"
     },
     "output_type": "display_data"
    }
   ],
   "source": [
    "import matplotlib.pyplot as plt\n",
    "ax = ddf.plot.box()\n",
    "plt.xticks(rotation=90)"
   ]
  },
  {
   "cell_type": "code",
   "execution_count": null,
   "id": "9f160c2b",
   "metadata": {},
   "outputs": [],
   "source": []
  }
 ],
 "metadata": {
  "jupytext": {
   "cell_metadata_filter": "-all",
   "main_language": "python",
   "notebook_metadata_filter": "-all"
  },
  "kernelspec": {
   "display_name": "Python 3",
   "language": "python",
   "name": "python3"
  },
  "language_info": {
   "codemirror_mode": {
    "name": "ipython",
    "version": 3
   },
   "file_extension": ".py",
   "mimetype": "text/x-python",
   "name": "python",
   "nbconvert_exporter": "python",
   "pygments_lexer": "ipython3",
   "version": "3.9.2"
  },
  "nbreset": "https://github.com/INRIA/scikit-learn-mooc/raw/master/notebooks/linear_models_ex_03.ipynb"
 },
 "nbformat": 4,
 "nbformat_minor": 5
}
