{
 "cells": [
  {
   "cell_type": "markdown",
   "id": "d5ca7a7a",
   "metadata": {},
   "source": [
    "# 📝 Exercise M7.01\n",
    "\n",
    "This notebook aims at **building baseline classifiers**, which we use to\n",
    "compare our predictive model with. Besides, we check the differences with\n",
    "the baselines that we saw in regression.\n",
    "\n",
    "We use the **adult census dataset**, using **only the numerical features**."
   ]
  },
  {
   "cell_type": "code",
   "execution_count": 1,
   "id": "d83fcbb0",
   "metadata": {},
   "outputs": [],
   "source": [
    "import pandas as pd\n",
    "\n",
    "adult_census = pd.read_csv(\"../datasets/adult-census-numeric-all.csv\")\n",
    "data, target = adult_census.drop(columns=\"class\"), adult_census[\"class\"]"
   ]
  },
  {
   "cell_type": "code",
   "execution_count": 2,
   "id": "45ad88be",
   "metadata": {},
   "outputs": [
    {
     "data": {
      "text/html": [
       "<div>\n",
       "<style scoped>\n",
       "    .dataframe tbody tr th:only-of-type {\n",
       "        vertical-align: middle;\n",
       "    }\n",
       "\n",
       "    .dataframe tbody tr th {\n",
       "        vertical-align: top;\n",
       "    }\n",
       "\n",
       "    .dataframe thead th {\n",
       "        text-align: right;\n",
       "    }\n",
       "</style>\n",
       "<table border=\"1\" class=\"dataframe\">\n",
       "  <thead>\n",
       "    <tr style=\"text-align: right;\">\n",
       "      <th></th>\n",
       "      <th>age</th>\n",
       "      <th>education-num</th>\n",
       "      <th>capital-gain</th>\n",
       "      <th>capital-loss</th>\n",
       "      <th>hours-per-week</th>\n",
       "    </tr>\n",
       "  </thead>\n",
       "  <tbody>\n",
       "    <tr>\n",
       "      <th>0</th>\n",
       "      <td>25</td>\n",
       "      <td>7</td>\n",
       "      <td>0</td>\n",
       "      <td>0</td>\n",
       "      <td>40</td>\n",
       "    </tr>\n",
       "    <tr>\n",
       "      <th>1</th>\n",
       "      <td>38</td>\n",
       "      <td>9</td>\n",
       "      <td>0</td>\n",
       "      <td>0</td>\n",
       "      <td>50</td>\n",
       "    </tr>\n",
       "    <tr>\n",
       "      <th>2</th>\n",
       "      <td>28</td>\n",
       "      <td>12</td>\n",
       "      <td>0</td>\n",
       "      <td>0</td>\n",
       "      <td>40</td>\n",
       "    </tr>\n",
       "    <tr>\n",
       "      <th>3</th>\n",
       "      <td>44</td>\n",
       "      <td>10</td>\n",
       "      <td>7688</td>\n",
       "      <td>0</td>\n",
       "      <td>40</td>\n",
       "    </tr>\n",
       "    <tr>\n",
       "      <th>4</th>\n",
       "      <td>18</td>\n",
       "      <td>10</td>\n",
       "      <td>0</td>\n",
       "      <td>0</td>\n",
       "      <td>30</td>\n",
       "    </tr>\n",
       "  </tbody>\n",
       "</table>\n",
       "</div>"
      ],
      "text/plain": [
       "   age  education-num  capital-gain  capital-loss  hours-per-week\n",
       "0   25              7             0             0              40\n",
       "1   38              9             0             0              50\n",
       "2   28             12             0             0              40\n",
       "3   44             10          7688             0              40\n",
       "4   18             10             0             0              30"
      ]
     },
     "execution_count": 2,
     "metadata": {},
     "output_type": "execute_result"
    }
   ],
   "source": [
    "data.head()"
   ]
  },
  {
   "cell_type": "code",
   "execution_count": 3,
   "id": "86ccd3ff",
   "metadata": {},
   "outputs": [
    {
     "data": {
      "text/plain": [
       "0         <=50K\n",
       "1         <=50K\n",
       "2          >50K\n",
       "3          >50K\n",
       "4         <=50K\n",
       "          ...  \n",
       "48837     <=50K\n",
       "48838      >50K\n",
       "48839     <=50K\n",
       "48840     <=50K\n",
       "48841      >50K\n",
       "Name: class, Length: 48842, dtype: object"
      ]
     },
     "execution_count": 3,
     "metadata": {},
     "output_type": "execute_result"
    }
   ],
   "source": [
    "target"
   ]
  },
  {
   "cell_type": "markdown",
   "id": "1ceb8a6e",
   "metadata": {},
   "source": [
    "First, define a **`ShuffleSplit` cross-validation strategy** setting **half of the\n",
    "sample as a test set** in each round."
   ]
  },
  {
   "cell_type": "code",
   "execution_count": 8,
   "id": "a629e2d5",
   "metadata": {},
   "outputs": [],
   "source": [
    "from sklearn.model_selection import ShuffleSplit\n",
    "\n",
    "cv = ShuffleSplit(n_splits=30, test_size=0.5, random_state=42)"
   ]
  },
  {
   "cell_type": "markdown",
   "id": "0781ed92",
   "metadata": {},
   "source": [
    "Next, create a **machine learning pipeline** composed of a transformer to\n",
    "**standardize the data** followed by a **logistic regression**."
   ]
  },
  {
   "cell_type": "code",
   "execution_count": 9,
   "id": "530a0aab",
   "metadata": {},
   "outputs": [],
   "source": [
    "from sklearn.preprocessing import StandardScaler\n",
    "from sklearn.linear_model import LogisticRegression\n",
    "from sklearn.pipeline import make_pipeline\n",
    "\n",
    "modelp = make_pipeline(StandardScaler(), LogisticRegression())"
   ]
  },
  {
   "cell_type": "markdown",
   "id": "130d0b5e",
   "metadata": {},
   "source": [
    "**Compute the test score** by using the model, the data, and the cross-validation\n",
    "strategy that you defined above."
   ]
  },
  {
   "cell_type": "code",
   "execution_count": 10,
   "id": "d1809701",
   "metadata": {},
   "outputs": [
    {
     "data": {
      "text/plain": [
       "array([0.81417632, 0.81434012, 0.81704271, 0.81499529, 0.81384874,\n",
       "       0.81319356, 0.81520003, 0.81581426, 0.81462676, 0.81290692,\n",
       "       0.81384874, 0.80946726, 0.81372589, 0.81126899, 0.81425822,\n",
       "       0.81380779, 0.81425822, 0.81040907, 0.81622374, 0.81307072,\n",
       "       0.81225175, 0.81253839, 0.81147373, 0.81446296, 0.80795217,\n",
       "       0.81065476, 0.81487245, 0.81421727, 0.81495434, 0.81597805])"
      ]
     },
     "execution_count": 10,
     "metadata": {},
     "output_type": "execute_result"
    }
   ],
   "source": [
    "from sklearn.model_selection import cross_val_score\n",
    "\n",
    "scorel = cross_val_score(modelp, data, target, cv=cv)\n",
    "scorel"
   ]
  },
  {
   "cell_type": "markdown",
   "id": "f3d05b4a",
   "metadata": {},
   "source": [
    "Using the **`sklearn.model_selection.permutation_test_score`** function,\n",
    "**check the chance level** of the previous model."
   ]
  },
  {
   "cell_type": "code",
   "execution_count": 7,
   "id": "dbaf2237",
   "metadata": {},
   "outputs": [
    {
     "data": {
      "text/plain": [
       "array([0.75970271, 0.76029647, 0.76101306, 0.75978871, 0.76025961,\n",
       "       0.76153311, 0.76031694, 0.76035379, 0.76028009, 0.76115638,\n",
       "       0.76062815, 0.76084517, 0.76160272, 0.76073461, 0.76081242,\n",
       "       0.76048483, 0.76014496, 0.76064862, 0.7605053 , 0.76114   ,\n",
       "       0.76067319, 0.76114   , 0.76038655, 0.76059948, 0.76102535,\n",
       "       0.75982556, 0.76113181, 0.76082879, 0.76044798, 0.75957577])"
      ]
     },
     "execution_count": 7,
     "metadata": {},
     "output_type": "execute_result"
    }
   ],
   "source": [
    "from sklearn.model_selection import permutation_test_score\n",
    "\n",
    "scorep, perm_score, pvalue = permutation_test_score(modelp, data, target, cv=cv, n_permutations=30)\n",
    "perm_score"
   ]
  },
  {
   "cell_type": "markdown",
   "id": "eb1ca26a",
   "metadata": {},
   "source": [
    "Finally, compute the test score of a **dummy classifier** which would predict\n",
    "the most frequent class from the training set. You can look at the\n",
    "`sklearn.dummy.DummyClassifier` class."
   ]
  },
  {
   "cell_type": "code",
   "execution_count": 12,
   "id": "57401f55",
   "metadata": {},
   "outputs": [
    {
     "data": {
      "text/plain": [
       "array([0.76290897, 0.75922362, 0.76319561, 0.7597969 , 0.75807706,\n",
       "       0.76094345, 0.76303182, 0.76454691, 0.76057492, 0.75815896,\n",
       "       0.76303182, 0.75914172, 0.76278613, 0.75631629, 0.76020638,\n",
       "       0.76028828, 0.75987879, 0.75951026, 0.75951026, 0.76028828,\n",
       "       0.76303182, 0.76045207, 0.75688956, 0.76086155, 0.75357274,\n",
       "       0.75754474, 0.76237664, 0.76065681, 0.76077966, 0.7609844 ])"
      ]
     },
     "execution_count": 12,
     "metadata": {},
     "output_type": "execute_result"
    }
   ],
   "source": [
    "from sklearn.dummy import DummyClassifier\n",
    "\n",
    "dummy = DummyClassifier()\n",
    "scored = cross_val_score(dummy, data, target, cv=cv)\n",
    "scored"
   ]
  },
  {
   "cell_type": "markdown",
   "id": "38ff43a7",
   "metadata": {},
   "source": [
    "Now that we collected the scores from the baselines and the model, **plot\n",
    "the distributions of the different test scores**."
   ]
  },
  {
   "cell_type": "markdown",
   "id": "251afb22",
   "metadata": {},
   "source": [
    "We concatenate the different test scores in the same pandas dataframe."
   ]
  },
  {
   "cell_type": "code",
   "execution_count": 17,
   "id": "044c34ae",
   "metadata": {},
   "outputs": [
    {
     "data": {
      "text/html": [
       "<div>\n",
       "<style scoped>\n",
       "    .dataframe tbody tr th:only-of-type {\n",
       "        vertical-align: middle;\n",
       "    }\n",
       "\n",
       "    .dataframe tbody tr th {\n",
       "        vertical-align: top;\n",
       "    }\n",
       "\n",
       "    .dataframe thead th {\n",
       "        text-align: right;\n",
       "    }\n",
       "</style>\n",
       "<table border=\"1\" class=\"dataframe\">\n",
       "  <thead>\n",
       "    <tr style=\"text-align: right;\">\n",
       "      <th></th>\n",
       "      <th>perm</th>\n",
       "      <th>dummy</th>\n",
       "      <th>logistic</th>\n",
       "    </tr>\n",
       "  </thead>\n",
       "  <tbody>\n",
       "    <tr>\n",
       "      <th>0</th>\n",
       "      <td>0.759703</td>\n",
       "      <td>0.762909</td>\n",
       "      <td>0.814176</td>\n",
       "    </tr>\n",
       "    <tr>\n",
       "      <th>1</th>\n",
       "      <td>0.760296</td>\n",
       "      <td>0.759224</td>\n",
       "      <td>0.814340</td>\n",
       "    </tr>\n",
       "    <tr>\n",
       "      <th>2</th>\n",
       "      <td>0.761013</td>\n",
       "      <td>0.763196</td>\n",
       "      <td>0.817043</td>\n",
       "    </tr>\n",
       "    <tr>\n",
       "      <th>3</th>\n",
       "      <td>0.759789</td>\n",
       "      <td>0.759797</td>\n",
       "      <td>0.814995</td>\n",
       "    </tr>\n",
       "    <tr>\n",
       "      <th>4</th>\n",
       "      <td>0.760260</td>\n",
       "      <td>0.758077</td>\n",
       "      <td>0.813849</td>\n",
       "    </tr>\n",
       "    <tr>\n",
       "      <th>5</th>\n",
       "      <td>0.761533</td>\n",
       "      <td>0.760943</td>\n",
       "      <td>0.813194</td>\n",
       "    </tr>\n",
       "    <tr>\n",
       "      <th>6</th>\n",
       "      <td>0.760317</td>\n",
       "      <td>0.763032</td>\n",
       "      <td>0.815200</td>\n",
       "    </tr>\n",
       "    <tr>\n",
       "      <th>7</th>\n",
       "      <td>0.760354</td>\n",
       "      <td>0.764547</td>\n",
       "      <td>0.815814</td>\n",
       "    </tr>\n",
       "    <tr>\n",
       "      <th>8</th>\n",
       "      <td>0.760280</td>\n",
       "      <td>0.760575</td>\n",
       "      <td>0.814627</td>\n",
       "    </tr>\n",
       "    <tr>\n",
       "      <th>9</th>\n",
       "      <td>0.761156</td>\n",
       "      <td>0.758159</td>\n",
       "      <td>0.812907</td>\n",
       "    </tr>\n",
       "    <tr>\n",
       "      <th>10</th>\n",
       "      <td>0.760628</td>\n",
       "      <td>0.763032</td>\n",
       "      <td>0.813849</td>\n",
       "    </tr>\n",
       "    <tr>\n",
       "      <th>11</th>\n",
       "      <td>0.760845</td>\n",
       "      <td>0.759142</td>\n",
       "      <td>0.809467</td>\n",
       "    </tr>\n",
       "    <tr>\n",
       "      <th>12</th>\n",
       "      <td>0.761603</td>\n",
       "      <td>0.762786</td>\n",
       "      <td>0.813726</td>\n",
       "    </tr>\n",
       "    <tr>\n",
       "      <th>13</th>\n",
       "      <td>0.760735</td>\n",
       "      <td>0.756316</td>\n",
       "      <td>0.811269</td>\n",
       "    </tr>\n",
       "    <tr>\n",
       "      <th>14</th>\n",
       "      <td>0.760812</td>\n",
       "      <td>0.760206</td>\n",
       "      <td>0.814258</td>\n",
       "    </tr>\n",
       "    <tr>\n",
       "      <th>15</th>\n",
       "      <td>0.760485</td>\n",
       "      <td>0.760288</td>\n",
       "      <td>0.813808</td>\n",
       "    </tr>\n",
       "    <tr>\n",
       "      <th>16</th>\n",
       "      <td>0.760145</td>\n",
       "      <td>0.759879</td>\n",
       "      <td>0.814258</td>\n",
       "    </tr>\n",
       "    <tr>\n",
       "      <th>17</th>\n",
       "      <td>0.760649</td>\n",
       "      <td>0.759510</td>\n",
       "      <td>0.810409</td>\n",
       "    </tr>\n",
       "    <tr>\n",
       "      <th>18</th>\n",
       "      <td>0.760505</td>\n",
       "      <td>0.759510</td>\n",
       "      <td>0.816224</td>\n",
       "    </tr>\n",
       "    <tr>\n",
       "      <th>19</th>\n",
       "      <td>0.761140</td>\n",
       "      <td>0.760288</td>\n",
       "      <td>0.813071</td>\n",
       "    </tr>\n",
       "    <tr>\n",
       "      <th>20</th>\n",
       "      <td>0.760673</td>\n",
       "      <td>0.763032</td>\n",
       "      <td>0.812252</td>\n",
       "    </tr>\n",
       "    <tr>\n",
       "      <th>21</th>\n",
       "      <td>0.761140</td>\n",
       "      <td>0.760452</td>\n",
       "      <td>0.812538</td>\n",
       "    </tr>\n",
       "    <tr>\n",
       "      <th>22</th>\n",
       "      <td>0.760387</td>\n",
       "      <td>0.756890</td>\n",
       "      <td>0.811474</td>\n",
       "    </tr>\n",
       "    <tr>\n",
       "      <th>23</th>\n",
       "      <td>0.760599</td>\n",
       "      <td>0.760862</td>\n",
       "      <td>0.814463</td>\n",
       "    </tr>\n",
       "    <tr>\n",
       "      <th>24</th>\n",
       "      <td>0.761025</td>\n",
       "      <td>0.753573</td>\n",
       "      <td>0.807952</td>\n",
       "    </tr>\n",
       "    <tr>\n",
       "      <th>25</th>\n",
       "      <td>0.759826</td>\n",
       "      <td>0.757545</td>\n",
       "      <td>0.810655</td>\n",
       "    </tr>\n",
       "    <tr>\n",
       "      <th>26</th>\n",
       "      <td>0.761132</td>\n",
       "      <td>0.762377</td>\n",
       "      <td>0.814872</td>\n",
       "    </tr>\n",
       "    <tr>\n",
       "      <th>27</th>\n",
       "      <td>0.760829</td>\n",
       "      <td>0.760657</td>\n",
       "      <td>0.814217</td>\n",
       "    </tr>\n",
       "    <tr>\n",
       "      <th>28</th>\n",
       "      <td>0.760448</td>\n",
       "      <td>0.760780</td>\n",
       "      <td>0.814954</td>\n",
       "    </tr>\n",
       "    <tr>\n",
       "      <th>29</th>\n",
       "      <td>0.759576</td>\n",
       "      <td>0.760984</td>\n",
       "      <td>0.815978</td>\n",
       "    </tr>\n",
       "  </tbody>\n",
       "</table>\n",
       "</div>"
      ],
      "text/plain": [
       "        perm     dummy  logistic\n",
       "0   0.759703  0.762909  0.814176\n",
       "1   0.760296  0.759224  0.814340\n",
       "2   0.761013  0.763196  0.817043\n",
       "3   0.759789  0.759797  0.814995\n",
       "4   0.760260  0.758077  0.813849\n",
       "5   0.761533  0.760943  0.813194\n",
       "6   0.760317  0.763032  0.815200\n",
       "7   0.760354  0.764547  0.815814\n",
       "8   0.760280  0.760575  0.814627\n",
       "9   0.761156  0.758159  0.812907\n",
       "10  0.760628  0.763032  0.813849\n",
       "11  0.760845  0.759142  0.809467\n",
       "12  0.761603  0.762786  0.813726\n",
       "13  0.760735  0.756316  0.811269\n",
       "14  0.760812  0.760206  0.814258\n",
       "15  0.760485  0.760288  0.813808\n",
       "16  0.760145  0.759879  0.814258\n",
       "17  0.760649  0.759510  0.810409\n",
       "18  0.760505  0.759510  0.816224\n",
       "19  0.761140  0.760288  0.813071\n",
       "20  0.760673  0.763032  0.812252\n",
       "21  0.761140  0.760452  0.812538\n",
       "22  0.760387  0.756890  0.811474\n",
       "23  0.760599  0.760862  0.814463\n",
       "24  0.761025  0.753573  0.807952\n",
       "25  0.759826  0.757545  0.810655\n",
       "26  0.761132  0.762377  0.814872\n",
       "27  0.760829  0.760657  0.814217\n",
       "28  0.760448  0.760780  0.814954\n",
       "29  0.759576  0.760984  0.815978"
      ]
     },
     "execution_count": 17,
     "metadata": {},
     "output_type": "execute_result"
    }
   ],
   "source": [
    "scores = pd.DataFrame({'perm': perm_score, 'dummy': scored, 'logistic': scorel})\n",
    "scores"
   ]
  },
  {
   "cell_type": "markdown",
   "id": "9da8a422",
   "metadata": {},
   "source": [
    "Next, plot the distributions of the test scores."
   ]
  },
  {
   "cell_type": "code",
   "execution_count": 21,
   "id": "8c39337b",
   "metadata": {},
   "outputs": [
    {
     "data": {
      "text/plain": [
       "<AxesSubplot:ylabel='Frequency'>"
      ]
     },
     "execution_count": 21,
     "metadata": {},
     "output_type": "execute_result"
    },
    {
     "data": {
      "image/png": "[encoded data removed]",
      "text/plain": [
       "<Figure size 432x288 with 1 Axes>"
      ]
     },
     "metadata": {
      "needs_background": "light"
     },
     "output_type": "display_data"
    }
   ],
   "source": [
    "scores.plot.hist(bins=30, alpha=.7)"
   ]
  },
  {
   "cell_type": "markdown",
   "id": "ab9f7ee1",
   "metadata": {},
   "source": [
    "Change the strategy of the **dummy classifier** to **`stratified`**, compute the\n",
    "scores (accuracies) and plot the distribution of the scores together with the other results. Explain why the **accuracy gets worse**."
   ]
  },
  {
   "cell_type": "code",
   "execution_count": 22,
   "id": "218af7b1",
   "metadata": {},
   "outputs": [
    {
     "data": {
      "text/plain": [
       "array([0.63936776, 0.63478154, 0.63629663, 0.63834405, 0.63609189,\n",
       "       0.63551861, 0.63666517, 0.63375783, 0.63551861, 0.63420826,\n",
       "       0.63613284, 0.63429016, 0.63326645, 0.63826215, 0.63744318,\n",
       "       0.63478154, 0.63670611, 0.63515008, 0.63343024, 0.63904017,\n",
       "       0.63981819, 0.63641948, 0.63912207, 0.63723844, 0.63719749,\n",
       "       0.63858974, 0.63764793, 0.63727939, 0.63613284, 0.63858974])"
      ]
     },
     "execution_count": 22,
     "metadata": {},
     "output_type": "execute_result"
    }
   ],
   "source": [
    "dummystrat = DummyClassifier(strategy='stratified')\n",
    "scoress = cross_val_score(dummystrat, data, target, cv=cv)\n",
    "scoress"
   ]
  },
  {
   "cell_type": "code",
   "execution_count": 23,
   "id": "c7e5ef7c",
   "metadata": {},
   "outputs": [],
   "source": [
    "scores['dummystrat'] = scoress"
   ]
  },
  {
   "cell_type": "code",
   "execution_count": 24,
   "id": "bd61377e",
   "metadata": {},
   "outputs": [
    {
     "data": {
      "text/html": [
       "<div>\n",
       "<style scoped>\n",
       "    .dataframe tbody tr th:only-of-type {\n",
       "        vertical-align: middle;\n",
       "    }\n",
       "\n",
       "    .dataframe tbody tr th {\n",
       "        vertical-align: top;\n",
       "    }\n",
       "\n",
       "    .dataframe thead th {\n",
       "        text-align: right;\n",
       "    }\n",
       "</style>\n",
       "<table border=\"1\" class=\"dataframe\">\n",
       "  <thead>\n",
       "    <tr style=\"text-align: right;\">\n",
       "      <th></th>\n",
       "      <th>perm</th>\n",
       "      <th>dummy</th>\n",
       "      <th>logistic</th>\n",
       "      <th>dummystrat</th>\n",
       "    </tr>\n",
       "  </thead>\n",
       "  <tbody>\n",
       "    <tr>\n",
       "      <th>0</th>\n",
       "      <td>0.759703</td>\n",
       "      <td>0.762909</td>\n",
       "      <td>0.814176</td>\n",
       "      <td>0.639368</td>\n",
       "    </tr>\n",
       "    <tr>\n",
       "      <th>1</th>\n",
       "      <td>0.760296</td>\n",
       "      <td>0.759224</td>\n",
       "      <td>0.814340</td>\n",
       "      <td>0.634782</td>\n",
       "    </tr>\n",
       "    <tr>\n",
       "      <th>2</th>\n",
       "      <td>0.761013</td>\n",
       "      <td>0.763196</td>\n",
       "      <td>0.817043</td>\n",
       "      <td>0.636297</td>\n",
       "    </tr>\n",
       "    <tr>\n",
       "      <th>3</th>\n",
       "      <td>0.759789</td>\n",
       "      <td>0.759797</td>\n",
       "      <td>0.814995</td>\n",
       "      <td>0.638344</td>\n",
       "    </tr>\n",
       "    <tr>\n",
       "      <th>4</th>\n",
       "      <td>0.760260</td>\n",
       "      <td>0.758077</td>\n",
       "      <td>0.813849</td>\n",
       "      <td>0.636092</td>\n",
       "    </tr>\n",
       "    <tr>\n",
       "      <th>5</th>\n",
       "      <td>0.761533</td>\n",
       "      <td>0.760943</td>\n",
       "      <td>0.813194</td>\n",
       "      <td>0.635519</td>\n",
       "    </tr>\n",
       "    <tr>\n",
       "      <th>6</th>\n",
       "      <td>0.760317</td>\n",
       "      <td>0.763032</td>\n",
       "      <td>0.815200</td>\n",
       "      <td>0.636665</td>\n",
       "    </tr>\n",
       "    <tr>\n",
       "      <th>7</th>\n",
       "      <td>0.760354</td>\n",
       "      <td>0.764547</td>\n",
       "      <td>0.815814</td>\n",
       "      <td>0.633758</td>\n",
       "    </tr>\n",
       "    <tr>\n",
       "      <th>8</th>\n",
       "      <td>0.760280</td>\n",
       "      <td>0.760575</td>\n",
       "      <td>0.814627</td>\n",
       "      <td>0.635519</td>\n",
       "    </tr>\n",
       "    <tr>\n",
       "      <th>9</th>\n",
       "      <td>0.761156</td>\n",
       "      <td>0.758159</td>\n",
       "      <td>0.812907</td>\n",
       "      <td>0.634208</td>\n",
       "    </tr>\n",
       "    <tr>\n",
       "      <th>10</th>\n",
       "      <td>0.760628</td>\n",
       "      <td>0.763032</td>\n",
       "      <td>0.813849</td>\n",
       "      <td>0.636133</td>\n",
       "    </tr>\n",
       "    <tr>\n",
       "      <th>11</th>\n",
       "      <td>0.760845</td>\n",
       "      <td>0.759142</td>\n",
       "      <td>0.809467</td>\n",
       "      <td>0.634290</td>\n",
       "    </tr>\n",
       "    <tr>\n",
       "      <th>12</th>\n",
       "      <td>0.761603</td>\n",
       "      <td>0.762786</td>\n",
       "      <td>0.813726</td>\n",
       "      <td>0.633266</td>\n",
       "    </tr>\n",
       "    <tr>\n",
       "      <th>13</th>\n",
       "      <td>0.760735</td>\n",
       "      <td>0.756316</td>\n",
       "      <td>0.811269</td>\n",
       "      <td>0.638262</td>\n",
       "    </tr>\n",
       "    <tr>\n",
       "      <th>14</th>\n",
       "      <td>0.760812</td>\n",
       "      <td>0.760206</td>\n",
       "      <td>0.814258</td>\n",
       "      <td>0.637443</td>\n",
       "    </tr>\n",
       "    <tr>\n",
       "      <th>15</th>\n",
       "      <td>0.760485</td>\n",
       "      <td>0.760288</td>\n",
       "      <td>0.813808</td>\n",
       "      <td>0.634782</td>\n",
       "    </tr>\n",
       "    <tr>\n",
       "      <th>16</th>\n",
       "      <td>0.760145</td>\n",
       "      <td>0.759879</td>\n",
       "      <td>0.814258</td>\n",
       "      <td>0.636706</td>\n",
       "    </tr>\n",
       "    <tr>\n",
       "      <th>17</th>\n",
       "      <td>0.760649</td>\n",
       "      <td>0.759510</td>\n",
       "      <td>0.810409</td>\n",
       "      <td>0.635150</td>\n",
       "    </tr>\n",
       "    <tr>\n",
       "      <th>18</th>\n",
       "      <td>0.760505</td>\n",
       "      <td>0.759510</td>\n",
       "      <td>0.816224</td>\n",
       "      <td>0.633430</td>\n",
       "    </tr>\n",
       "    <tr>\n",
       "      <th>19</th>\n",
       "      <td>0.761140</td>\n",
       "      <td>0.760288</td>\n",
       "      <td>0.813071</td>\n",
       "      <td>0.639040</td>\n",
       "    </tr>\n",
       "    <tr>\n",
       "      <th>20</th>\n",
       "      <td>0.760673</td>\n",
       "      <td>0.763032</td>\n",
       "      <td>0.812252</td>\n",
       "      <td>0.639818</td>\n",
       "    </tr>\n",
       "    <tr>\n",
       "      <th>21</th>\n",
       "      <td>0.761140</td>\n",
       "      <td>0.760452</td>\n",
       "      <td>0.812538</td>\n",
       "      <td>0.636419</td>\n",
       "    </tr>\n",
       "    <tr>\n",
       "      <th>22</th>\n",
       "      <td>0.760387</td>\n",
       "      <td>0.756890</td>\n",
       "      <td>0.811474</td>\n",
       "      <td>0.639122</td>\n",
       "    </tr>\n",
       "    <tr>\n",
       "      <th>23</th>\n",
       "      <td>0.760599</td>\n",
       "      <td>0.760862</td>\n",
       "      <td>0.814463</td>\n",
       "      <td>0.637238</td>\n",
       "    </tr>\n",
       "    <tr>\n",
       "      <th>24</th>\n",
       "      <td>0.761025</td>\n",
       "      <td>0.753573</td>\n",
       "      <td>0.807952</td>\n",
       "      <td>0.637197</td>\n",
       "    </tr>\n",
       "    <tr>\n",
       "      <th>25</th>\n",
       "      <td>0.759826</td>\n",
       "      <td>0.757545</td>\n",
       "      <td>0.810655</td>\n",
       "      <td>0.638590</td>\n",
       "    </tr>\n",
       "    <tr>\n",
       "      <th>26</th>\n",
       "      <td>0.761132</td>\n",
       "      <td>0.762377</td>\n",
       "      <td>0.814872</td>\n",
       "      <td>0.637648</td>\n",
       "    </tr>\n",
       "    <tr>\n",
       "      <th>27</th>\n",
       "      <td>0.760829</td>\n",
       "      <td>0.760657</td>\n",
       "      <td>0.814217</td>\n",
       "      <td>0.637279</td>\n",
       "    </tr>\n",
       "    <tr>\n",
       "      <th>28</th>\n",
       "      <td>0.760448</td>\n",
       "      <td>0.760780</td>\n",
       "      <td>0.814954</td>\n",
       "      <td>0.636133</td>\n",
       "    </tr>\n",
       "    <tr>\n",
       "      <th>29</th>\n",
       "      <td>0.759576</td>\n",
       "      <td>0.760984</td>\n",
       "      <td>0.815978</td>\n",
       "      <td>0.638590</td>\n",
       "    </tr>\n",
       "  </tbody>\n",
       "</table>\n",
       "</div>"
      ],
      "text/plain": [
       "        perm     dummy  logistic  dummystrat\n",
       "0   0.759703  0.762909  0.814176    0.639368\n",
       "1   0.760296  0.759224  0.814340    0.634782\n",
       "2   0.761013  0.763196  0.817043    0.636297\n",
       "3   0.759789  0.759797  0.814995    0.638344\n",
       "4   0.760260  0.758077  0.813849    0.636092\n",
       "5   0.761533  0.760943  0.813194    0.635519\n",
       "6   0.760317  0.763032  0.815200    0.636665\n",
       "7   0.760354  0.764547  0.815814    0.633758\n",
       "8   0.760280  0.760575  0.814627    0.635519\n",
       "9   0.761156  0.758159  0.812907    0.634208\n",
       "10  0.760628  0.763032  0.813849    0.636133\n",
       "11  0.760845  0.759142  0.809467    0.634290\n",
       "12  0.761603  0.762786  0.813726    0.633266\n",
       "13  0.760735  0.756316  0.811269    0.638262\n",
       "14  0.760812  0.760206  0.814258    0.637443\n",
       "15  0.760485  0.760288  0.813808    0.634782\n",
       "16  0.760145  0.759879  0.814258    0.636706\n",
       "17  0.760649  0.759510  0.810409    0.635150\n",
       "18  0.760505  0.759510  0.816224    0.633430\n",
       "19  0.761140  0.760288  0.813071    0.639040\n",
       "20  0.760673  0.763032  0.812252    0.639818\n",
       "21  0.761140  0.760452  0.812538    0.636419\n",
       "22  0.760387  0.756890  0.811474    0.639122\n",
       "23  0.760599  0.760862  0.814463    0.637238\n",
       "24  0.761025  0.753573  0.807952    0.637197\n",
       "25  0.759826  0.757545  0.810655    0.638590\n",
       "26  0.761132  0.762377  0.814872    0.637648\n",
       "27  0.760829  0.760657  0.814217    0.637279\n",
       "28  0.760448  0.760780  0.814954    0.636133\n",
       "29  0.759576  0.760984  0.815978    0.638590"
      ]
     },
     "execution_count": 24,
     "metadata": {},
     "output_type": "execute_result"
    }
   ],
   "source": [
    "scores"
   ]
  },
  {
   "cell_type": "code",
   "execution_count": 28,
   "id": "09cc03d1",
   "metadata": {},
   "outputs": [
    {
     "data": {
      "text/plain": [
       "<AxesSubplot:ylabel='Frequency'>"
      ]
     },
     "execution_count": 28,
     "metadata": {},
     "output_type": "execute_result"
    },
    {
     "data": {
      "image/png": "[encoded data removed]",
      "text/plain": [
       "<Figure size 432x288 with 1 Axes>"
      ]
     },
     "metadata": {
      "needs_background": "light"
     },
     "output_type": "display_data"
    }
   ],
   "source": [
    "scores.plot.hist(bins=30, alpha=0.7)"
   ]
  },
  {
   "cell_type": "code",
   "execution_count": 27,
   "id": "cf46a774",
   "metadata": {},
   "outputs": [
    {
     "data": {
      "text/plain": [
       "<AxesSubplot:>"
      ]
     },
     "execution_count": 27,
     "metadata": {},
     "output_type": "execute_result"
    },
    {
     "data": {
      "image/png": "[encoded data removed]",
      "text/plain": [
       "<Figure size 432x288 with 1 Axes>"
      ]
     },
     "metadata": {
      "needs_background": "light"
     },
     "output_type": "display_data"
    }
   ],
   "source": [
    "target.hist()"
   ]
  },
  {
   "cell_type": "code",
   "execution_count": null,
   "id": "1d8dc3e8",
   "metadata": {},
   "outputs": [],
   "source": []
  }
 ],
 "metadata": {
  "jupytext": {
   "cell_metadata_filter": "-all",
   "main_language": "python",
   "notebook_metadata_filter": "-all"
  },
  "kernelspec": {
   "display_name": "Python 3",
   "language": "python",
   "name": "python3"
  },
  "language_info": {
   "codemirror_mode": {
    "name": "ipython",
    "version": 3
   },
   "file_extension": ".py",
   "mimetype": "text/x-python",
   "name": "python",
   "nbconvert_exporter": "python",
   "pygments_lexer": "ipython3",
   "version": "3.9.2"
  },
  "nbreset": "https://github.com/INRIA/scikit-learn-mooc/raw/master/notebooks/cross_validation_ex_02.ipynb"
 },
 "nbformat": 4,
 "nbformat_minor": 5
}
