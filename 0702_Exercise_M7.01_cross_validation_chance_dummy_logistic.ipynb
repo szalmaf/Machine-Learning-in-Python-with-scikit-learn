{
 "cells": [
  {
   "cell_type": "markdown",
   "id": "d5ca7a7a",
   "metadata": {},
   "source": [
    "# 📝 Exercise M7.01\n",
    "\n",
    "This notebook aims at **building baseline classifiers**, which we use to\n",
    "compare our predictive model with. Besides, we check the differences with\n",
    "the baselines that we saw in regression.\n",
    "\n",
    "We use the **adult census dataset**, using **only the numerical features**."
   ]
  },
  {
   "cell_type": "code",
   "execution_count": 1,
   "id": "d83fcbb0",
   "metadata": {},
   "outputs": [],
   "source": [
    "import pandas as pd\n",
    "\n",
    "adult_census = pd.read_csv(\"../datasets/adult-census-numeric-all.csv\")\n",
    "data, target = adult_census.drop(columns=\"class\"), adult_census[\"class\"]"
   ]
  },
  {
   "cell_type": "code",
   "execution_count": 2,
   "id": "45ad88be",
   "metadata": {},
   "outputs": [
    {
     "data": {
      "text/html": [
       "<div>\n",
       "<style scoped>\n",
       "    .dataframe tbody tr th:only-of-type {\n",
       "        vertical-align: middle;\n",
       "    }\n",
       "\n",
       "    .dataframe tbody tr th {\n",
       "        vertical-align: top;\n",
       "    }\n",
       "\n",
       "    .dataframe thead th {\n",
       "        text-align: right;\n",
       "    }\n",
       "</style>\n",
       "<table border=\"1\" class=\"dataframe\">\n",
       "  <thead>\n",
       "    <tr style=\"text-align: right;\">\n",
       "      <th></th>\n",
       "      <th>age</th>\n",
       "      <th>education-num</th>\n",
       "      <th>capital-gain</th>\n",
       "      <th>capital-loss</th>\n",
       "      <th>hours-per-week</th>\n",
       "    </tr>\n",
       "  </thead>\n",
       "  <tbody>\n",
       "    <tr>\n",
       "      <th>0</th>\n",
       "      <td>25</td>\n",
       "      <td>7</td>\n",
       "      <td>0</td>\n",
       "      <td>0</td>\n",
       "      <td>40</td>\n",
       "    </tr>\n",
       "    <tr>\n",
       "      <th>1</th>\n",
       "      <td>38</td>\n",
       "      <td>9</td>\n",
       "      <td>0</td>\n",
       "      <td>0</td>\n",
       "      <td>50</td>\n",
       "    </tr>\n",
       "    <tr>\n",
       "      <th>2</th>\n",
       "      <td>28</td>\n",
       "      <td>12</td>\n",
       "      <td>0</td>\n",
       "      <td>0</td>\n",
       "      <td>40</td>\n",
       "    </tr>\n",
       "    <tr>\n",
       "      <th>3</th>\n",
       "      <td>44</td>\n",
       "      <td>10</td>\n",
       "      <td>7688</td>\n",
       "      <td>0</td>\n",
       "      <td>40</td>\n",
       "    </tr>\n",
       "    <tr>\n",
       "      <th>4</th>\n",
       "      <td>18</td>\n",
       "      <td>10</td>\n",
       "      <td>0</td>\n",
       "      <td>0</td>\n",
       "      <td>30</td>\n",
       "    </tr>\n",
       "  </tbody>\n",
       "</table>\n",
       "</div>"
      ],
      "text/plain": [
       "   age  education-num  capital-gain  capital-loss  hours-per-week\n",
       "0   25              7             0             0              40\n",
       "1   38              9             0             0              50\n",
       "2   28             12             0             0              40\n",
       "3   44             10          7688             0              40\n",
       "4   18             10             0             0              30"
      ]
     },
     "execution_count": 2,
     "metadata": {},
     "output_type": "execute_result"
    }
   ],
   "source": [
    "data.head()"
   ]
  },
  {
   "cell_type": "code",
   "execution_count": 3,
   "id": "86ccd3ff",
   "metadata": {},
   "outputs": [
    {
     "data": {
      "text/plain": [
       "0         <=50K\n",
       "1         <=50K\n",
       "2          >50K\n",
       "3          >50K\n",
       "4         <=50K\n",
       "          ...  \n",
       "48837     <=50K\n",
       "48838      >50K\n",
       "48839     <=50K\n",
       "48840     <=50K\n",
       "48841      >50K\n",
       "Name: class, Length: 48842, dtype: object"
      ]
     },
     "execution_count": 3,
     "metadata": {},
     "output_type": "execute_result"
    }
   ],
   "source": [
    "target"
   ]
  },
  {
   "cell_type": "markdown",
   "id": "1ceb8a6e",
   "metadata": {},
   "source": [
    "First, define a **`ShuffleSplit` cross-validation strategy** setting **half of the\n",
    "sample as a test set** in each round."
   ]
  },
  {
   "cell_type": "code",
   "execution_count": 4,
   "id": "a629e2d5",
   "metadata": {},
   "outputs": [],
   "source": [
    "from sklearn.model_selection import ShuffleSplit\n",
    "\n",
    "cv = ShuffleSplit(n_splits=30, test_size=0.5, random_state=42)"
   ]
  },
  {
   "cell_type": "markdown",
   "id": "0781ed92",
   "metadata": {},
   "source": [
    "Next, create a **machine learning pipeline** composed of a transformer to\n",
    "**standardize the data** followed by a **logistic regression**."
   ]
  },
  {
   "cell_type": "code",
   "execution_count": 5,
   "id": "530a0aab",
   "metadata": {},
   "outputs": [],
   "source": [
    "from sklearn.preprocessing import StandardScaler\n",
    "from sklearn.linear_model import LogisticRegression\n",
    "from sklearn.pipeline import make_pipeline\n",
    "\n",
    "modelp = make_pipeline(StandardScaler(), LogisticRegression())"
   ]
  },
  {
   "cell_type": "markdown",
   "id": "130d0b5e",
   "metadata": {},
   "source": [
    "**Compute the test score** by using the model, the data, and the cross-validation\n",
    "strategy that you defined above."
   ]
  },
  {
   "cell_type": "code",
   "execution_count": 6,
   "id": "d1809701",
   "metadata": {},
   "outputs": [
    {
     "data": {
      "text/plain": [
       "array([0.81417632, 0.81434012, 0.81704271, 0.81499529, 0.81384874,\n",
       "       0.81319356, 0.81520003, 0.81581426, 0.81462676, 0.81290692,\n",
       "       0.81384874, 0.80946726, 0.81372589, 0.81126899, 0.81425822,\n",
       "       0.81380779, 0.81425822, 0.81040907, 0.81622374, 0.81307072,\n",
       "       0.81225175, 0.81253839, 0.81147373, 0.81446296, 0.80795217,\n",
       "       0.81065476, 0.81487245, 0.81421727, 0.81495434, 0.81597805])"
      ]
     },
     "execution_count": 6,
     "metadata": {},
     "output_type": "execute_result"
    }
   ],
   "source": [
    "from sklearn.model_selection import cross_val_score\n",
    "\n",
    "scorel = cross_val_score(modelp, data, target, cv=cv)\n",
    "scorel"
   ]
  },
  {
   "cell_type": "markdown",
   "id": "f3d05b4a",
   "metadata": {},
   "source": [
    "Using the **`sklearn.model_selection.permutation_test_score`** function,\n",
    "**check the chance level** of the previous model."
   ]
  },
  {
   "cell_type": "code",
   "execution_count": 7,
   "id": "dbaf2237",
   "metadata": {},
   "outputs": [
    {
     "data": {
      "text/plain": [
       "array([0.76036608, 0.76110315, 0.76139115, 0.76020501, 0.76050667,\n",
       "       0.76094891, 0.76054625, 0.760953  , 0.76052578, 0.7611127 ,\n",
       "       0.76097894, 0.76071141, 0.76124101, 0.76096665, 0.76090933,\n",
       "       0.76026507, 0.76037836, 0.76067319, 0.76095983, 0.76065954,\n",
       "       0.76072642, 0.7603729 , 0.76025142, 0.76039884, 0.76079194,\n",
       "       0.76101716, 0.76046299, 0.76059129, 0.76022549, 0.76031012])"
      ]
     },
     "execution_count": 7,
     "metadata": {},
     "output_type": "execute_result"
    }
   ],
   "source": [
    "from sklearn.model_selection import permutation_test_score\n",
    "\n",
    "scorep, perm_score, pvalue = permutation_test_score(modelp, data, target, cv=cv, n_permutations=30)\n",
    "perm_score"
   ]
  },
  {
   "cell_type": "markdown",
   "id": "eb1ca26a",
   "metadata": {},
   "source": [
    "Finally, compute the test score of a **dummy classifier** which would predict\n",
    "the most frequent class from the training set. You can look at the\n",
    "`sklearn.dummy.DummyClassifier` class."
   ]
  },
  {
   "cell_type": "code",
   "execution_count": 8,
   "id": "57401f55",
   "metadata": {},
   "outputs": [
    {
     "data": {
      "text/plain": [
       "array([0.76290897, 0.75922362, 0.76319561, 0.7597969 , 0.75807706,\n",
       "       0.76094345, 0.76303182, 0.76454691, 0.76057492, 0.75815896,\n",
       "       0.76303182, 0.75914172, 0.76278613, 0.75631629, 0.76020638,\n",
       "       0.76028828, 0.75987879, 0.75951026, 0.75951026, 0.76028828,\n",
       "       0.76303182, 0.76045207, 0.75688956, 0.76086155, 0.75357274,\n",
       "       0.75754474, 0.76237664, 0.76065681, 0.76077966, 0.7609844 ])"
      ]
     },
     "execution_count": 8,
     "metadata": {},
     "output_type": "execute_result"
    }
   ],
   "source": [
    "from sklearn.dummy import DummyClassifier\n",
    "\n",
    "dummy = DummyClassifier()\n",
    "scored = cross_val_score(dummy, data, target, cv=cv)\n",
    "scored"
   ]
  },
  {
   "cell_type": "markdown",
   "id": "38ff43a7",
   "metadata": {},
   "source": [
    "Now that we collected the scores from the baselines and the model, **plot\n",
    "the distributions of the different test scores**."
   ]
  },
  {
   "cell_type": "markdown",
   "id": "251afb22",
   "metadata": {},
   "source": [
    "We concatenate the different test scores in the same pandas dataframe."
   ]
  },
  {
   "cell_type": "code",
   "execution_count": 9,
   "id": "044c34ae",
   "metadata": {},
   "outputs": [
    {
     "data": {
      "text/html": [
       "<div>\n",
       "<style scoped>\n",
       "    .dataframe tbody tr th:only-of-type {\n",
       "        vertical-align: middle;\n",
       "    }\n",
       "\n",
       "    .dataframe tbody tr th {\n",
       "        vertical-align: top;\n",
       "    }\n",
       "\n",
       "    .dataframe thead th {\n",
       "        text-align: right;\n",
       "    }\n",
       "</style>\n",
       "<table border=\"1\" class=\"dataframe\">\n",
       "  <thead>\n",
       "    <tr style=\"text-align: right;\">\n",
       "      <th></th>\n",
       "      <th>perm</th>\n",
       "      <th>dummy</th>\n",
       "      <th>logistic</th>\n",
       "    </tr>\n",
       "  </thead>\n",
       "  <tbody>\n",
       "    <tr>\n",
       "      <th>0</th>\n",
       "      <td>0.760366</td>\n",
       "      <td>0.762909</td>\n",
       "      <td>0.814176</td>\n",
       "    </tr>\n",
       "    <tr>\n",
       "      <th>1</th>\n",
       "      <td>0.761103</td>\n",
       "      <td>0.759224</td>\n",
       "      <td>0.814340</td>\n",
       "    </tr>\n",
       "    <tr>\n",
       "      <th>2</th>\n",
       "      <td>0.761391</td>\n",
       "      <td>0.763196</td>\n",
       "      <td>0.817043</td>\n",
       "    </tr>\n",
       "    <tr>\n",
       "      <th>3</th>\n",
       "      <td>0.760205</td>\n",
       "      <td>0.759797</td>\n",
       "      <td>0.814995</td>\n",
       "    </tr>\n",
       "    <tr>\n",
       "      <th>4</th>\n",
       "      <td>0.760507</td>\n",
       "      <td>0.758077</td>\n",
       "      <td>0.813849</td>\n",
       "    </tr>\n",
       "    <tr>\n",
       "      <th>5</th>\n",
       "      <td>0.760949</td>\n",
       "      <td>0.760943</td>\n",
       "      <td>0.813194</td>\n",
       "    </tr>\n",
       "    <tr>\n",
       "      <th>6</th>\n",
       "      <td>0.760546</td>\n",
       "      <td>0.763032</td>\n",
       "      <td>0.815200</td>\n",
       "    </tr>\n",
       "    <tr>\n",
       "      <th>7</th>\n",
       "      <td>0.760953</td>\n",
       "      <td>0.764547</td>\n",
       "      <td>0.815814</td>\n",
       "    </tr>\n",
       "    <tr>\n",
       "      <th>8</th>\n",
       "      <td>0.760526</td>\n",
       "      <td>0.760575</td>\n",
       "      <td>0.814627</td>\n",
       "    </tr>\n",
       "    <tr>\n",
       "      <th>9</th>\n",
       "      <td>0.761113</td>\n",
       "      <td>0.758159</td>\n",
       "      <td>0.812907</td>\n",
       "    </tr>\n",
       "    <tr>\n",
       "      <th>10</th>\n",
       "      <td>0.760979</td>\n",
       "      <td>0.763032</td>\n",
       "      <td>0.813849</td>\n",
       "    </tr>\n",
       "    <tr>\n",
       "      <th>11</th>\n",
       "      <td>0.760711</td>\n",
       "      <td>0.759142</td>\n",
       "      <td>0.809467</td>\n",
       "    </tr>\n",
       "    <tr>\n",
       "      <th>12</th>\n",
       "      <td>0.761241</td>\n",
       "      <td>0.762786</td>\n",
       "      <td>0.813726</td>\n",
       "    </tr>\n",
       "    <tr>\n",
       "      <th>13</th>\n",
       "      <td>0.760967</td>\n",
       "      <td>0.756316</td>\n",
       "      <td>0.811269</td>\n",
       "    </tr>\n",
       "    <tr>\n",
       "      <th>14</th>\n",
       "      <td>0.760909</td>\n",
       "      <td>0.760206</td>\n",
       "      <td>0.814258</td>\n",
       "    </tr>\n",
       "    <tr>\n",
       "      <th>15</th>\n",
       "      <td>0.760265</td>\n",
       "      <td>0.760288</td>\n",
       "      <td>0.813808</td>\n",
       "    </tr>\n",
       "    <tr>\n",
       "      <th>16</th>\n",
       "      <td>0.760378</td>\n",
       "      <td>0.759879</td>\n",
       "      <td>0.814258</td>\n",
       "    </tr>\n",
       "    <tr>\n",
       "      <th>17</th>\n",
       "      <td>0.760673</td>\n",
       "      <td>0.759510</td>\n",
       "      <td>0.810409</td>\n",
       "    </tr>\n",
       "    <tr>\n",
       "      <th>18</th>\n",
       "      <td>0.760960</td>\n",
       "      <td>0.759510</td>\n",
       "      <td>0.816224</td>\n",
       "    </tr>\n",
       "    <tr>\n",
       "      <th>19</th>\n",
       "      <td>0.760660</td>\n",
       "      <td>0.760288</td>\n",
       "      <td>0.813071</td>\n",
       "    </tr>\n",
       "    <tr>\n",
       "      <th>20</th>\n",
       "      <td>0.760726</td>\n",
       "      <td>0.763032</td>\n",
       "      <td>0.812252</td>\n",
       "    </tr>\n",
       "    <tr>\n",
       "      <th>21</th>\n",
       "      <td>0.760373</td>\n",
       "      <td>0.760452</td>\n",
       "      <td>0.812538</td>\n",
       "    </tr>\n",
       "    <tr>\n",
       "      <th>22</th>\n",
       "      <td>0.760251</td>\n",
       "      <td>0.756890</td>\n",
       "      <td>0.811474</td>\n",
       "    </tr>\n",
       "    <tr>\n",
       "      <th>23</th>\n",
       "      <td>0.760399</td>\n",
       "      <td>0.760862</td>\n",
       "      <td>0.814463</td>\n",
       "    </tr>\n",
       "    <tr>\n",
       "      <th>24</th>\n",
       "      <td>0.760792</td>\n",
       "      <td>0.753573</td>\n",
       "      <td>0.807952</td>\n",
       "    </tr>\n",
       "    <tr>\n",
       "      <th>25</th>\n",
       "      <td>0.761017</td>\n",
       "      <td>0.757545</td>\n",
       "      <td>0.810655</td>\n",
       "    </tr>\n",
       "    <tr>\n",
       "      <th>26</th>\n",
       "      <td>0.760463</td>\n",
       "      <td>0.762377</td>\n",
       "      <td>0.814872</td>\n",
       "    </tr>\n",
       "    <tr>\n",
       "      <th>27</th>\n",
       "      <td>0.760591</td>\n",
       "      <td>0.760657</td>\n",
       "      <td>0.814217</td>\n",
       "    </tr>\n",
       "    <tr>\n",
       "      <th>28</th>\n",
       "      <td>0.760225</td>\n",
       "      <td>0.760780</td>\n",
       "      <td>0.814954</td>\n",
       "    </tr>\n",
       "    <tr>\n",
       "      <th>29</th>\n",
       "      <td>0.760310</td>\n",
       "      <td>0.760984</td>\n",
       "      <td>0.815978</td>\n",
       "    </tr>\n",
       "  </tbody>\n",
       "</table>\n",
       "</div>"
      ],
      "text/plain": [
       "        perm     dummy  logistic\n",
       "0   0.760366  0.762909  0.814176\n",
       "1   0.761103  0.759224  0.814340\n",
       "2   0.761391  0.763196  0.817043\n",
       "3   0.760205  0.759797  0.814995\n",
       "4   0.760507  0.758077  0.813849\n",
       "5   0.760949  0.760943  0.813194\n",
       "6   0.760546  0.763032  0.815200\n",
       "7   0.760953  0.764547  0.815814\n",
       "8   0.760526  0.760575  0.814627\n",
       "9   0.761113  0.758159  0.812907\n",
       "10  0.760979  0.763032  0.813849\n",
       "11  0.760711  0.759142  0.809467\n",
       "12  0.761241  0.762786  0.813726\n",
       "13  0.760967  0.756316  0.811269\n",
       "14  0.760909  0.760206  0.814258\n",
       "15  0.760265  0.760288  0.813808\n",
       "16  0.760378  0.759879  0.814258\n",
       "17  0.760673  0.759510  0.810409\n",
       "18  0.760960  0.759510  0.816224\n",
       "19  0.760660  0.760288  0.813071\n",
       "20  0.760726  0.763032  0.812252\n",
       "21  0.760373  0.760452  0.812538\n",
       "22  0.760251  0.756890  0.811474\n",
       "23  0.760399  0.760862  0.814463\n",
       "24  0.760792  0.753573  0.807952\n",
       "25  0.761017  0.757545  0.810655\n",
       "26  0.760463  0.762377  0.814872\n",
       "27  0.760591  0.760657  0.814217\n",
       "28  0.760225  0.760780  0.814954\n",
       "29  0.760310  0.760984  0.815978"
      ]
     },
     "execution_count": 9,
     "metadata": {},
     "output_type": "execute_result"
    }
   ],
   "source": [
    "scores = pd.DataFrame({'perm': perm_score, 'dummy': scored, 'logistic': scorel})\n",
    "scores"
   ]
  },
  {
   "cell_type": "markdown",
   "id": "9da8a422",
   "metadata": {},
   "source": [
    "Next, plot the distributions of the test scores."
   ]
  },
  {
   "cell_type": "code",
   "execution_count": 10,
   "id": "8c39337b",
   "metadata": {},
   "outputs": [
    {
     "data": {
      "text/plain": [
       "<AxesSubplot:ylabel='Frequency'>"
      ]
     },
     "execution_count": 10,
     "metadata": {},
     "output_type": "execute_result"
    },
    {
     "data": {
      "image/png": "[encoded data removed]",
      "text/plain": [
       "<Figure size 432x288 with 1 Axes>"
      ]
     },
     "metadata": {
      "needs_background": "light"
     },
     "output_type": "display_data"
    }
   ],
   "source": [
    "scores.plot.hist(bins=30, alpha=.7)"
   ]
  },
  {
   "cell_type": "markdown",
   "id": "ab9f7ee1",
   "metadata": {},
   "source": [
    "Change the strategy of the **dummy classifier** to **`stratified`**, compute the\n",
    "scores (accuracies) and plot the distribution of the scores together with the other results. Explain why the **accuracy gets worse**."
   ]
  },
  {
   "cell_type": "code",
   "execution_count": 11,
   "id": "218af7b1",
   "metadata": {},
   "outputs": [
    {
     "data": {
      "text/plain": [
       "array([0.63138283, 0.63478154, 0.63510913, 0.6370337 , 0.6432169 ,\n",
       "       0.63646042, 0.63723844, 0.63400352, 0.63916302, 0.63265223,\n",
       "       0.63474059, 0.63445395, 0.63519102, 0.64112854, 0.63682896,\n",
       "       0.63818025, 0.63269317, 0.63723844, 0.63801646, 0.63318455,\n",
       "       0.63732034, 0.63662422, 0.6345768 , 0.63785267, 0.63060481,\n",
       "       0.63658327, 0.63228369, 0.63797551, 0.63633758, 0.63985914])"
      ]
     },
     "execution_count": 11,
     "metadata": {},
     "output_type": "execute_result"
    }
   ],
   "source": [
    "dummystrat = DummyClassifier(strategy='stratified')\n",
    "scoress = cross_val_score(dummystrat, data, target, cv=cv)\n",
    "scoress"
   ]
  },
  {
   "cell_type": "code",
   "execution_count": 12,
   "id": "c7e5ef7c",
   "metadata": {},
   "outputs": [],
   "source": [
    "scores['dummystrat'] = scoress"
   ]
  },
  {
   "cell_type": "code",
   "execution_count": 13,
   "id": "bd61377e",
   "metadata": {},
   "outputs": [
    {
     "data": {
      "text/html": [
       "<div>\n",
       "<style scoped>\n",
       "    .dataframe tbody tr th:only-of-type {\n",
       "        vertical-align: middle;\n",
       "    }\n",
       "\n",
       "    .dataframe tbody tr th {\n",
       "        vertical-align: top;\n",
       "    }\n",
       "\n",
       "    .dataframe thead th {\n",
       "        text-align: right;\n",
       "    }\n",
       "</style>\n",
       "<table border=\"1\" class=\"dataframe\">\n",
       "  <thead>\n",
       "    <tr style=\"text-align: right;\">\n",
       "      <th></th>\n",
       "      <th>perm</th>\n",
       "      <th>dummy</th>\n",
       "      <th>logistic</th>\n",
       "      <th>dummystrat</th>\n",
       "    </tr>\n",
       "  </thead>\n",
       "  <tbody>\n",
       "    <tr>\n",
       "      <th>0</th>\n",
       "      <td>0.760366</td>\n",
       "      <td>0.762909</td>\n",
       "      <td>0.814176</td>\n",
       "      <td>0.631383</td>\n",
       "    </tr>\n",
       "    <tr>\n",
       "      <th>1</th>\n",
       "      <td>0.761103</td>\n",
       "      <td>0.759224</td>\n",
       "      <td>0.814340</td>\n",
       "      <td>0.634782</td>\n",
       "    </tr>\n",
       "    <tr>\n",
       "      <th>2</th>\n",
       "      <td>0.761391</td>\n",
       "      <td>0.763196</td>\n",
       "      <td>0.817043</td>\n",
       "      <td>0.635109</td>\n",
       "    </tr>\n",
       "    <tr>\n",
       "      <th>3</th>\n",
       "      <td>0.760205</td>\n",
       "      <td>0.759797</td>\n",
       "      <td>0.814995</td>\n",
       "      <td>0.637034</td>\n",
       "    </tr>\n",
       "    <tr>\n",
       "      <th>4</th>\n",
       "      <td>0.760507</td>\n",
       "      <td>0.758077</td>\n",
       "      <td>0.813849</td>\n",
       "      <td>0.643217</td>\n",
       "    </tr>\n",
       "    <tr>\n",
       "      <th>5</th>\n",
       "      <td>0.760949</td>\n",
       "      <td>0.760943</td>\n",
       "      <td>0.813194</td>\n",
       "      <td>0.636460</td>\n",
       "    </tr>\n",
       "    <tr>\n",
       "      <th>6</th>\n",
       "      <td>0.760546</td>\n",
       "      <td>0.763032</td>\n",
       "      <td>0.815200</td>\n",
       "      <td>0.637238</td>\n",
       "    </tr>\n",
       "    <tr>\n",
       "      <th>7</th>\n",
       "      <td>0.760953</td>\n",
       "      <td>0.764547</td>\n",
       "      <td>0.815814</td>\n",
       "      <td>0.634004</td>\n",
       "    </tr>\n",
       "    <tr>\n",
       "      <th>8</th>\n",
       "      <td>0.760526</td>\n",
       "      <td>0.760575</td>\n",
       "      <td>0.814627</td>\n",
       "      <td>0.639163</td>\n",
       "    </tr>\n",
       "    <tr>\n",
       "      <th>9</th>\n",
       "      <td>0.761113</td>\n",
       "      <td>0.758159</td>\n",
       "      <td>0.812907</td>\n",
       "      <td>0.632652</td>\n",
       "    </tr>\n",
       "    <tr>\n",
       "      <th>10</th>\n",
       "      <td>0.760979</td>\n",
       "      <td>0.763032</td>\n",
       "      <td>0.813849</td>\n",
       "      <td>0.634741</td>\n",
       "    </tr>\n",
       "    <tr>\n",
       "      <th>11</th>\n",
       "      <td>0.760711</td>\n",
       "      <td>0.759142</td>\n",
       "      <td>0.809467</td>\n",
       "      <td>0.634454</td>\n",
       "    </tr>\n",
       "    <tr>\n",
       "      <th>12</th>\n",
       "      <td>0.761241</td>\n",
       "      <td>0.762786</td>\n",
       "      <td>0.813726</td>\n",
       "      <td>0.635191</td>\n",
       "    </tr>\n",
       "    <tr>\n",
       "      <th>13</th>\n",
       "      <td>0.760967</td>\n",
       "      <td>0.756316</td>\n",
       "      <td>0.811269</td>\n",
       "      <td>0.641129</td>\n",
       "    </tr>\n",
       "    <tr>\n",
       "      <th>14</th>\n",
       "      <td>0.760909</td>\n",
       "      <td>0.760206</td>\n",
       "      <td>0.814258</td>\n",
       "      <td>0.636829</td>\n",
       "    </tr>\n",
       "    <tr>\n",
       "      <th>15</th>\n",
       "      <td>0.760265</td>\n",
       "      <td>0.760288</td>\n",
       "      <td>0.813808</td>\n",
       "      <td>0.638180</td>\n",
       "    </tr>\n",
       "    <tr>\n",
       "      <th>16</th>\n",
       "      <td>0.760378</td>\n",
       "      <td>0.759879</td>\n",
       "      <td>0.814258</td>\n",
       "      <td>0.632693</td>\n",
       "    </tr>\n",
       "    <tr>\n",
       "      <th>17</th>\n",
       "      <td>0.760673</td>\n",
       "      <td>0.759510</td>\n",
       "      <td>0.810409</td>\n",
       "      <td>0.637238</td>\n",
       "    </tr>\n",
       "    <tr>\n",
       "      <th>18</th>\n",
       "      <td>0.760960</td>\n",
       "      <td>0.759510</td>\n",
       "      <td>0.816224</td>\n",
       "      <td>0.638016</td>\n",
       "    </tr>\n",
       "    <tr>\n",
       "      <th>19</th>\n",
       "      <td>0.760660</td>\n",
       "      <td>0.760288</td>\n",
       "      <td>0.813071</td>\n",
       "      <td>0.633185</td>\n",
       "    </tr>\n",
       "    <tr>\n",
       "      <th>20</th>\n",
       "      <td>0.760726</td>\n",
       "      <td>0.763032</td>\n",
       "      <td>0.812252</td>\n",
       "      <td>0.637320</td>\n",
       "    </tr>\n",
       "    <tr>\n",
       "      <th>21</th>\n",
       "      <td>0.760373</td>\n",
       "      <td>0.760452</td>\n",
       "      <td>0.812538</td>\n",
       "      <td>0.636624</td>\n",
       "    </tr>\n",
       "    <tr>\n",
       "      <th>22</th>\n",
       "      <td>0.760251</td>\n",
       "      <td>0.756890</td>\n",
       "      <td>0.811474</td>\n",
       "      <td>0.634577</td>\n",
       "    </tr>\n",
       "    <tr>\n",
       "      <th>23</th>\n",
       "      <td>0.760399</td>\n",
       "      <td>0.760862</td>\n",
       "      <td>0.814463</td>\n",
       "      <td>0.637853</td>\n",
       "    </tr>\n",
       "    <tr>\n",
       "      <th>24</th>\n",
       "      <td>0.760792</td>\n",
       "      <td>0.753573</td>\n",
       "      <td>0.807952</td>\n",
       "      <td>0.630605</td>\n",
       "    </tr>\n",
       "    <tr>\n",
       "      <th>25</th>\n",
       "      <td>0.761017</td>\n",
       "      <td>0.757545</td>\n",
       "      <td>0.810655</td>\n",
       "      <td>0.636583</td>\n",
       "    </tr>\n",
       "    <tr>\n",
       "      <th>26</th>\n",
       "      <td>0.760463</td>\n",
       "      <td>0.762377</td>\n",
       "      <td>0.814872</td>\n",
       "      <td>0.632284</td>\n",
       "    </tr>\n",
       "    <tr>\n",
       "      <th>27</th>\n",
       "      <td>0.760591</td>\n",
       "      <td>0.760657</td>\n",
       "      <td>0.814217</td>\n",
       "      <td>0.637976</td>\n",
       "    </tr>\n",
       "    <tr>\n",
       "      <th>28</th>\n",
       "      <td>0.760225</td>\n",
       "      <td>0.760780</td>\n",
       "      <td>0.814954</td>\n",
       "      <td>0.636338</td>\n",
       "    </tr>\n",
       "    <tr>\n",
       "      <th>29</th>\n",
       "      <td>0.760310</td>\n",
       "      <td>0.760984</td>\n",
       "      <td>0.815978</td>\n",
       "      <td>0.639859</td>\n",
       "    </tr>\n",
       "  </tbody>\n",
       "</table>\n",
       "</div>"
      ],
      "text/plain": [
       "        perm     dummy  logistic  dummystrat\n",
       "0   0.760366  0.762909  0.814176    0.631383\n",
       "1   0.761103  0.759224  0.814340    0.634782\n",
       "2   0.761391  0.763196  0.817043    0.635109\n",
       "3   0.760205  0.759797  0.814995    0.637034\n",
       "4   0.760507  0.758077  0.813849    0.643217\n",
       "5   0.760949  0.760943  0.813194    0.636460\n",
       "6   0.760546  0.763032  0.815200    0.637238\n",
       "7   0.760953  0.764547  0.815814    0.634004\n",
       "8   0.760526  0.760575  0.814627    0.639163\n",
       "9   0.761113  0.758159  0.812907    0.632652\n",
       "10  0.760979  0.763032  0.813849    0.634741\n",
       "11  0.760711  0.759142  0.809467    0.634454\n",
       "12  0.761241  0.762786  0.813726    0.635191\n",
       "13  0.760967  0.756316  0.811269    0.641129\n",
       "14  0.760909  0.760206  0.814258    0.636829\n",
       "15  0.760265  0.760288  0.813808    0.638180\n",
       "16  0.760378  0.759879  0.814258    0.632693\n",
       "17  0.760673  0.759510  0.810409    0.637238\n",
       "18  0.760960  0.759510  0.816224    0.638016\n",
       "19  0.760660  0.760288  0.813071    0.633185\n",
       "20  0.760726  0.763032  0.812252    0.637320\n",
       "21  0.760373  0.760452  0.812538    0.636624\n",
       "22  0.760251  0.756890  0.811474    0.634577\n",
       "23  0.760399  0.760862  0.814463    0.637853\n",
       "24  0.760792  0.753573  0.807952    0.630605\n",
       "25  0.761017  0.757545  0.810655    0.636583\n",
       "26  0.760463  0.762377  0.814872    0.632284\n",
       "27  0.760591  0.760657  0.814217    0.637976\n",
       "28  0.760225  0.760780  0.814954    0.636338\n",
       "29  0.760310  0.760984  0.815978    0.639859"
      ]
     },
     "execution_count": 13,
     "metadata": {},
     "output_type": "execute_result"
    }
   ],
   "source": [
    "scores"
   ]
  },
  {
   "cell_type": "code",
   "execution_count": 14,
   "id": "09cc03d1",
   "metadata": {},
   "outputs": [
    {
     "data": {
      "text/plain": [
       "<AxesSubplot:ylabel='Frequency'>"
      ]
     },
     "execution_count": 14,
     "metadata": {},
     "output_type": "execute_result"
    },
    {
     "data": {
      "image/png": "[encoded data removed]",
      "text/plain": [
       "<Figure size 432x288 with 1 Axes>"
      ]
     },
     "metadata": {
      "needs_background": "light"
     },
     "output_type": "display_data"
    }
   ],
   "source": [
    "scores.plot.hist(bins=30, alpha=0.7)"
   ]
  },
  {
   "cell_type": "code",
   "execution_count": 22,
   "id": "cf46a774",
   "metadata": {},
   "outputs": [
    {
     "data": {
      "text/plain": [
       "<AxesSubplot:>"
      ]
     },
     "execution_count": 22,
     "metadata": {},
     "output_type": "execute_result"
    },
    {
     "data": {
      "image/png": "[encoded data removed]",
      "text/plain": [
       "<Figure size 432x288 with 1 Axes>"
      ]
     },
     "metadata": {
      "needs_background": "light"
     },
     "output_type": "display_data"
    }
   ],
   "source": [
    "target.hist(density=True)"
   ]
  },
  {
   "cell_type": "markdown",
   "id": "aacb7066",
   "metadata": {},
   "source": [
    "**Explanation**: When the `strategy` is set to most_frequent, the accuracy is around 76% since all the predicted class is always the most frequent class, i.e. <=50K. When the `strategy` is changed to **stratified**, the **`DummyClassifier` predicts a class randomly but adhering to class distribution**: 76% and 24% which **makes the accuracy even worse**."
   ]
  }
 ],
 "metadata": {
  "jupytext": {
   "cell_metadata_filter": "-all",
   "main_language": "python",
   "notebook_metadata_filter": "-all"
  },
  "kernelspec": {
   "display_name": "Python 3",
   "language": "python",
   "name": "python3"
  },
  "language_info": {
   "codemirror_mode": {
    "name": "ipython",
    "version": 3
   },
   "file_extension": ".py",
   "mimetype": "text/x-python",
   "name": "python",
   "nbconvert_exporter": "python",
   "pygments_lexer": "ipython3",
   "version": "3.9.2"
  },
  "nbreset": "https://github.com/INRIA/scikit-learn-mooc/raw/master/notebooks/cross_validation_ex_02.ipynb"
 },
 "nbformat": 4,
 "nbformat_minor": 5
}
