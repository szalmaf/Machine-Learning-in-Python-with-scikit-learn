{
 "cells": [
  {
   "cell_type": "markdown",
   "id": "c2ae247a",
   "metadata": {},
   "source": [
    "# 📝 Exercise M4.01\n",
    "\n",
    "The aim of this exercise is two-fold:\n",
    "\n",
    "* understand the parametrization of a linear model;\n",
    "* quantify the fitting accuracy of a set of such models.\n",
    "\n",
    "We will reuse part of the code of the course to:\n",
    "\n",
    "* load data;\n",
    "* create the function representing a linear model.\n",
    "\n",
    "## Prerequisites\n",
    "\n",
    "### Data loading"
   ]
  },
  {
   "cell_type": "markdown",
   "id": "92fc62b1",
   "metadata": {},
   "source": [
    "<div class=\"admonition note alert alert-info\">\n",
    "<p class=\"first admonition-title\" style=\"font-weight: bold;\">Note</p>\n",
    "<p class=\"last\">If you want a deeper overview regarding this dataset, you can refer to the\n",
    "Appendix - Datasets description section at the end of this MOOC.</p>\n",
    "</div>"
   ]
  },
  {
   "cell_type": "code",
   "execution_count": 7,
   "id": "b7339066",
   "metadata": {},
   "outputs": [],
   "source": [
    "import pandas as pd\n",
    "\n",
    "penguins = pd.read_csv(\"../datasets/penguins_regression.csv\")\n",
    "feature_name = \"Flipper Length (mm)\"\n",
    "target_name = \"Body Mass (g)\"\n",
    "data, target = penguins[[feature_name]], penguins[target_name]"
   ]
  },
  {
   "cell_type": "code",
   "execution_count": 17,
   "id": "664a1209",
   "metadata": {},
   "outputs": [
    {
     "data": {
      "text/plain": [
       "pandas.core.series.Series"
      ]
     },
     "execution_count": 17,
     "metadata": {},
     "output_type": "execute_result"
    }
   ],
   "source": [
    "type(target)"
   ]
  },
  {
   "cell_type": "markdown",
   "id": "f7f6fa34",
   "metadata": {
    "lines_to_next_cell": 2
   },
   "source": [
    "### Model definition"
   ]
  },
  {
   "cell_type": "code",
   "execution_count": 2,
   "id": "ac952a2f",
   "metadata": {},
   "outputs": [],
   "source": [
    "def linear_model_flipper_mass(\n",
    "    flipper_length, weight_flipper_length, intercept_body_mass\n",
    "):\n",
    "    \"\"\"Linear model of the form y = a * x + b\"\"\"\n",
    "    body_mass = weight_flipper_length * flipper_length + intercept_body_mass\n",
    "    return body_mass"
   ]
  },
  {
   "cell_type": "markdown",
   "id": "f3c3d52c",
   "metadata": {},
   "source": [
    "## Main exercise\n",
    "\n",
    "Given a vector of the flipper length, several weights and intercepts to\n",
    "plot several linear model that could fit our data. Use the above\n",
    "visualization helper function to visualize both the model and data."
   ]
  },
  {
   "cell_type": "code",
   "execution_count": 3,
   "id": "41d69bb9",
   "metadata": {},
   "outputs": [],
   "source": [
    "import numpy as np\n",
    "\n",
    "flipper_length_range = np.linspace(data.min(), data.max(), num=300)"
   ]
  },
  {
   "cell_type": "code",
   "execution_count": 4,
   "id": "2564199c",
   "metadata": {
    "lines_to_next_cell": 2
   },
   "outputs": [],
   "source": [
    "# Write your code here.\n",
    "weights = [45, 44]\n",
    "intercepts = [-5000, -4000]"
   ]
  },
  {
   "cell_type": "markdown",
   "id": "8f7f4c62",
   "metadata": {
    "lines_to_next_cell": 2
   },
   "source": [
    "In the previous question, you were asked to create several linear models.\n",
    "The visualization allowed you to qualitatively assess if a model was better\n",
    "than another.\n",
    "\n",
    "Now, you should come up with a quantitative measure which will indicate the\n",
    "goodness of fit of each linear model. This quantitative metric should result\n",
    "in a single scalar and allow you to pick up the best model."
   ]
  },
  {
   "cell_type": "code",
   "execution_count": 46,
   "id": "ab14a229",
   "metadata": {
    "lines_to_next_cell": 2
   },
   "outputs": [],
   "source": [
    "def goodness_fit_measure(true_values, predictions):\n",
    "    # Write your code here.\n",
    "    # Define a measure indicating the goodness of fit of a model given the true\n",
    "    # values and the model predictions.\n",
    "    \n",
    "    # Root mean square error\n",
    "    residuals = true_values.to_numpy() - np.squeeze(predictions).to_numpy()\n",
    "    gfm = np.sqrt((residuals @ residuals) / len(residuals))\n",
    "    print(len(residuals))\n",
    "    \n",
    "    return gfm"
   ]
  },
  {
   "cell_type": "code",
   "execution_count": 47,
   "id": "61abaab2",
   "metadata": {},
   "outputs": [
    {
     "name": "stdout",
     "output_type": "stream",
     "text": [
      "Model #0:\n",
      "45.00 (g / mm) * flipper length + -5000.00 (g)\n",
      "342\n",
      "Error: 429.718\n",
      "\n",
      "Model #1:\n",
      "44.00 (g / mm) * flipper length + -4000.00 (g)\n",
      "342\n",
      "Error: 754.069\n",
      "\n"
     ]
    }
   ],
   "source": [
    "# Uncomment the code below.\n",
    "for model_idx, (weight, intercept) in enumerate(zip(weights, intercepts)):\n",
    "    target_predicted = linear_model_flipper_mass(data, weight, intercept)\n",
    "    print(f\"Model #{model_idx}:\")\n",
    "    print(f\"{weight:.2f} (g / mm) * flipper length + {intercept:.2f} (g)\")\n",
    "    print(f\"Error: {goodness_fit_measure(target, target_predicted):.3f}\\n\")"
   ]
  },
  {
   "cell_type": "code",
   "execution_count": null,
   "id": "21ba0a8d",
   "metadata": {},
   "outputs": [],
   "source": []
  }
 ],
 "metadata": {
  "jupytext": {
   "cell_metadata_filter": "-all",
   "main_language": "python",
   "notebook_metadata_filter": "-all"
  },
  "kernelspec": {
   "display_name": "Python 3",
   "language": "python",
   "name": "python3"
  },
  "language_info": {
   "codemirror_mode": {
    "name": "ipython",
    "version": 3
   },
   "file_extension": ".py",
   "mimetype": "text/x-python",
   "name": "python",
   "nbconvert_exporter": "python",
   "pygments_lexer": "ipython3",
   "version": "3.9.2"
  },
  "nbreset": "https://github.com/INRIA/scikit-learn-mooc/raw/master/notebooks/linear_models_ex_01.ipynb"
 },
 "nbformat": 4,
 "nbformat_minor": 5
}
