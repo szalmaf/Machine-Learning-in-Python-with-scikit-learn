{
 "cells": [
  {
   "cell_type": "markdown",
   "id": "af315a62",
   "metadata": {},
   "source": [
    "# Set and get hyperparameters in scikit-learn\n",
    "\n",
    "This notebook shows how one can **get and set the value of a hyperparameter manually** in\n",
    "a **scikit-learn estimator**. We recall that hyperparameters refer to the\n",
    "parameter that will control the learning process.\n",
    "\n",
    "**Hyperparameters** should not be confused with the **fitted parameters**, resulting from the\n",
    "training. These **fitted parameters** are recognizable in scikit-learn because\n",
    "they are spelled with a **final underscore `_`**, for instance **`model.coef_`**.\n",
    "\n",
    "We will start by loading the **adult census dataset** and only use the **numerical\n",
    "features**."
   ]
  },
  {
   "cell_type": "code",
   "execution_count": 1,
   "id": "911e2093",
   "metadata": {},
   "outputs": [],
   "source": [
    "import pandas as pd\n",
    "\n",
    "adult_census = pd.read_csv(\"../datasets/adult-census.csv\")\n",
    "\n",
    "target_name = \"class\"\n",
    "numerical_columns = [\n",
    "    \"age\", \"capital-gain\", \"capital-loss\", \"hours-per-week\"]\n",
    "\n",
    "target = adult_census[target_name]\n",
    "data = adult_census[numerical_columns]"
   ]
  },
  {
   "cell_type": "markdown",
   "id": "5d681970",
   "metadata": {},
   "source": [
    "Our data is only numerical."
   ]
  },
  {
   "cell_type": "code",
   "execution_count": 3,
   "id": "ca5165a6",
   "metadata": {},
   "outputs": [
    {
     "data": {
      "text/html": [
       "<div>\n",
       "<style scoped>\n",
       "    .dataframe tbody tr th:only-of-type {\n",
       "        vertical-align: middle;\n",
       "    }\n",
       "\n",
       "    .dataframe tbody tr th {\n",
       "        vertical-align: top;\n",
       "    }\n",
       "\n",
       "    .dataframe thead th {\n",
       "        text-align: right;\n",
       "    }\n",
       "</style>\n",
       "<table border=\"1\" class=\"dataframe\">\n",
       "  <thead>\n",
       "    <tr style=\"text-align: right;\">\n",
       "      <th></th>\n",
       "      <th>age</th>\n",
       "      <th>capital-gain</th>\n",
       "      <th>capital-loss</th>\n",
       "      <th>hours-per-week</th>\n",
       "    </tr>\n",
       "  </thead>\n",
       "  <tbody>\n",
       "    <tr>\n",
       "      <th>0</th>\n",
       "      <td>25</td>\n",
       "      <td>0</td>\n",
       "      <td>0</td>\n",
       "      <td>40</td>\n",
       "    </tr>\n",
       "    <tr>\n",
       "      <th>1</th>\n",
       "      <td>38</td>\n",
       "      <td>0</td>\n",
       "      <td>0</td>\n",
       "      <td>50</td>\n",
       "    </tr>\n",
       "    <tr>\n",
       "      <th>2</th>\n",
       "      <td>28</td>\n",
       "      <td>0</td>\n",
       "      <td>0</td>\n",
       "      <td>40</td>\n",
       "    </tr>\n",
       "    <tr>\n",
       "      <th>3</th>\n",
       "      <td>44</td>\n",
       "      <td>7688</td>\n",
       "      <td>0</td>\n",
       "      <td>40</td>\n",
       "    </tr>\n",
       "    <tr>\n",
       "      <th>4</th>\n",
       "      <td>18</td>\n",
       "      <td>0</td>\n",
       "      <td>0</td>\n",
       "      <td>30</td>\n",
       "    </tr>\n",
       "  </tbody>\n",
       "</table>\n",
       "</div>"
      ],
      "text/plain": [
       "   age  capital-gain  capital-loss  hours-per-week\n",
       "0   25             0             0              40\n",
       "1   38             0             0              50\n",
       "2   28             0             0              40\n",
       "3   44          7688             0              40\n",
       "4   18             0             0              30"
      ]
     },
     "execution_count": 3,
     "metadata": {},
     "output_type": "execute_result"
    }
   ],
   "source": [
    "data.head()"
   ]
  },
  {
   "cell_type": "code",
   "execution_count": 4,
   "id": "cdbfe008",
   "metadata": {},
   "outputs": [
    {
     "data": {
      "text/plain": [
       "0     <=50K\n",
       "1     <=50K\n",
       "2      >50K\n",
       "3      >50K\n",
       "4     <=50K\n",
       "Name: class, dtype: object"
      ]
     },
     "execution_count": 4,
     "metadata": {},
     "output_type": "execute_result"
    }
   ],
   "source": [
    "target.head()"
   ]
  },
  {
   "cell_type": "markdown",
   "id": "df43d070",
   "metadata": {},
   "source": [
    "Let's **create a simple predictive model** made of a **scaler** followed by a\n",
    "**logistic regression classifier**.\n",
    "\n",
    "As mentioned in previous notebooks, **many models**, including linear ones,\n",
    "**work better** if all **features have a similar scaling**. For this purpose,\n",
    "we use a `StandardScaler`, which transforms the data by rescaling features."
   ]
  },
  {
   "cell_type": "code",
   "execution_count": 5,
   "id": "77f9d8fb",
   "metadata": {},
   "outputs": [],
   "source": [
    "from sklearn.pipeline import Pipeline\n",
    "from sklearn.preprocessing import StandardScaler\n",
    "from sklearn.linear_model import LogisticRegression\n",
    "\n",
    "model = Pipeline(steps=[\n",
    "    (\"preprocessor\", StandardScaler()),\n",
    "    (\"classifier\", LogisticRegression())\n",
    "])"
   ]
  },
  {
   "cell_type": "markdown",
   "id": "44b3972e",
   "metadata": {},
   "source": [
    "We can **evaluate the statistical performance** of the model via\n",
    "**cross-validation**."
   ]
  },
  {
   "cell_type": "code",
   "execution_count": 6,
   "id": "ab098ba7",
   "metadata": {},
   "outputs": [
    {
     "name": "stdout",
     "output_type": "stream",
     "text": [
      "Accuracy score via cross-validation:\n",
      "0.800 +/- 0.003\n"
     ]
    }
   ],
   "source": [
    "from sklearn.model_selection import cross_validate\n",
    "\n",
    "cv_results = cross_validate(model, data, target)\n",
    "scores = cv_results[\"test_score\"]\n",
    "print(f\"Accuracy score via cross-validation:\\n\"\n",
    "      f\"{scores.mean():.3f} +/- {scores.std():.3f}\")"
   ]
  },
  {
   "cell_type": "markdown",
   "id": "7885deb2",
   "metadata": {},
   "source": [
    "We created a model with the default `C` value that is equal to 1. If we\n",
    "wanted to use a different **`C` parameter** we could have done so when we created\n",
    "the **`LogisticRegression`** object with something like `LogisticRegression(C=1e-3)`.\n",
    "\n",
    "We can also **change the parameter of a model** after it has been created with\n",
    "the **`set_params` method**, which is available for all scikit-learn estimators.\n",
    "For example, we can set `C=1e-3`, fit and evaluate the model:"
   ]
  },
  {
   "cell_type": "code",
   "execution_count": 7,
   "id": "2f5e15ef",
   "metadata": {},
   "outputs": [
    {
     "name": "stdout",
     "output_type": "stream",
     "text": [
      "Accuracy score via cross-validation:\n",
      "0.787 +/- 0.002\n"
     ]
    }
   ],
   "source": [
    "model.set_params(classifier__C=1e-3)\n",
    "cv_results = cross_validate(model, data, target)\n",
    "scores = cv_results[\"test_score\"]\n",
    "print(f\"Accuracy score via cross-validation:\\n\"\n",
    "      f\"{scores.mean():.3f} +/- {scores.std():.3f}\")"
   ]
  },
  {
   "cell_type": "markdown",
   "id": "97c11e4f",
   "metadata": {},
   "source": [
    "When the model of interest is a **`Pipeline`**, the **parameter names** are of the\n",
    "form **`<model_name>__<parameter_name>`** (note the **double underscore** in the\n",
    "middle). In our case with **`classifier__C`**, the **`classifier`** is the model name and comes from the `Pipeline` definition and **`C` is the parameter name of `LogisticRegression`**.\n",
    "\n",
    "In general, you can use the **`get_params` method** on scikit-learn models to\n",
    "**list all the parameters with their values**. For example, if you want to\n",
    "get all the parameter names, you can use:"
   ]
  },
  {
   "cell_type": "code",
   "execution_count": 8,
   "id": "1904581b",
   "metadata": {},
   "outputs": [
    {
     "name": "stdout",
     "output_type": "stream",
     "text": [
      "memory\n",
      "steps\n",
      "verbose\n",
      "preprocessor\n",
      "classifier\n",
      "preprocessor__copy\n",
      "preprocessor__with_mean\n",
      "preprocessor__with_std\n",
      "classifier__C\n",
      "classifier__class_weight\n",
      "classifier__dual\n",
      "classifier__fit_intercept\n",
      "classifier__intercept_scaling\n",
      "classifier__l1_ratio\n",
      "classifier__max_iter\n",
      "classifier__multi_class\n",
      "classifier__n_jobs\n",
      "classifier__penalty\n",
      "classifier__random_state\n",
      "classifier__solver\n",
      "classifier__tol\n",
      "classifier__verbose\n",
      "classifier__warm_start\n"
     ]
    }
   ],
   "source": [
    "for parameter in model.get_params():\n",
    "    print(parameter)"
   ]
  },
  {
   "cell_type": "markdown",
   "id": "7486b825",
   "metadata": {},
   "source": [
    "**`.get_params()` returns a `dict`** whose **keys** are the parameter names and whose\n",
    "**values** are the parameter values. If you want to **get the value of a single\n",
    "parameter, for example `classifier__C`**, you can use:"
   ]
  },
  {
   "cell_type": "code",
   "execution_count": 9,
   "id": "bf702f9d",
   "metadata": {},
   "outputs": [
    {
     "data": {
      "text/plain": [
       "0.001"
      ]
     },
     "execution_count": 9,
     "metadata": {},
     "output_type": "execute_result"
    }
   ],
   "source": [
    "model.get_params()['classifier__C']"
   ]
  },
  {
   "cell_type": "markdown",
   "id": "e398f582",
   "metadata": {},
   "source": [
    "We can **systematically vary the value of C** to see if there is an **optimal\n",
    "value**."
   ]
  },
  {
   "cell_type": "code",
   "execution_count": 10,
   "id": "15e7e7c5",
   "metadata": {},
   "outputs": [
    {
     "name": "stdout",
     "output_type": "stream",
     "text": [
      "Accuracy score via cross-validation with C=0.001:\n",
      "0.787 +/- 0.002\n",
      "Accuracy score via cross-validation with C=0.01:\n",
      "0.799 +/- 0.003\n",
      "Accuracy score via cross-validation with C=0.1:\n",
      "0.800 +/- 0.003\n",
      "Accuracy score via cross-validation with C=1:\n",
      "0.800 +/- 0.003\n",
      "Accuracy score via cross-validation with C=10:\n",
      "0.800 +/- 0.003\n"
     ]
    }
   ],
   "source": [
    "for C in [1e-3, 1e-2, 1e-1, 1, 10]:\n",
    "    model.set_params(classifier__C=C)\n",
    "    cv_results = cross_validate(model, data, target)\n",
    "    scores = cv_results[\"test_score\"]\n",
    "    print(f\"Accuracy score via cross-validation with C={C}:\\n\"\n",
    "          f\"{scores.mean():.3f} +/- {scores.std():.3f}\")"
   ]
  },
  {
   "cell_type": "markdown",
   "id": "a780df33",
   "metadata": {},
   "source": [
    "We can see that as long as **C is high enough**, the model seems to **perform\n",
    "well**.\n",
    "\n",
    "What we did here is very **manual**: it involves scanning the values for C\n",
    "and picking the best one manually. In the next lesson, we will see how\n",
    "to do this **automatically**.\n",
    "\n",
    "<div class=\"admonition warning alert alert-danger\">\n",
    "<p class=\"first admonition-title\" style=\"font-weight: bold;\">Warning</p>\n",
    "<p class=\"last\">When we evaluate a family of models on test data and pick the best\n",
    "performer, we can not trust the corresponding prediction accuracy, and\n",
    "we need to apply the selected model to new data. Indeed, the test data\n",
    "has been used to select the model, and it is thus no longer independent\n",
    "from this model.</p>\n",
    "</div>"
   ]
  },
  {
   "cell_type": "markdown",
   "id": "8df7cb1c",
   "metadata": {},
   "source": [
    "In this notebook we have seen:\n",
    "\n",
    "- how to use **`get_params`** and **`set_params`** to get the parameters of a model\n",
    "  and set them."
   ]
  },
  {
   "cell_type": "code",
   "execution_count": null,
   "id": "e0e52e68",
   "metadata": {},
   "outputs": [],
   "source": []
  }
 ],
 "metadata": {
  "jupytext": {
   "cell_metadata_filter": "-all",
   "main_language": "python",
   "notebook_metadata_filter": "-all"
  },
  "kernelspec": {
   "display_name": "Python 3",
   "language": "python",
   "name": "python3"
  },
  "language_info": {
   "codemirror_mode": {
    "name": "ipython",
    "version": 3
   },
   "file_extension": ".py",
   "mimetype": "text/x-python",
   "name": "python",
   "nbconvert_exporter": "python",
   "pygments_lexer": "ipython3",
   "version": "3.9.2"
  },
  "nbreset": "https://github.com/INRIA/scikit-learn-mooc/raw/master/notebooks/parameter_tuning_manual.ipynb"
 },
 "nbformat": 4,
 "nbformat_minor": 5
}
